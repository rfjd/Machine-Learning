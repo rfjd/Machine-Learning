{
 "cells": [
  {
   "cell_type": "markdown",
   "id": "76cc2f3c",
   "metadata": {},
   "source": [
    "# Machine Learning stuff (computations, plotting, data loading...)!"
   ]
  },
  {
   "cell_type": "code",
   "execution_count": 56,
   "id": "64da75e2",
   "metadata": {},
   "outputs": [],
   "source": [
    "import numpy as np\n",
    "import math\n",
    "import matplotlib.pyplot as plt\n",
    "plt.rcParams['text.usetex'] = True\n",
    "plt.rcParams.update({'font.size': 14})"
   ]
  },
  {
   "cell_type": "markdown",
   "id": "e0ff92e1",
   "metadata": {},
   "source": [
    "# LINEAR REGRESSION"
   ]
  },
  {
   "cell_type": "markdown",
   "id": "bf526fa8",
   "metadata": {},
   "source": [
    "## Cost function\n",
    "\n",
    "$$J(\\mathbf{w},b)=\\frac{1}{2m}\\sum_{i=0}^{m-1}\\left(f_{\\mathbf{w},b}(\\mathbf{x}^{(i)})-y^{(i)}\\right)^2,$$\n",
    "where $\\mathbf{w}$ and $\\mathbf{y}$ are (row) vectors of sizes $n$ (number of features) and $m$ (number of training sets), respectively. The $m\\times n$ matrix $\\mathbf{x}$ stores the training data set. The linear model is\n",
    "$$f_{\\mathbf{w},b}(\\mathbf{x}^{(i)})=\\mathbf{w}\\cdot\\mathbf{x}^{(i)}+b.$$"
   ]
  },
  {
   "cell_type": "code",
   "execution_count": 57,
   "id": "5d27ff05",
   "metadata": {},
   "outputs": [],
   "source": [
    "def linear_regression_cost(x,y,w,b):\n",
    "    m = x.shape[0]\n",
    "    cost = 0\n",
    "    \n",
    "    for i in range(m):\n",
    "        cost += np.power(np.dot(w,x[i])+b-y[i],2)\n",
    "        \n",
    "    cost /= 2*m\n",
    "\n",
    "    return cost"
   ]
  },
  {
   "cell_type": "markdown",
   "id": "ad38b734",
   "metadata": {},
   "source": [
    "## Gradient of cost function\n",
    "$$\\frac{\\partial J(\\mathbf{w},b)}{\\partial w_j}=\\frac{1}{m}\\sum_{i=0}^{m-1}\\left(f_{\\mathbf{w},b}(\\mathbf{x}^{(i)})-y^{(i)}\\right)x^{(i)}_j,\\quad \\frac{\\partial J(\\mathbf{w},b)}{\\partial b}=\\frac{1}{m}\\sum_{i=0}^{m-1}\\left(f_{\\mathbf{w},b}(\\mathbf{x}^{(i)})-y^{(i)}\\right)$$"
   ]
  },
  {
   "cell_type": "code",
   "execution_count": 58,
   "id": "70206ee3",
   "metadata": {},
   "outputs": [],
   "source": [
    "def linear_regression_gradient(x,y,w,b):\n",
    "    m,n = x.shape\n",
    "    \n",
    "    dJ_dw = np.zeros(n)\n",
    "    dJ_db = 0\n",
    "    \n",
    "    for i in range(m):\n",
    "        arg = np.dot(x[i],w)+b-y[i]\n",
    "        for j in range(n):\n",
    "            dJ_dw[j] += arg*x[i,j]\n",
    "        dJ_db += arg\n",
    "        \n",
    "    dJ_dw /= m\n",
    "    dJ_db /= m\n",
    "    \n",
    "    return dJ_dw, dJ_db"
   ]
  },
  {
   "cell_type": "markdown",
   "id": "c02061b6",
   "metadata": {},
   "source": [
    "## Gradient descent\n",
    "$$w_j:=w_j-\\alpha\\frac{\\partial J(\\mathbf{w},b)}{\\partial w_j},\\quad b:=b-\\alpha\\frac{\\partial J(\\mathbf{w},b)}{\\partial b}$$"
   ]
  },
  {
   "cell_type": "code",
   "execution_count": 2,
   "id": "3a091ba4",
   "metadata": {},
   "outputs": [],
   "source": [
    "def gradient_descent(x,y,w0,b0,alpha,numberIterations,cost_function,gradient_function):\n",
    "    w = w0\n",
    "    b = b0\n",
    "    \n",
    "    J = np.array([]) # cost data will be saved\n",
    "    for i in range(numberIterations):\n",
    "        dJ_dw, dJ_db = gradient_function(x,y,w,b)\n",
    "        \n",
    "        w += -alpha*dJ_dw\n",
    "        b += -alpha*dJ_db\n",
    "        \n",
    "        J = np.append(J, cost_function(x,y,w,b))\n",
    "        # display cost for a total of 10 times\n",
    "        if i % math.ceil(numberIterations/10) == 0:\n",
    "            print(f\"Iteration {i:6d}: Cost = {J[-1]:5.5f}\")\n",
    "        \n",
    "    \n",
    "    return w, b, J"
   ]
  },
  {
   "cell_type": "markdown",
   "id": "4294c7a6",
   "metadata": {},
   "source": [
    "## Prediction\n",
    "$$\\hat{y}^{(i)}=\\mathbf{w}\\cdot\\mathbf{x}^{(i)}+b$$"
   ]
  },
  {
   "cell_type": "code",
   "execution_count": 80,
   "id": "58583b49",
   "metadata": {},
   "outputs": [],
   "source": [
    "def prediction_linear_regression(w,b,x):\n",
    "    m = x.shape[0]\n",
    "    yhat = np.zeros(m)\n",
    "    \n",
    "    for i in range(m):\n",
    "        yhat[i] = np.dot(x[i],w)+b\n",
    "        \n",
    "    return yhat"
   ]
  }
 ],
 "metadata": {
  "kernelspec": {
   "display_name": "Python 3 (ipykernel)",
   "language": "python",
   "name": "python3"
  },
  "language_info": {
   "codemirror_mode": {
    "name": "ipython",
    "version": 3
   },
   "file_extension": ".py",
   "mimetype": "text/x-python",
   "name": "python",
   "nbconvert_exporter": "python",
   "pygments_lexer": "ipython3",
   "version": "3.8.10"
  }
 },
 "nbformat": 4,
 "nbformat_minor": 5
}
