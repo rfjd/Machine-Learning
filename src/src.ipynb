{
 "cells": [
  {
   "cell_type": "markdown",
   "id": "76cc2f3c",
   "metadata": {},
   "source": [
    "# Machine Learning stuff (computations, plotting, data loading...)!"
   ]
  },
  {
   "cell_type": "code",
   "execution_count": 2,
   "id": "64da75e2",
   "metadata": {},
   "outputs": [],
   "source": [
    "import numpy as np"
   ]
  },
  {
   "cell_type": "markdown",
   "id": "e0ff92e1",
   "metadata": {},
   "source": [
    "# LINEAR REGRESSION"
   ]
  },
  {
   "cell_type": "markdown",
   "id": "bf526fa8",
   "metadata": {},
   "source": [
    "## Cost function\n",
    "\n",
    "$$J(\\mathbf{w},b)=\\frac{1}{2m}\\sum_{i=0}^{m-1}\\left(f_{\\mathbf{w},b}(\\mathbf{x}^{(i)})-y^{(i)}\\right)^2,$$\n",
    "where $\\mathbf{w}$ and $\\mathbf{y}$ are (row) vectors of sizes $n$ (number of features) and $m$ (number of training sets), respectively. The $m\\times n$ matrix $\\mathbf{x}$ stores the training data set. The linear model is\n",
    "$$f_{\\mathbf{w},b}(\\mathbf{x}^{(i)})=\\mathbf{w}\\cdot\\mathbf{x}+b.$$"
   ]
  },
  {
   "cell_type": "code",
   "execution_count": 1,
   "id": "5d27ff05",
   "metadata": {},
   "outputs": [],
   "source": [
    "def cost_linear_regression(x,y,w,b):\n",
    "    m = x.shape[0]\n",
    "    cost = 0\n",
    "    \n",
    "    for i in range(m):\n",
    "        cost += np.power(np.dot(w,x[i])+b-y[i],2)\n",
    "        \n",
    "    cost /= 2*m\n",
    "\n",
    "    return cost"
   ]
  },
  {
   "cell_type": "markdown",
   "id": "ad38b734",
   "metadata": {},
   "source": [
    "## Gradient of cost function\n",
    "$$\\frac{\\partial J(\\mathbf{w},b)}{\\partial w_j}=\\frac{1}{m}\\sum_{i=0}^{m-1}\\left(f_{\\mathbf{w},b}(\\mathbf{x}^{(i)})-y^{(i)}\\right)x^{(i)}_j,\\quad \\frac{\\partial J(\\mathbf{w},b)}{\\partial b}=\\frac{1}{m}\\sum_{i=0}^{m-1}\\left(f_{\\mathbf{w},b}(\\mathbf{x}^{(i)})-y^{(i)}\\right)$$"
   ]
  },
  {
   "cell_type": "code",
   "execution_count": null,
   "id": "70206ee3",
   "metadata": {},
   "outputs": [],
   "source": [
    "def gradient_linear_regression(x,y,w,b):\n",
    "    m,n = x.shape\n",
    "    \n",
    "    dJ_dw = np.zeros(n)\n",
    "    dJ_db = 0\n",
    "    \n",
    "    for i in range(m):\n",
    "        arg = np.dot(x[i],w)+b-y[i]\n",
    "        for j in range(n):\n",
    "            dJ_dw[j] += arg*x[i,j]\n",
    "        dJ_db[i] += arg\n",
    "        \n",
    "    dJ_dw /= m\n",
    "    dJ_db /= m\n",
    "    \n",
    "    return dJ_dw, dJ_db"
   ]
  }
 ],
 "metadata": {
  "kernelspec": {
   "display_name": "Python 3 (ipykernel)",
   "language": "python",
   "name": "python3"
  },
  "language_info": {
   "codemirror_mode": {
    "name": "ipython",
    "version": 3
   },
   "file_extension": ".py",
   "mimetype": "text/x-python",
   "name": "python",
   "nbconvert_exporter": "python",
   "pygments_lexer": "ipython3",
   "version": "3.8.10"
  }
 },
 "nbformat": 4,
 "nbformat_minor": 5
}
