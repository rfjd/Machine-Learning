{
 "cells": [
  {
   "cell_type": "markdown",
   "id": "76cc2f3c",
   "metadata": {},
   "source": [
    "# Machine Learning stuff (computations, plotting, data loading...)!"
   ]
  },
  {
   "cell_type": "code",
   "execution_count": 4,
   "id": "64da75e2",
   "metadata": {},
   "outputs": [],
   "source": [
    "import numpy as np"
   ]
  },
  {
   "cell_type": "markdown",
   "id": "bf526fa8",
   "metadata": {},
   "source": [
    "## Cost function for linear regression\n",
    "\n",
    "$$J(\\mathbf{w},b)=\\frac{1}{2m}\\sum_{i=0}^{m-1}\\left(f_{\\mathbf{w},b}(\\mathbf{x}^{(i)})-y^{(i)}\\right)^2,$$\n",
    "where $\\mathbf{w}$ and $\\mathbf{y}$ are (row) vectors of sizes $n$ (number of features) and $m$ (number of training sets), respectively. The $m\\times n$ matrix $\\mathbf{x}$ stores the training data set. The linear model is\n",
    "$$f_{\\mathbf{w},b}(\\mathbf{x}^{(i)})=\\mathbf{w}\\cdot\\mathbf{x}+b.$$"
   ]
  },
  {
   "cell_type": "code",
   "execution_count": 14,
   "id": "5d27ff05",
   "metadata": {},
   "outputs": [],
   "source": [
    "def cost_linear_regression(x,y,w,b):\n",
    "    m = x.shape[0]\n",
    "    cost = 0\n",
    "    \n",
    "    for i in range(m):\n",
    "        cost += np.power(np.dot(w,x[i])+b-y[i],2)\n",
    "        \n",
    "    cost /= 2*m\n",
    "\n",
    "    return cost"
   ]
  }
 ],
 "metadata": {
  "kernelspec": {
   "display_name": "Python 3 (ipykernel)",
   "language": "python",
   "name": "python3"
  },
  "language_info": {
   "codemirror_mode": {
    "name": "ipython",
    "version": 3
   },
   "file_extension": ".py",
   "mimetype": "text/x-python",
   "name": "python",
   "nbconvert_exporter": "python",
   "pygments_lexer": "ipython3",
   "version": "3.8.10"
  }
 },
 "nbformat": 4,
 "nbformat_minor": 5
}
