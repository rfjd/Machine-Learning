{
 "cells": [
  {
   "cell_type": "markdown",
   "id": "70e8e6d1",
   "metadata": {},
   "source": [
    "# Heart Failure Prediction\n",
    "Please see the corresponding [kaggle](https://www.kaggle.com/datasets/cherngs/heart-disease-cleveland-uci) link for the details."
   ]
  },
  {
   "cell_type": "markdown",
   "id": "364f5a2f",
   "metadata": {},
   "source": [
    "## Approach: decision trees"
   ]
  },
  {
   "cell_type": "code",
   "execution_count": 1,
   "id": "a6069ae0",
   "metadata": {},
   "outputs": [],
   "source": [
    "import numpy as np\n",
    "import matplotlib.pyplot as plt\n",
    "import pandas as pd\n",
    "from xgboost import XGBClassifier\n",
    "from sklearn.model_selection import train_test_split\n",
    "\n",
    "plt.rcParams['text.usetex'] = True\n",
    "plt.rcParams.update({'font.size': 14})"
   ]
  },
  {
   "cell_type": "code",
   "execution_count": 2,
   "id": "395e5f64",
   "metadata": {},
   "outputs": [
    {
     "data": {
      "text/html": [
       "<div>\n",
       "<style scoped>\n",
       "    .dataframe tbody tr th:only-of-type {\n",
       "        vertical-align: middle;\n",
       "    }\n",
       "\n",
       "    .dataframe tbody tr th {\n",
       "        vertical-align: top;\n",
       "    }\n",
       "\n",
       "    .dataframe thead th {\n",
       "        text-align: right;\n",
       "    }\n",
       "</style>\n",
       "<table border=\"1\" class=\"dataframe\">\n",
       "  <thead>\n",
       "    <tr style=\"text-align: right;\">\n",
       "      <th></th>\n",
       "      <th>age</th>\n",
       "      <th>sex</th>\n",
       "      <th>cp</th>\n",
       "      <th>trestbps</th>\n",
       "      <th>chol</th>\n",
       "      <th>fbs</th>\n",
       "      <th>restecg</th>\n",
       "      <th>thalach</th>\n",
       "      <th>exang</th>\n",
       "      <th>oldpeak</th>\n",
       "      <th>slope</th>\n",
       "      <th>ca</th>\n",
       "      <th>thal</th>\n",
       "      <th>target</th>\n",
       "    </tr>\n",
       "  </thead>\n",
       "  <tbody>\n",
       "    <tr>\n",
       "      <th>0</th>\n",
       "      <td>63</td>\n",
       "      <td>1</td>\n",
       "      <td>0</td>\n",
       "      <td>145</td>\n",
       "      <td>233</td>\n",
       "      <td>1</td>\n",
       "      <td>2</td>\n",
       "      <td>150</td>\n",
       "      <td>0</td>\n",
       "      <td>2.3</td>\n",
       "      <td>2</td>\n",
       "      <td>0</td>\n",
       "      <td>2</td>\n",
       "      <td>0</td>\n",
       "    </tr>\n",
       "    <tr>\n",
       "      <th>1</th>\n",
       "      <td>67</td>\n",
       "      <td>1</td>\n",
       "      <td>3</td>\n",
       "      <td>160</td>\n",
       "      <td>286</td>\n",
       "      <td>0</td>\n",
       "      <td>2</td>\n",
       "      <td>108</td>\n",
       "      <td>1</td>\n",
       "      <td>1.5</td>\n",
       "      <td>1</td>\n",
       "      <td>3</td>\n",
       "      <td>1</td>\n",
       "      <td>1</td>\n",
       "    </tr>\n",
       "    <tr>\n",
       "      <th>2</th>\n",
       "      <td>67</td>\n",
       "      <td>1</td>\n",
       "      <td>3</td>\n",
       "      <td>120</td>\n",
       "      <td>229</td>\n",
       "      <td>0</td>\n",
       "      <td>2</td>\n",
       "      <td>129</td>\n",
       "      <td>1</td>\n",
       "      <td>2.6</td>\n",
       "      <td>1</td>\n",
       "      <td>2</td>\n",
       "      <td>3</td>\n",
       "      <td>1</td>\n",
       "    </tr>\n",
       "    <tr>\n",
       "      <th>3</th>\n",
       "      <td>37</td>\n",
       "      <td>1</td>\n",
       "      <td>2</td>\n",
       "      <td>130</td>\n",
       "      <td>250</td>\n",
       "      <td>0</td>\n",
       "      <td>0</td>\n",
       "      <td>187</td>\n",
       "      <td>0</td>\n",
       "      <td>3.5</td>\n",
       "      <td>2</td>\n",
       "      <td>0</td>\n",
       "      <td>1</td>\n",
       "      <td>0</td>\n",
       "    </tr>\n",
       "    <tr>\n",
       "      <th>4</th>\n",
       "      <td>41</td>\n",
       "      <td>0</td>\n",
       "      <td>1</td>\n",
       "      <td>130</td>\n",
       "      <td>204</td>\n",
       "      <td>0</td>\n",
       "      <td>2</td>\n",
       "      <td>172</td>\n",
       "      <td>0</td>\n",
       "      <td>1.4</td>\n",
       "      <td>0</td>\n",
       "      <td>0</td>\n",
       "      <td>1</td>\n",
       "      <td>0</td>\n",
       "    </tr>\n",
       "  </tbody>\n",
       "</table>\n",
       "</div>"
      ],
      "text/plain": [
       "   age  sex  cp  trestbps  chol  fbs  restecg  thalach  exang  oldpeak  slope  \\\n",
       "0   63    1   0       145   233    1        2      150      0      2.3      2   \n",
       "1   67    1   3       160   286    0        2      108      1      1.5      1   \n",
       "2   67    1   3       120   229    0        2      129      1      2.6      1   \n",
       "3   37    1   2       130   250    0        0      187      0      3.5      2   \n",
       "4   41    0   1       130   204    0        2      172      0      1.4      0   \n",
       "\n",
       "   ca  thal  target  \n",
       "0   0     2       0  \n",
       "1   3     1       1  \n",
       "2   2     3       1  \n",
       "3   0     1       0  \n",
       "4   0     1       0  "
      ]
     },
     "execution_count": 2,
     "metadata": {},
     "output_type": "execute_result"
    }
   ],
   "source": [
    "data = pd.read_csv(\"heart_disease_cleveland.csv\")\n",
    "data.head(5)"
   ]
  },
  {
   "cell_type": "markdown",
   "id": "c5a5d20e",
   "metadata": {},
   "source": [
    "## Let us evaluate the data a little bit"
   ]
  },
  {
   "cell_type": "code",
   "execution_count": 3,
   "id": "9c02c8e5",
   "metadata": {},
   "outputs": [
    {
     "name": "stdout",
     "output_type": "stream",
     "text": [
      "total data shape: (303, 14)\n",
      "feature age                 : unique values = 41\n",
      "feature sex                 : unique values = 2\n",
      "feature cp                  : unique values = 4\n",
      "feature trestbps            : unique values = 50\n",
      "feature chol                : unique values = 152\n",
      "feature fbs                 : unique values = 2\n",
      "feature restecg             : unique values = 3\n",
      "feature thalach             : unique values = 91\n",
      "feature exang               : unique values = 2\n",
      "feature oldpeak             : unique values = 40\n",
      "feature slope               : unique values = 3\n",
      "feature ca                  : unique values = 4\n",
      "feature thal                : unique values = 3\n",
      "feature target              : unique values = 2\n"
     ]
    }
   ],
   "source": [
    "print(f\"total data shape: {data.shape}\")\n",
    "\n",
    "nums = []# unique possibilities for each feature\n",
    "for feature in data.columns:\n",
    "    num = len(data.loc[:,feature].unique())\n",
    "    nums.append(num)\n",
    "    print(f\"feature {feature:20s}: unique values = {num}\")"
   ]
  },
  {
   "cell_type": "markdown",
   "id": "ac78c36f",
   "metadata": {},
   "source": [
    "### One-hot encoding\n",
    "We first translate categorical features with more than 2 classes into several binary features."
   ]
  },
  {
   "cell_type": "code",
   "execution_count": 4,
   "id": "85eeb042",
   "metadata": {},
   "outputs": [
    {
     "name": "stdout",
     "output_type": "stream",
     "text": [
      "The multiclass categorical features are:\n",
      "['cp', 'restecg', 'slope', 'ca', 'thal']\n",
      "modified data shape: (303, 26)\n",
      "number of features: 25\n",
      "number of examples: 303\n"
     ]
    },
    {
     "data": {
      "text/html": [
       "<div>\n",
       "<style scoped>\n",
       "    .dataframe tbody tr th:only-of-type {\n",
       "        vertical-align: middle;\n",
       "    }\n",
       "\n",
       "    .dataframe tbody tr th {\n",
       "        vertical-align: top;\n",
       "    }\n",
       "\n",
       "    .dataframe thead th {\n",
       "        text-align: right;\n",
       "    }\n",
       "</style>\n",
       "<table border=\"1\" class=\"dataframe\">\n",
       "  <thead>\n",
       "    <tr style=\"text-align: right;\">\n",
       "      <th></th>\n",
       "      <th>age</th>\n",
       "      <th>sex</th>\n",
       "      <th>trestbps</th>\n",
       "      <th>chol</th>\n",
       "      <th>fbs</th>\n",
       "      <th>thalach</th>\n",
       "      <th>exang</th>\n",
       "      <th>oldpeak</th>\n",
       "      <th>target</th>\n",
       "      <th>cp_0</th>\n",
       "      <th>...</th>\n",
       "      <th>slope_0</th>\n",
       "      <th>slope_1</th>\n",
       "      <th>slope_2</th>\n",
       "      <th>ca_0</th>\n",
       "      <th>ca_1</th>\n",
       "      <th>ca_2</th>\n",
       "      <th>ca_3</th>\n",
       "      <th>thal_1</th>\n",
       "      <th>thal_2</th>\n",
       "      <th>thal_3</th>\n",
       "    </tr>\n",
       "  </thead>\n",
       "  <tbody>\n",
       "    <tr>\n",
       "      <th>0</th>\n",
       "      <td>63</td>\n",
       "      <td>1</td>\n",
       "      <td>145</td>\n",
       "      <td>233</td>\n",
       "      <td>1</td>\n",
       "      <td>150</td>\n",
       "      <td>0</td>\n",
       "      <td>2.3</td>\n",
       "      <td>0</td>\n",
       "      <td>1</td>\n",
       "      <td>...</td>\n",
       "      <td>0</td>\n",
       "      <td>0</td>\n",
       "      <td>1</td>\n",
       "      <td>1</td>\n",
       "      <td>0</td>\n",
       "      <td>0</td>\n",
       "      <td>0</td>\n",
       "      <td>0</td>\n",
       "      <td>1</td>\n",
       "      <td>0</td>\n",
       "    </tr>\n",
       "    <tr>\n",
       "      <th>1</th>\n",
       "      <td>67</td>\n",
       "      <td>1</td>\n",
       "      <td>160</td>\n",
       "      <td>286</td>\n",
       "      <td>0</td>\n",
       "      <td>108</td>\n",
       "      <td>1</td>\n",
       "      <td>1.5</td>\n",
       "      <td>1</td>\n",
       "      <td>0</td>\n",
       "      <td>...</td>\n",
       "      <td>0</td>\n",
       "      <td>1</td>\n",
       "      <td>0</td>\n",
       "      <td>0</td>\n",
       "      <td>0</td>\n",
       "      <td>0</td>\n",
       "      <td>1</td>\n",
       "      <td>1</td>\n",
       "      <td>0</td>\n",
       "      <td>0</td>\n",
       "    </tr>\n",
       "    <tr>\n",
       "      <th>2</th>\n",
       "      <td>67</td>\n",
       "      <td>1</td>\n",
       "      <td>120</td>\n",
       "      <td>229</td>\n",
       "      <td>0</td>\n",
       "      <td>129</td>\n",
       "      <td>1</td>\n",
       "      <td>2.6</td>\n",
       "      <td>1</td>\n",
       "      <td>0</td>\n",
       "      <td>...</td>\n",
       "      <td>0</td>\n",
       "      <td>1</td>\n",
       "      <td>0</td>\n",
       "      <td>0</td>\n",
       "      <td>0</td>\n",
       "      <td>1</td>\n",
       "      <td>0</td>\n",
       "      <td>0</td>\n",
       "      <td>0</td>\n",
       "      <td>1</td>\n",
       "    </tr>\n",
       "    <tr>\n",
       "      <th>3</th>\n",
       "      <td>37</td>\n",
       "      <td>1</td>\n",
       "      <td>130</td>\n",
       "      <td>250</td>\n",
       "      <td>0</td>\n",
       "      <td>187</td>\n",
       "      <td>0</td>\n",
       "      <td>3.5</td>\n",
       "      <td>0</td>\n",
       "      <td>0</td>\n",
       "      <td>...</td>\n",
       "      <td>0</td>\n",
       "      <td>0</td>\n",
       "      <td>1</td>\n",
       "      <td>1</td>\n",
       "      <td>0</td>\n",
       "      <td>0</td>\n",
       "      <td>0</td>\n",
       "      <td>1</td>\n",
       "      <td>0</td>\n",
       "      <td>0</td>\n",
       "    </tr>\n",
       "    <tr>\n",
       "      <th>4</th>\n",
       "      <td>41</td>\n",
       "      <td>0</td>\n",
       "      <td>130</td>\n",
       "      <td>204</td>\n",
       "      <td>0</td>\n",
       "      <td>172</td>\n",
       "      <td>0</td>\n",
       "      <td>1.4</td>\n",
       "      <td>0</td>\n",
       "      <td>0</td>\n",
       "      <td>...</td>\n",
       "      <td>1</td>\n",
       "      <td>0</td>\n",
       "      <td>0</td>\n",
       "      <td>1</td>\n",
       "      <td>0</td>\n",
       "      <td>0</td>\n",
       "      <td>0</td>\n",
       "      <td>1</td>\n",
       "      <td>0</td>\n",
       "      <td>0</td>\n",
       "    </tr>\n",
       "  </tbody>\n",
       "</table>\n",
       "<p>5 rows × 26 columns</p>\n",
       "</div>"
      ],
      "text/plain": [
       "   age  sex  trestbps  chol  fbs  thalach  exang  oldpeak  target  cp_0  ...  \\\n",
       "0   63    1       145   233    1      150      0      2.3       0     1  ...   \n",
       "1   67    1       160   286    0      108      1      1.5       1     0  ...   \n",
       "2   67    1       120   229    0      129      1      2.6       1     0  ...   \n",
       "3   37    1       130   250    0      187      0      3.5       0     0  ...   \n",
       "4   41    0       130   204    0      172      0      1.4       0     0  ...   \n",
       "\n",
       "   slope_0  slope_1  slope_2  ca_0  ca_1  ca_2  ca_3  thal_1  thal_2  thal_3  \n",
       "0        0        0        1     1     0     0     0       0       1       0  \n",
       "1        0        1        0     0     0     0     1       1       0       0  \n",
       "2        0        1        0     0     0     1     0       0       0       1  \n",
       "3        0        0        1     1     0     0     0       1       0       0  \n",
       "4        1        0        0     1     0     0     0       1       0       0  \n",
       "\n",
       "[5 rows x 26 columns]"
      ]
     },
     "execution_count": 4,
     "metadata": {},
     "output_type": "execute_result"
    }
   ],
   "source": [
    "cat_features = ['cp','restecg','slope','ca','thal']\n",
    "print(f\"The multiclass categorical features are:\\n{cat_features}\")\n",
    "dataOHE = pd.get_dummies(data = data, prefix = cat_features, columns = cat_features)\n",
    "\n",
    "print(f\"modified data shape: {dataOHE.shape}\")\n",
    "print(f\"number of features: {dataOHE.shape[1]-1}\")\n",
    "print(f\"number of examples: {dataOHE.shape[0]}\")\n",
    "\n",
    "dataOHE.head(5)"
   ]
  },
  {
   "cell_type": "code",
   "execution_count": 5,
   "id": "aaaf2993",
   "metadata": {},
   "outputs": [
    {
     "name": "stdout",
     "output_type": "stream",
     "text": [
      "total number of features after one-hot encoding: 25\n"
     ]
    }
   ],
   "source": [
    "features = [x for x in dataOHE.columns if x != 'target'] ## Removing our target variable\n",
    "print(f\"total number of features after one-hot encoding: {len(features)}\")"
   ]
  },
  {
   "cell_type": "markdown",
   "id": "fbdf8ddf",
   "metadata": {},
   "source": [
    "### Split the data using Scikit-learn"
   ]
  },
  {
   "cell_type": "code",
   "execution_count": 6,
   "id": "bdcb2d7d",
   "metadata": {},
   "outputs": [
    {
     "name": "stdout",
     "output_type": "stream",
     "text": [
      "X_train.shape = (242, 25), X_dev.shape = (61, 25)\n",
      "y_train.shape = (242,), y_dev.shape = (61,)\n"
     ]
    }
   ],
   "source": [
    "X_train, X_dev, y_train, y_dev = train_test_split(dataOHE[features],dataOHE['target'],train_size=0.8, random_state=1)\n",
    "print(f\"X_train.shape = {X_train.shape}, X_dev.shape = {X_dev.shape}\")\n",
    "print(f\"y_train.shape = {y_train.shape}, y_dev.shape = {y_dev.shape}\")"
   ]
  },
  {
   "cell_type": "markdown",
   "id": "8b3498a0",
   "metadata": {},
   "source": [
    "## XGBoost"
   ]
  },
  {
   "cell_type": "code",
   "execution_count": 7,
   "id": "642341de",
   "metadata": {},
   "outputs": [
    {
     "name": "stdout",
     "output_type": "stream",
     "text": [
      "train: Accuracy score: 99.59%\n",
      "dev  : Accuracy score: 80.33%\n"
     ]
    }
   ],
   "source": [
    "n_estimators = 100 # default val (number of decision trees in the ensemble)\n",
    "early_stopping_rounds = 20 # patience on stopping criteria\n",
    "learning_rate = 0.1 # learning rate of the Gradient Descent\n",
    "max_depth = 6 # max depth of the trees\n",
    "lambda_ = 0 # regularization parameter\n",
    "model = XGBClassifier(n_estimators = n_estimators, learning_rate = learning_rate,\n",
    "                      verbosity = 0, random_state = 1, early_stopping_rounds = early_stopping_rounds,\n",
    "                      max_depth = max_depth,alpha=lambda_)\n",
    "model.fit(X_train,y_train, eval_set = [(X_dev,y_dev)],verbose=False)\n",
    "\n",
    "from sklearn.metrics import accuracy_score # the same np.mean(yhat==y)*100\n",
    "print(f\"train: Accuracy score: {accuracy_score(model.predict(X_train),y_train)*100:.2f}%\")\n",
    "print(f\"dev  : Accuracy score: {accuracy_score(model.predict(X_dev),y_dev)*100:.2f}%\")"
   ]
  },
  {
   "cell_type": "markdown",
   "id": "81646d7a",
   "metadata": {},
   "source": [
    "### Analysis\n",
    "The model clearly suffers from overfitting!"
   ]
  },
  {
   "cell_type": "markdown",
   "id": "4e734703",
   "metadata": {},
   "source": [
    "### Investigate the impact of regularization parameter"
   ]
  },
  {
   "cell_type": "code",
   "execution_count": 8,
   "id": "a2e4a945",
   "metadata": {},
   "outputs": [
    {
     "data": {
      "image/png": "[encoded data removed]",
      "text/plain": [
       "<Figure size 600x400 with 1 Axes>"
      ]
     },
     "metadata": {},
     "output_type": "display_data"
    }
   ],
   "source": [
    "lambdas = [0, 0.01, 0.05, 0.1, 0.5, 1, 2, 5, 7, 10, 15, 20]\n",
    "max_depth = 4\n",
    "n_estimators = 100\n",
    "train_acc = []\n",
    "dev_acc = []\n",
    "for lambda_ in lambdas:\n",
    "    model = XGBClassifier(n_estimators = n_estimators, learning_rate = learning_rate,\n",
    "                      verbosity = 0, random_state = 1, early_stopping_rounds = early_stopping_rounds,\n",
    "                      max_depth = max_depth, alpha=lambda_)\n",
    "    model.fit(X_train,y_train, eval_set = [(X_dev,y_dev)],verbose=False)\n",
    "    train_acc.append(accuracy_score(model.predict(X_train),y_train)*100)\n",
    "    dev_acc.append(accuracy_score(model.predict(X_dev),y_dev)*100)\n",
    "    \n",
    "\n",
    "\n",
    "plt.figure(figsize=(6,4))\n",
    "plt.plot(lambdas,train_acc,'xr',label='train')\n",
    "plt.plot(lambdas,dev_acc,'ob',label='dev')\n",
    "plt.xlabel('$\\lambda$')\n",
    "plt.ylabel('Prediction accuracy (\\%)')\n",
    "plt.legend(frameon=False)\n",
    "plt.show()"
   ]
  },
  {
   "cell_type": "markdown",
   "id": "13ad6bc5",
   "metadata": {},
   "source": [
    "### Analysis\n",
    "It appears that $\\lambda=10$ provides the best outcome."
   ]
  },
  {
   "cell_type": "markdown",
   "id": "23c755e8",
   "metadata": {},
   "source": [
    "### Investigate the impact of max depth"
   ]
  },
  {
   "cell_type": "code",
   "execution_count": 9,
   "id": "25dee698",
   "metadata": {},
   "outputs": [
    {
     "data": {
      "image/png": "[encoded data removed]",
      "text/plain": [
       "<Figure size 600x400 with 1 Axes>"
      ]
     },
     "metadata": {},
     "output_type": "display_data"
    }
   ],
   "source": [
    "lambda_ = 10\n",
    "max_depths = range(1,11)\n",
    "n_estimators = 100\n",
    "train_acc = []\n",
    "dev_acc = []\n",
    "for max_depth in max_depths:\n",
    "    model = XGBClassifier(n_estimators = n_estimators, learning_rate = learning_rate,\n",
    "                      verbosity = 0, random_state = 1, early_stopping_rounds = early_stopping_rounds,\n",
    "                      max_depth = max_depth, alpha=lambda_)\n",
    "    model.fit(X_train,y_train, eval_set = [(X_dev,y_dev)],verbose=False)\n",
    "    train_acc.append(accuracy_score(model.predict(X_train),y_train)*100)\n",
    "    dev_acc.append(accuracy_score(model.predict(X_dev),y_dev)*100)\n",
    "    \n",
    "\n",
    "plt.figure(figsize=(6,4))\n",
    "plt.plot(max_depths,train_acc,'xr',label='train')\n",
    "plt.plot(max_depths,dev_acc,'ob',label='dev')\n",
    "plt.xlabel('maximum depth')\n",
    "plt.ylabel('Prediction accuracy (\\%)')\n",
    "plt.legend(frameon=False)\n",
    "plt.show()"
   ]
  },
  {
   "cell_type": "markdown",
   "id": "0a6866fe",
   "metadata": {},
   "source": [
    "### Analysis\n",
    "Clearly, a maximum depth of $2$ provides the best outcome. So, we set $\\lambda=10$ and maximum depth equal to $2$. "
   ]
  },
  {
   "cell_type": "code",
   "execution_count": 11,
   "id": "6f94e4a0",
   "metadata": {},
   "outputs": [
    {
     "name": "stdout",
     "output_type": "stream",
     "text": [
      "train: Accuracy score: 88.02%\n",
      "dev  : Accuracy score: 86.89%\n"
     ]
    }
   ],
   "source": [
    "max_depth = 2\n",
    "lambda_ = 10\n",
    "n_estimators = 100\n",
    "early_stopping_rounds = 20\n",
    "learning_rate = 0.1\n",
    "\n",
    "model = XGBClassifier(n_estimators = n_estimators, learning_rate = learning_rate,\n",
    "                      verbosity = 0, random_state = 1, early_stopping_rounds = early_stopping_rounds,\n",
    "                      max_depth = max_depth,alpha=lambda_)\n",
    "model.fit(X_train,y_train, eval_set = [(X_dev,y_dev)],verbose=False)\n",
    "\n",
    "from sklearn.metrics import accuracy_score # the same np.mean(yhat==y)*100\n",
    "print(f\"train: Accuracy score: {accuracy_score(model.predict(X_train),y_train)*100:.2f}%\")\n",
    "print(f\"dev  : Accuracy score: {accuracy_score(model.predict(X_dev),y_dev)*100:.2f}%\")"
   ]
  },
  {
   "cell_type": "code",
   "execution_count": null,
   "id": "38cd37e5",
   "metadata": {},
   "outputs": [],
   "source": []
  }
 ],
 "metadata": {
  "kernelspec": {
   "display_name": "Python 3 (ipykernel)",
   "language": "python",
   "name": "python3"
  },
  "language_info": {
   "codemirror_mode": {
    "name": "ipython",
    "version": 3
   },
   "file_extension": ".py",
   "mimetype": "text/x-python",
   "name": "python",
   "nbconvert_exporter": "python",
   "pygments_lexer": "ipython3",
   "version": "3.8.10"
  }
 },
 "nbformat": 4,
 "nbformat_minor": 5
}
