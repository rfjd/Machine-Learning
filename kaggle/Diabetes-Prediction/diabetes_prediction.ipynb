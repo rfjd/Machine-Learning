{
 "cells": [
  {
   "cell_type": "markdown",
   "id": "70e8e6d1",
   "metadata": {},
   "source": [
    "# <span style=\"color:black\"> Diabetes Prediction </span>\n",
    "Please see the corresponding [kaggle](https://www.kaggle.com/datasets/iammustafatz/diabetes-prediction-dataset) link for the details."
   ]
  },
  {
   "cell_type": "markdown",
   "id": "364f5a2f",
   "metadata": {},
   "source": [
    "# <span style=\"color:green\"> DATA </span>"
   ]
  },
  {
   "cell_type": "code",
   "execution_count": 4,
   "id": "a6069ae0",
   "metadata": {},
   "outputs": [],
   "source": [
    "import numpy as np\n",
    "import matplotlib.pyplot as plt\n",
    "\n",
    "import pandas as pd\n",
    "from xgboost import XGBClassifier\n",
    "import tensorflow as tf\n",
    "from tensorflow.keras.models import Sequential\n",
    "from tensorflow.keras.layers import Dense\n",
    "from sklearn.model_selection import train_test_split\n",
    "from sklearn.metrics import accuracy_score\n",
    "\n",
    "plt.rcParams['text.usetex'] = True\n",
    "plt.rcParams.update({'font.size': 14})\n",
    "import seaborn as sns"
   ]
  },
  {
   "cell_type": "code",
   "execution_count": 5,
   "id": "395e5f64",
   "metadata": {},
   "outputs": [
    {
     "data": {
      "text/html": [
       "<div>\n",
       "<style scoped>\n",
       "    .dataframe tbody tr th:only-of-type {\n",
       "        vertical-align: middle;\n",
       "    }\n",
       "\n",
       "    .dataframe tbody tr th {\n",
       "        vertical-align: top;\n",
       "    }\n",
       "\n",
       "    .dataframe thead th {\n",
       "        text-align: right;\n",
       "    }\n",
       "</style>\n",
       "<table border=\"1\" class=\"dataframe\">\n",
       "  <thead>\n",
       "    <tr style=\"text-align: right;\">\n",
       "      <th></th>\n",
       "      <th>gender</th>\n",
       "      <th>age</th>\n",
       "      <th>hypertension</th>\n",
       "      <th>heart_disease</th>\n",
       "      <th>smoking_history</th>\n",
       "      <th>bmi</th>\n",
       "      <th>HbA1c_level</th>\n",
       "      <th>blood_glucose_level</th>\n",
       "      <th>diabetes</th>\n",
       "    </tr>\n",
       "  </thead>\n",
       "  <tbody>\n",
       "    <tr>\n",
       "      <th>0</th>\n",
       "      <td>Female</td>\n",
       "      <td>80.0</td>\n",
       "      <td>0</td>\n",
       "      <td>1</td>\n",
       "      <td>never</td>\n",
       "      <td>25.19</td>\n",
       "      <td>6.6</td>\n",
       "      <td>140</td>\n",
       "      <td>0</td>\n",
       "    </tr>\n",
       "    <tr>\n",
       "      <th>1</th>\n",
       "      <td>Female</td>\n",
       "      <td>54.0</td>\n",
       "      <td>0</td>\n",
       "      <td>0</td>\n",
       "      <td>No Info</td>\n",
       "      <td>27.32</td>\n",
       "      <td>6.6</td>\n",
       "      <td>80</td>\n",
       "      <td>0</td>\n",
       "    </tr>\n",
       "    <tr>\n",
       "      <th>2</th>\n",
       "      <td>Male</td>\n",
       "      <td>28.0</td>\n",
       "      <td>0</td>\n",
       "      <td>0</td>\n",
       "      <td>never</td>\n",
       "      <td>27.32</td>\n",
       "      <td>5.7</td>\n",
       "      <td>158</td>\n",
       "      <td>0</td>\n",
       "    </tr>\n",
       "    <tr>\n",
       "      <th>3</th>\n",
       "      <td>Female</td>\n",
       "      <td>36.0</td>\n",
       "      <td>0</td>\n",
       "      <td>0</td>\n",
       "      <td>current</td>\n",
       "      <td>23.45</td>\n",
       "      <td>5.0</td>\n",
       "      <td>155</td>\n",
       "      <td>0</td>\n",
       "    </tr>\n",
       "  </tbody>\n",
       "</table>\n",
       "</div>"
      ],
      "text/plain": [
       "   gender   age  hypertension  heart_disease smoking_history    bmi  \\\n",
       "0  Female  80.0             0              1           never  25.19   \n",
       "1  Female  54.0             0              0         No Info  27.32   \n",
       "2    Male  28.0             0              0           never  27.32   \n",
       "3  Female  36.0             0              0         current  23.45   \n",
       "\n",
       "   HbA1c_level  blood_glucose_level  diabetes  \n",
       "0          6.6                  140         0  \n",
       "1          6.6                   80         0  \n",
       "2          5.7                  158         0  \n",
       "3          5.0                  155         0  "
      ]
     },
     "execution_count": 5,
     "metadata": {},
     "output_type": "execute_result"
    }
   ],
   "source": [
    "data = pd.read_csv(\"diabetes_prediction.csv\")\n",
    "data.head(4)"
   ]
  },
  {
   "cell_type": "markdown",
   "id": "c5a5d20e",
   "metadata": {},
   "source": [
    "# <span style=\"color:green\"> DATA ANALYSIS </span>"
   ]
  },
  {
   "cell_type": "code",
   "execution_count": 6,
   "id": "9c02c8e5",
   "metadata": {},
   "outputs": [
    {
     "name": "stdout",
     "output_type": "stream",
     "text": [
      "total data shape: (100000, 9)\n",
      "feature gender              : unique values = 3\n",
      "feature age                 : unique values = 102\n",
      "feature hypertension        : unique values = 2\n",
      "feature heart_disease       : unique values = 2\n",
      "feature smoking_history     : unique values = 6\n",
      "feature bmi                 : unique values = 4247\n",
      "feature HbA1c_level         : unique values = 18\n",
      "feature blood_glucose_level : unique values = 18\n",
      "feature diabetes            : unique values = 2\n"
     ]
    }
   ],
   "source": [
    "print(f\"total data shape: {data.shape}\")\n",
    "\n",
    "def unique_features(data):\n",
    "    nums = []# unique possibilities for each feature\n",
    "    for feature in data.columns:\n",
    "        num = len(data.loc[:,feature].unique())\n",
    "        nums.append(num)\n",
    "        print(f\"feature {feature:20s}: unique values = {num}\")\n",
    "        \n",
    "unique_features(data)"
   ]
  },
  {
   "cell_type": "code",
   "execution_count": 7,
   "id": "969975c6",
   "metadata": {},
   "outputs": [
    {
     "data": {
      "image/png": "[encoded data removed]",
      "text/plain": [
       "<Figure size 1200x200 with 8 Axes>"
      ]
     },
     "metadata": {},
     "output_type": "display_data"
    }
   ],
   "source": [
    "features = ['gender','hypertension','heart_disease','smoking_history',\n",
    "            'age','bmi','HbA1c_level','blood_glucose_level']\n",
    "\n",
    "fig, ax = plt.subplots(2, 4, figsize=(12, 2))\n",
    "fig.subplots_adjust(hspace=6)\n",
    "\n",
    "ax = ax.flatten()  # Flatten the ax array to access each subplot individually\n",
    "yes = data.loc[:,'diabetes'] == 1\n",
    "no = data.loc[:,'diabetes'] == 0\n",
    "dummy_vec = np.ones(data.shape[0])\n",
    "for i in range(len(ax)):\n",
    "    ax[i].scatter(data.loc[yes,features[i]],dummy_vec[yes],marker='x',color='r',s=40,linewidth=0.5,label='yes')\n",
    "    ax[i].scatter(data.loc[no,features[i]],dummy_vec[no],marker='o',edgecolors='b',facecolors='none',s=20,linewidth=0.5,label='no')\n",
    "    ax[i].set_xlabel(features[i])\n",
    "    ax[i].get_yaxis().set_ticks([])\n",
    "    ax[i].set_ylim(0,2)\n",
    "    ax[i].spines['top'].set_visible(False)\n",
    "    ax[i].spines['right'].set_visible(False)\n",
    "    ax[i].spines['left'].set_visible(False)\n",
    "    if i == 0:\n",
    "        ax[i].legend(frameon=False,ncol=2,loc='upper center', bbox_to_anchor=(0, 1, 1, 2))\n",
    "    if features[i] == 'smoking_history':\n",
    "        value_counts = data.value_counts('smoking_history')\n",
    "        xticks = range(len(value_counts))\n",
    "        xticklabels = value_counts.index.values\n",
    "        ax[i].set_xticks(xticks)\n",
    "        ax[i].set_xticklabels(xticklabels,rotation=45)\n",
    "\n",
    "fig.suptitle('positive diabetes?', fontsize=16)\n",
    "plt.show()"
   ]
  },
  {
   "cell_type": "markdown",
   "id": "04231978",
   "metadata": {},
   "source": [
    "**Note:** The above figures for categorical features can be quite misleading. Below, we analyze what percentage of the postive cases belong to a specific category (e.g., male or female?)"
   ]
  },
  {
   "cell_type": "markdown",
   "id": "7cd85c7d",
   "metadata": {},
   "source": [
    "### **gender**"
   ]
  },
  {
   "cell_type": "code",
   "execution_count": 9,
   "id": "46ad42f9",
   "metadata": {},
   "outputs": [
    {
     "data": {
      "image/png": "[encoded data removed]",
      "text/plain": [
       "<Figure size 1500x200 with 3 Axes>"
      ]
     },
     "metadata": {},
     "output_type": "display_data"
    }
   ],
   "source": [
    "def barplots(feature):\n",
    "    feature_counts = data.value_counts(feature).sort_index()\n",
    "    fig, ax = plt.subplots(1, 3, figsize=(15, 2))\n",
    "    fig.subplots_adjust(wspace=0.35)\n",
    "    ax = ax.flatten()\n",
    "    ax[0].barh(feature_counts.index,feature_counts.values/data.shape[0]*100)\n",
    "    ax[0].set_xlabel('percent in all cases')\n",
    "\n",
    "    diabetes_by_feature = data.groupby(feature, as_index=True)['diabetes'].sum()\n",
    "    total_positive_cases = len(data[data['diabetes']==1])\n",
    "    ax[1].barh(diabetes_by_feature.index,diabetes_by_feature.values/total_positive_cases*100)\n",
    "    ax[1].set_xlabel('percent in positive cases')\n",
    "\n",
    "    return diabetes_by_feature, feature_counts, ax, fig\n",
    "\n",
    "diabetes_by_feature, feature_counts, ax, fig = barplots('gender')\n",
    "normalized_probability = [diabetes_by_feature['Female']/feature_counts['Female'],\n",
    "                          diabetes_by_feature['Male']/feature_counts['Male'],\n",
    "                          diabetes_by_feature['Other']/feature_counts['Other']]\n",
    "ax[2].barh(['Female','Male','Other'],np.array(normalized_probability),color=['pink', 'blue', 'black'])\n",
    "ax[2].set_xlabel('normalized probability of positive case')\n",
    "\n",
    "plt.show()"
   ]
  },
  {
   "cell_type": "markdown",
   "id": "2bf16cb6",
   "metadata": {},
   "source": [
    "### **hypertension**"
   ]
  },
  {
   "cell_type": "code",
   "execution_count": 10,
   "id": "a28b04fe",
   "metadata": {},
   "outputs": [
    {
     "data": {
      "image/png": "[encoded data removed]",
      "text/plain": [
       "<Figure size 1500x200 with 3 Axes>"
      ]
     },
     "metadata": {},
     "output_type": "display_data"
    }
   ],
   "source": [
    "diabetes_by_feature, feature_counts, ax, fig = barplots('hypertension')\n",
    "normalized_probability = [diabetes_by_feature[0]/feature_counts[0],\n",
    "                          diabetes_by_feature[1]/feature_counts[1]]\n",
    "ax[2].barh([0,1],np.array(normalized_probability),color=['green','red'])\n",
    "ax[2].set_xlabel('normalized probability of positive case')\n",
    "ax[0].set_ylabel('hypertension?')\n",
    "\n",
    "plt.show()"
   ]
  },
  {
   "cell_type": "markdown",
   "id": "d0693dad",
   "metadata": {},
   "source": [
    "### **heart disease**"
   ]
  },
  {
   "cell_type": "code",
   "execution_count": 12,
   "id": "eb91e8b0",
   "metadata": {},
   "outputs": [
    {
     "data": {
      "image/png": "[encoded data removed]",
      "text/plain": [
       "<Figure size 1500x200 with 3 Axes>"
      ]
     },
     "metadata": {},
     "output_type": "display_data"
    }
   ],
   "source": [
    "diabetes_by_feature, feature_counts, ax, fig = barplots('heart_disease')\n",
    "normalized_probability = [diabetes_by_feature[0]/feature_counts[0],\n",
    "                          diabetes_by_feature[1]/feature_counts[1]]\n",
    "ax[2].barh([0,1],np.array(normalized_probability),color=['green','red'])\n",
    "ax[2].set_xlabel('normalized probability of positive case')\n",
    "ax[0].set_ylabel('heart disease?')\n",
    "\n",
    "plt.show()"
   ]
  },
  {
   "cell_type": "markdown",
   "id": "e86a0dae",
   "metadata": {},
   "source": [
    "### **smoking**"
   ]
  },
  {
   "cell_type": "code",
   "execution_count": 13,
   "id": "dfc565f2",
   "metadata": {},
   "outputs": [
    {
     "data": {
      "image/png": "[encoded data removed]",
      "text/plain": [
       "<Figure size 1500x200 with 3 Axes>"
      ]
     },
     "metadata": {},
     "output_type": "display_data"
    }
   ],
   "source": [
    "diabetes_by_feature, feature_counts, ax, fig = barplots('smoking_history')\n",
    "\n",
    "normalized_probability = []\n",
    "for i in feature_counts.index:\n",
    "    normalized_probability.append(diabetes_by_feature[i]/feature_counts[i])\n",
    "\n",
    "ax[2].barh(feature_counts.index,np.array(normalized_probability))\n",
    "ax[2].set_xlabel('normalized probability of positive case')\n",
    "ax[0].set_ylabel('smoking?')\n",
    "\n",
    "plt.show()"
   ]
  },
  {
   "cell_type": "markdown",
   "id": "7f3af49d",
   "metadata": {},
   "source": [
    "### **age**"
   ]
  },
  {
   "cell_type": "code",
   "execution_count": 14,
   "id": "d9c7b24a",
   "metadata": {},
   "outputs": [
    {
     "data": {
      "image/png": "[encoded data removed]",
      "text/plain": [
       "<Figure size 1500x200 with 3 Axes>"
      ]
     },
     "metadata": {},
     "output_type": "display_data"
    }
   ],
   "source": [
    "diabetes_by_feature, feature_counts, ax, fig = barplots('age')\n",
    "\n",
    "normalized_probability = []\n",
    "for i in feature_counts.index:\n",
    "    normalized_probability.append(diabetes_by_feature[i]/feature_counts[i])\n",
    "\n",
    "ax[2].barh(feature_counts.index,np.array(normalized_probability))\n",
    "ax[2].set_xlabel('normalized probability of positive case')\n",
    "ax[0].set_ylabel('smoking?')\n",
    "\n",
    "plt.show()\n"
   ]
  },
  {
   "cell_type": "markdown",
   "id": "f4036a23",
   "metadata": {},
   "source": [
    "## Data Analysis Conclusion\n",
    "It is evident from above analyses that **hypertension**, **heart disease**, **age**, **HbA1c level**, and **blood glucose level** strongly contribute to the probability of a positive diabetes."
   ]
  },
  {
   "cell_type": "markdown",
   "id": "dc3caf04",
   "metadata": {},
   "source": [
    "## One-hot encoding"
   ]
  },
  {
   "cell_type": "code",
   "execution_count": 23,
   "id": "ac25731a",
   "metadata": {},
   "outputs": [
    {
     "name": "stdout",
     "output_type": "stream",
     "text": [
      "The multiclass categorical features are:\n",
      "['gender', 'smoking_history']\n",
      "total number of features after one-hot encoding: 15\n"
     ]
    }
   ],
   "source": [
    "cat_features = ['gender','smoking_history']\n",
    "print(f\"The multiclass categorical features are:\\n{cat_features}\")\n",
    "dataOHE = pd.get_dummies(data = data, prefix = cat_features, columns = cat_features)\n",
    "\n",
    "features = [x for x in dataOHE.columns if x != 'diabetes'] ## Removing our target variable\n",
    "print(f\"total number of features after one-hot encoding: {len(features)}\")"
   ]
  },
  {
   "cell_type": "markdown",
   "id": "0b720c4a",
   "metadata": {},
   "source": [
    "## Correllation"
   ]
  },
  {
   "cell_type": "code",
   "execution_count": 24,
   "id": "4048d2e9",
   "metadata": {},
   "outputs": [
    {
     "data": {
      "image/png": "[encoded data removed]",
      "text/plain": [
       "<Figure size 600x400 with 2 Axes>"
      ]
     },
     "metadata": {},
     "output_type": "display_data"
    },
    {
     "data": {
      "text/html": [
       "<div>\n",
       "<style scoped>\n",
       "    .dataframe tbody tr th:only-of-type {\n",
       "        vertical-align: middle;\n",
       "    }\n",
       "\n",
       "    .dataframe tbody tr th {\n",
       "        vertical-align: top;\n",
       "    }\n",
       "\n",
       "    .dataframe thead th {\n",
       "        text-align: right;\n",
       "    }\n",
       "</style>\n",
       "<table border=\"1\" class=\"dataframe\">\n",
       "  <thead>\n",
       "    <tr style=\"text-align: right;\">\n",
       "      <th></th>\n",
       "      <th>age</th>\n",
       "      <th>hypertension</th>\n",
       "      <th>heart_disease</th>\n",
       "      <th>bmi</th>\n",
       "      <th>HbA1c_level</th>\n",
       "      <th>blood_glucose_level</th>\n",
       "      <th>diabetes</th>\n",
       "      <th>gender_Female</th>\n",
       "      <th>gender_Male</th>\n",
       "      <th>gender_Other</th>\n",
       "      <th>smoking_history_No Info</th>\n",
       "      <th>smoking_history_current</th>\n",
       "      <th>smoking_history_ever</th>\n",
       "      <th>smoking_history_former</th>\n",
       "      <th>smoking_history_never</th>\n",
       "      <th>smoking_history_not current</th>\n",
       "    </tr>\n",
       "  </thead>\n",
       "  <tbody>\n",
       "    <tr>\n",
       "      <th>0</th>\n",
       "      <td>80.0</td>\n",
       "      <td>0</td>\n",
       "      <td>1</td>\n",
       "      <td>25.19</td>\n",
       "      <td>6.6</td>\n",
       "      <td>140</td>\n",
       "      <td>0</td>\n",
       "      <td>1</td>\n",
       "      <td>0</td>\n",
       "      <td>0</td>\n",
       "      <td>0</td>\n",
       "      <td>0</td>\n",
       "      <td>0</td>\n",
       "      <td>0</td>\n",
       "      <td>1</td>\n",
       "      <td>0</td>\n",
       "    </tr>\n",
       "    <tr>\n",
       "      <th>1</th>\n",
       "      <td>54.0</td>\n",
       "      <td>0</td>\n",
       "      <td>0</td>\n",
       "      <td>27.32</td>\n",
       "      <td>6.6</td>\n",
       "      <td>80</td>\n",
       "      <td>0</td>\n",
       "      <td>1</td>\n",
       "      <td>0</td>\n",
       "      <td>0</td>\n",
       "      <td>1</td>\n",
       "      <td>0</td>\n",
       "      <td>0</td>\n",
       "      <td>0</td>\n",
       "      <td>0</td>\n",
       "      <td>0</td>\n",
       "    </tr>\n",
       "    <tr>\n",
       "      <th>2</th>\n",
       "      <td>28.0</td>\n",
       "      <td>0</td>\n",
       "      <td>0</td>\n",
       "      <td>27.32</td>\n",
       "      <td>5.7</td>\n",
       "      <td>158</td>\n",
       "      <td>0</td>\n",
       "      <td>0</td>\n",
       "      <td>1</td>\n",
       "      <td>0</td>\n",
       "      <td>0</td>\n",
       "      <td>0</td>\n",
       "      <td>0</td>\n",
       "      <td>0</td>\n",
       "      <td>1</td>\n",
       "      <td>0</td>\n",
       "    </tr>\n",
       "    <tr>\n",
       "      <th>3</th>\n",
       "      <td>36.0</td>\n",
       "      <td>0</td>\n",
       "      <td>0</td>\n",
       "      <td>23.45</td>\n",
       "      <td>5.0</td>\n",
       "      <td>155</td>\n",
       "      <td>0</td>\n",
       "      <td>1</td>\n",
       "      <td>0</td>\n",
       "      <td>0</td>\n",
       "      <td>0</td>\n",
       "      <td>1</td>\n",
       "      <td>0</td>\n",
       "      <td>0</td>\n",
       "      <td>0</td>\n",
       "      <td>0</td>\n",
       "    </tr>\n",
       "    <tr>\n",
       "      <th>4</th>\n",
       "      <td>76.0</td>\n",
       "      <td>1</td>\n",
       "      <td>1</td>\n",
       "      <td>20.14</td>\n",
       "      <td>4.8</td>\n",
       "      <td>155</td>\n",
       "      <td>0</td>\n",
       "      <td>0</td>\n",
       "      <td>1</td>\n",
       "      <td>0</td>\n",
       "      <td>0</td>\n",
       "      <td>1</td>\n",
       "      <td>0</td>\n",
       "      <td>0</td>\n",
       "      <td>0</td>\n",
       "      <td>0</td>\n",
       "    </tr>\n",
       "    <tr>\n",
       "      <th>5</th>\n",
       "      <td>20.0</td>\n",
       "      <td>0</td>\n",
       "      <td>0</td>\n",
       "      <td>27.32</td>\n",
       "      <td>6.6</td>\n",
       "      <td>85</td>\n",
       "      <td>0</td>\n",
       "      <td>1</td>\n",
       "      <td>0</td>\n",
       "      <td>0</td>\n",
       "      <td>0</td>\n",
       "      <td>0</td>\n",
       "      <td>0</td>\n",
       "      <td>0</td>\n",
       "      <td>1</td>\n",
       "      <td>0</td>\n",
       "    </tr>\n",
       "    <tr>\n",
       "      <th>6</th>\n",
       "      <td>44.0</td>\n",
       "      <td>0</td>\n",
       "      <td>0</td>\n",
       "      <td>19.31</td>\n",
       "      <td>6.5</td>\n",
       "      <td>200</td>\n",
       "      <td>1</td>\n",
       "      <td>1</td>\n",
       "      <td>0</td>\n",
       "      <td>0</td>\n",
       "      <td>0</td>\n",
       "      <td>0</td>\n",
       "      <td>0</td>\n",
       "      <td>0</td>\n",
       "      <td>1</td>\n",
       "      <td>0</td>\n",
       "    </tr>\n",
       "    <tr>\n",
       "      <th>7</th>\n",
       "      <td>79.0</td>\n",
       "      <td>0</td>\n",
       "      <td>0</td>\n",
       "      <td>23.86</td>\n",
       "      <td>5.7</td>\n",
       "      <td>85</td>\n",
       "      <td>0</td>\n",
       "      <td>1</td>\n",
       "      <td>0</td>\n",
       "      <td>0</td>\n",
       "      <td>1</td>\n",
       "      <td>0</td>\n",
       "      <td>0</td>\n",
       "      <td>0</td>\n",
       "      <td>0</td>\n",
       "      <td>0</td>\n",
       "    </tr>\n",
       "    <tr>\n",
       "      <th>8</th>\n",
       "      <td>42.0</td>\n",
       "      <td>0</td>\n",
       "      <td>0</td>\n",
       "      <td>33.64</td>\n",
       "      <td>4.8</td>\n",
       "      <td>145</td>\n",
       "      <td>0</td>\n",
       "      <td>0</td>\n",
       "      <td>1</td>\n",
       "      <td>0</td>\n",
       "      <td>0</td>\n",
       "      <td>0</td>\n",
       "      <td>0</td>\n",
       "      <td>0</td>\n",
       "      <td>1</td>\n",
       "      <td>0</td>\n",
       "    </tr>\n",
       "    <tr>\n",
       "      <th>9</th>\n",
       "      <td>32.0</td>\n",
       "      <td>0</td>\n",
       "      <td>0</td>\n",
       "      <td>27.32</td>\n",
       "      <td>5.0</td>\n",
       "      <td>100</td>\n",
       "      <td>0</td>\n",
       "      <td>1</td>\n",
       "      <td>0</td>\n",
       "      <td>0</td>\n",
       "      <td>0</td>\n",
       "      <td>0</td>\n",
       "      <td>0</td>\n",
       "      <td>0</td>\n",
       "      <td>1</td>\n",
       "      <td>0</td>\n",
       "    </tr>\n",
       "  </tbody>\n",
       "</table>\n",
       "</div>"
      ],
      "text/plain": [
       "    age  hypertension  heart_disease    bmi  HbA1c_level  blood_glucose_level  \\\n",
       "0  80.0             0              1  25.19          6.6                  140   \n",
       "1  54.0             0              0  27.32          6.6                   80   \n",
       "2  28.0             0              0  27.32          5.7                  158   \n",
       "3  36.0             0              0  23.45          5.0                  155   \n",
       "4  76.0             1              1  20.14          4.8                  155   \n",
       "5  20.0             0              0  27.32          6.6                   85   \n",
       "6  44.0             0              0  19.31          6.5                  200   \n",
       "7  79.0             0              0  23.86          5.7                   85   \n",
       "8  42.0             0              0  33.64          4.8                  145   \n",
       "9  32.0             0              0  27.32          5.0                  100   \n",
       "\n",
       "   diabetes  gender_Female  gender_Male  gender_Other  \\\n",
       "0         0              1            0             0   \n",
       "1         0              1            0             0   \n",
       "2         0              0            1             0   \n",
       "3         0              1            0             0   \n",
       "4         0              0            1             0   \n",
       "5         0              1            0             0   \n",
       "6         1              1            0             0   \n",
       "7         0              1            0             0   \n",
       "8         0              0            1             0   \n",
       "9         0              1            0             0   \n",
       "\n",
       "   smoking_history_No Info  smoking_history_current  smoking_history_ever  \\\n",
       "0                        0                        0                     0   \n",
       "1                        1                        0                     0   \n",
       "2                        0                        0                     0   \n",
       "3                        0                        1                     0   \n",
       "4                        0                        1                     0   \n",
       "5                        0                        0                     0   \n",
       "6                        0                        0                     0   \n",
       "7                        1                        0                     0   \n",
       "8                        0                        0                     0   \n",
       "9                        0                        0                     0   \n",
       "\n",
       "   smoking_history_former  smoking_history_never  smoking_history_not current  \n",
       "0                       0                      1                            0  \n",
       "1                       0                      0                            0  \n",
       "2                       0                      1                            0  \n",
       "3                       0                      0                            0  \n",
       "4                       0                      0                            0  \n",
       "5                       0                      1                            0  \n",
       "6                       0                      1                            0  \n",
       "7                       0                      0                            0  \n",
       "8                       0                      1                            0  \n",
       "9                       0                      1                            0  "
      ]
     },
     "execution_count": 24,
     "metadata": {},
     "output_type": "execute_result"
    }
   ],
   "source": [
    "corr = dataOHE.corr().loc[:,'diabetes']\n",
    "corr = corr.sort_values(ascending=False)\n",
    "\n",
    "plt.figure(figsize=(6,4))\n",
    "sns.heatmap(corr.iloc[1:].to_frame(), cmap=\"PiYG\", xticklabels=False, yticklabels=True)\n",
    "plt.title('Correlation with diabetes')\n",
    "plt.show()\n",
    "\n",
    "dataOHE.head(10)"
   ]
  },
  {
   "cell_type": "markdown",
   "id": "6f764b6b",
   "metadata": {},
   "source": [
    "# <span style=\"color:green\"> MACHINE LEARNING </span>"
   ]
  },
  {
   "cell_type": "markdown",
   "id": "fbdf8ddf",
   "metadata": {},
   "source": [
    "## Split the data using Scikit-learn"
   ]
  },
  {
   "cell_type": "code",
   "execution_count": 25,
   "id": "1b1f6965",
   "metadata": {},
   "outputs": [
    {
     "name": "stdout",
     "output_type": "stream",
     "text": [
      "X_train.shape = (80000, 15), X_dev.shape = (20000, 15)\n",
      "y_train.shape = (80000, 1), y_dev.shape = (20000, 1)\n"
     ]
    }
   ],
   "source": [
    "X_train, X_dev, y_train, y_dev = train_test_split(dataOHE[features],dataOHE['diabetes'],train_size=0.8, random_state=1)\n",
    "\n",
    "X_train = X_train.to_numpy()\n",
    "X_dev   = X_dev.to_numpy()\n",
    "\n",
    "y_train = y_train.to_numpy().reshape((-1,1))\n",
    "y_dev   = y_dev.to_numpy().reshape((-1,1))\n",
    "\n",
    "print(f\"X_train.shape = {X_train.shape}, X_dev.shape = {X_dev.shape}\")\n",
    "print(f\"y_train.shape = {y_train.shape}, y_dev.shape = {y_dev.shape}\")"
   ]
  },
  {
   "cell_type": "markdown",
   "id": "888a2119",
   "metadata": {},
   "source": [
    "## <span style=\"color:blue\"> Neural Network </span>"
   ]
  },
  {
   "cell_type": "code",
   "execution_count": 28,
   "id": "cdd5f9f2",
   "metadata": {},
   "outputs": [
    {
     "name": "stdout",
     "output_type": "stream",
     "text": [
      "Model: \"sequential_1\"\n",
      "_________________________________________________________________\n",
      " Layer (type)                Output Shape              Param #   \n",
      "=================================================================\n",
      " L1 (Dense)                  (None, 32)                512       \n",
      "                                                                 \n",
      " L2 (Dense)                  (None, 16)                528       \n",
      "                                                                 \n",
      " L3 (Dense)                  (None, 8)                 136       \n",
      "                                                                 \n",
      " LO (Dense)                  (None, 1)                 9         \n",
      "                                                                 \n",
      "=================================================================\n",
      "Total params: 1,185\n",
      "Trainable params: 1,185\n",
      "Non-trainable params: 0\n",
      "_________________________________________________________________\n"
     ]
    }
   ],
   "source": [
    "num_features = len(features)\n",
    "model_NN = Sequential([\n",
    "    tf.keras.Input(shape=(num_features,)),\n",
    "    Dense(units=32, activation='relu'  , name='L1'),\n",
    "    Dense(units=16, activation='relu'  , name='L2'),\n",
    "    Dense(units=8 , activation='relu'  , name='L3'),\n",
    "    Dense(units=1 , activation='linear', name='LO')\n",
    "])\n",
    "\n",
    "model_NN.summary()"
   ]
  },
  {
   "cell_type": "code",
   "execution_count": 29,
   "id": "562b1d6d",
   "metadata": {},
   "outputs": [
    {
     "name": "stdout",
     "output_type": "stream",
     "text": [
      "Neural Network:\n",
      " train accuracy = 91.5012%, dev accuracy = 91.4950%\n"
     ]
    }
   ],
   "source": [
    "model_NN.compile(loss=tf.keras.losses.BinaryCrossentropy(from_logits=True),optimizer=tf.keras.optimizers.Adam(learning_rate=0.1))\n",
    "model_NN.fit(X_train,y_train,epochs=10,verbose=0)\n",
    "\n",
    "# a function to convert linear output to binary\n",
    "def prediction(model,X,threshold=0.5):\n",
    "    z = model.predict(X,verbose=0)\n",
    "    probs = tf.math.sigmoid(z)\n",
    "    yhat = np.where(probs >= threshold, 1, 0)\n",
    "    \n",
    "    return yhat\n",
    "\n",
    "trainErr_NN = accuracy_score(prediction(model_NN,X_train),y_train)*100\n",
    "devErr_NN = accuracy_score(prediction(model_NN,X_dev),y_dev)*100\n",
    "print(f\"Neural Network:\\n train accuracy = {trainErr_NN:.4f}%, dev accuracy = {devErr_NN:.4f}%\")"
   ]
  },
  {
   "cell_type": "markdown",
   "id": "f9923e3d",
   "metadata": {},
   "source": [
    "## <span style=\"color:blue\"> XGBoost </span>"
   ]
  },
  {
   "cell_type": "code",
   "execution_count": 30,
   "id": "b79df994",
   "metadata": {},
   "outputs": [
    {
     "name": "stdout",
     "output_type": "stream",
     "text": [
      "XGBoost:\n",
      " train accuracy = 97.2738%, dev accuracy = 97.2500%\n"
     ]
    }
   ],
   "source": [
    "n_estimators = 100\n",
    "early_stopping_rounds = 20\n",
    "learning_rate = 0.1\n",
    "max_depth = 6\n",
    "lambda_ = 0\n",
    "model_XGB = XGBClassifier(n_estimators = n_estimators, learning_rate = learning_rate,\n",
    "                          verbosity = 0, random_state = 1, early_stopping_rounds = early_stopping_rounds,\n",
    "                          max_depth = max_depth,alpha=lambda_)\n",
    "model_XGB.fit(X_train,y_train, eval_set = [(X_dev,y_dev)],verbose=False)\n",
    "\n",
    "print(f\"XGBoost:\\n train accuracy = {accuracy_score(model_XGB.predict(X_train),y_train)*100:.4f}%, dev accuracy = {accuracy_score(model_XGB.predict(X_dev),y_dev)*100:.4f}%\")"
   ]
  },
  {
   "cell_type": "markdown",
   "id": "5e6327eb",
   "metadata": {},
   "source": [
    "### Notes\n",
    "- Both models seem to do a great job, as far as the **accuracy** is concerned. But we will investigate **precision** and **recall** below which may provide better measures for the models.\n",
    "- The values for $\\lambda$ (regularization parameter) and $\\mathrm{max\\_depth}$ for XGBoost have been chosen to minimize the overfitting. Although, it should be noted that the effect was not significant."
   ]
  },
  {
   "cell_type": "markdown",
   "id": "8e923a62",
   "metadata": {},
   "source": [
    "## <span style=\"color:blue\"> Confusion Matrix </span>"
   ]
  },
  {
   "cell_type": "code",
   "execution_count": 31,
   "id": "1d5e44d0",
   "metadata": {},
   "outputs": [],
   "source": [
    "from sklearn.metrics import confusion_matrix, ConfusionMatrixDisplay, precision_recall_fscore_support\n",
    "\n",
    "def plot_confusion_matrix(y,yhat,method,verbose):\n",
    "    \n",
    "#     # Calculate precision and recall\n",
    "#     N = len(y)\n",
    "#     true_positives = len(np.where((y==yhat) & (yhat==1))[0])/N   \n",
    "#     true_negatives = len(np.where((y==yhat) & (yhat==0))[0])/N\n",
    "#     false_positives = len(np.where((y!=yhat) & (yhat==1))[0])/N\n",
    "#     false_negatives = len(np.where((y!=yhat) & (yhat==0))[0])/N\n",
    "    \n",
    "#     predicted_positives = true_positives+false_positives\n",
    "#     precision = true_positives/predicted_positives\n",
    "\n",
    "#     actual_positives = true_positives+false_negatives\n",
    "#     recall = true_positives/actual_positives\n",
    "        \n",
    "    # Use sklearn\n",
    "    precision, recall, _, _ = precision_recall_fscore_support(y, yhat, average='binary',zero_division=0)\n",
    "    \n",
    "    if verbose:\n",
    "        print(f\"precision is {precision*100:.2f}%\")\n",
    "        print(f\"recall is {recall*100:.2f}%\")\n",
    "\n",
    "    cm = confusion_matrix(y, yhat, labels=[0, 1],normalize='all')\n",
    "    disp = ConfusionMatrixDisplay(confusion_matrix=cm,display_labels=['$-$', '$+$'])\n",
    "    disp.plot(colorbar=False)\n",
    "    plt.title(f\"{method}: Confusion matrix for\\ncross validation data (20000 cases)\")\n",
    "    plt.show()\n",
    "    \n",
    "    return precision, recall"
   ]
  },
  {
   "cell_type": "markdown",
   "id": "3fbf03b2",
   "metadata": {},
   "source": [
    "- **Neural Netwrok**"
   ]
  },
  {
   "cell_type": "code",
   "execution_count": 32,
   "id": "e022701a",
   "metadata": {},
   "outputs": [
    {
     "name": "stdout",
     "output_type": "stream",
     "text": [
      "precision is 0.00%\n",
      "recall is 0.00%\n"
     ]
    },
    {
     "data": {
      "image/png": "[encoded data removed]",
      "text/plain": [
       "<Figure size 640x480 with 1 Axes>"
      ]
     },
     "metadata": {},
     "output_type": "display_data"
    }
   ],
   "source": [
    "y, yhat = y_dev.reshape(-1,), prediction(model_NN,X_dev).reshape(-1,)\n",
    "precision, recall = plot_confusion_matrix(y,yhat,'Neural Netwrok',True)"
   ]
  },
  {
   "cell_type": "markdown",
   "id": "533f22be",
   "metadata": {},
   "source": [
    "- **XGBoost**"
   ]
  },
  {
   "cell_type": "code",
   "execution_count": 33,
   "id": "1e0d7d17",
   "metadata": {},
   "outputs": [
    {
     "name": "stdout",
     "output_type": "stream",
     "text": [
      "precision is 98.24%\n",
      "recall is 68.90%\n"
     ]
    },
    {
     "data": {
      "image/png": "[encoded data removed]",
      "text/plain": [
       "<Figure size 640x480 with 1 Axes>"
      ]
     },
     "metadata": {},
     "output_type": "display_data"
    }
   ],
   "source": [
    "y, yhat = y_dev.reshape(-1,), model_XGB.predict(X_dev)\n",
    "precision, recall = plot_confusion_matrix(y,yhat,'XGBoost',True)"
   ]
  },
  {
   "cell_type": "markdown",
   "id": "214535b4",
   "metadata": {},
   "source": [
    "### Notes:\n",
    "As we can see, both models need some improvement with the **recall**. In particular, the Neural Network model fails to predict **any** postive cases! Depending on the objectives there are ways such as lowering the binary classification threshold to make the models more sensitive to postivie cases."
   ]
  }
 ],
 "metadata": {
  "kernelspec": {
   "display_name": "Python 3 (ipykernel)",
   "language": "python",
   "name": "python3"
  },
  "language_info": {
   "codemirror_mode": {
    "name": "ipython",
    "version": 3
   },
   "file_extension": ".py",
   "mimetype": "text/x-python",
   "name": "python",
   "nbconvert_exporter": "python",
   "pygments_lexer": "ipython3",
   "version": "3.8.10"
  }
 },
 "nbformat": 4,
 "nbformat_minor": 5
}
