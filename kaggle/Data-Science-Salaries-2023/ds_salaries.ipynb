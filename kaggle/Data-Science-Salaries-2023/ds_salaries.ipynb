{
 "cells": [
  {
   "cell_type": "markdown",
   "id": "70e8e6d1",
   "metadata": {},
   "source": [
    "# <span style=\"color:black\"> Data Science Salaries </span>\n",
    "Please see the corresponding [kaggle](https://www.kaggle.com/datasets/arnabchaki/data-science-salaries-2023?select=ds_salaries.csv) link for the details."
   ]
  },
  {
   "cell_type": "markdown",
   "id": "364f5a2f",
   "metadata": {},
   "source": [
    "# <span style=\"color:green\"> DATA </span>"
   ]
  },
  {
   "cell_type": "code",
   "execution_count": 41,
   "id": "a6069ae0",
   "metadata": {},
   "outputs": [],
   "source": [
    "import numpy as np\n",
    "import matplotlib.pyplot as plt\n",
    "import plotly.express as px\n",
    "\n",
    "import pandas as pd\n",
    "from xgboost import XGBRegressor\n",
    "import tensorflow as tf\n",
    "from tensorflow.keras.models import Sequential\n",
    "from tensorflow.keras.layers import Dense\n",
    "from sklearn.model_selection import train_test_split\n",
    "from sklearn import linear_model\n",
    "from sklearn.metrics import mean_squared_error\n",
    "\n",
    "plt.rcParams['text.usetex'] = True\n",
    "plt.rcParams.update({'font.size': 14})\n",
    "\n",
    "import pycountry\n",
    "import seaborn as sns"
   ]
  },
  {
   "cell_type": "code",
   "execution_count": 42,
   "id": "395e5f64",
   "metadata": {},
   "outputs": [
    {
     "data": {
      "text/html": [
       "<div>\n",
       "<style scoped>\n",
       "    .dataframe tbody tr th:only-of-type {\n",
       "        vertical-align: middle;\n",
       "    }\n",
       "\n",
       "    .dataframe tbody tr th {\n",
       "        vertical-align: top;\n",
       "    }\n",
       "\n",
       "    .dataframe thead th {\n",
       "        text-align: right;\n",
       "    }\n",
       "</style>\n",
       "<table border=\"1\" class=\"dataframe\">\n",
       "  <thead>\n",
       "    <tr style=\"text-align: right;\">\n",
       "      <th></th>\n",
       "      <th>work_year</th>\n",
       "      <th>experience_level</th>\n",
       "      <th>employment_type</th>\n",
       "      <th>job_title</th>\n",
       "      <th>salary</th>\n",
       "      <th>salary_currency</th>\n",
       "      <th>salary_in_usd</th>\n",
       "      <th>employee_residence</th>\n",
       "      <th>remote_ratio</th>\n",
       "      <th>company_location</th>\n",
       "      <th>company_size</th>\n",
       "    </tr>\n",
       "  </thead>\n",
       "  <tbody>\n",
       "    <tr>\n",
       "      <th>0</th>\n",
       "      <td>2023</td>\n",
       "      <td>SE</td>\n",
       "      <td>FT</td>\n",
       "      <td>Principal Data Scientist</td>\n",
       "      <td>80000</td>\n",
       "      <td>EUR</td>\n",
       "      <td>85847</td>\n",
       "      <td>ES</td>\n",
       "      <td>100</td>\n",
       "      <td>ES</td>\n",
       "      <td>L</td>\n",
       "    </tr>\n",
       "    <tr>\n",
       "      <th>1</th>\n",
       "      <td>2023</td>\n",
       "      <td>MI</td>\n",
       "      <td>CT</td>\n",
       "      <td>ML Engineer</td>\n",
       "      <td>30000</td>\n",
       "      <td>USD</td>\n",
       "      <td>30000</td>\n",
       "      <td>US</td>\n",
       "      <td>100</td>\n",
       "      <td>US</td>\n",
       "      <td>S</td>\n",
       "    </tr>\n",
       "    <tr>\n",
       "      <th>2</th>\n",
       "      <td>2023</td>\n",
       "      <td>MI</td>\n",
       "      <td>CT</td>\n",
       "      <td>ML Engineer</td>\n",
       "      <td>25500</td>\n",
       "      <td>USD</td>\n",
       "      <td>25500</td>\n",
       "      <td>US</td>\n",
       "      <td>100</td>\n",
       "      <td>US</td>\n",
       "      <td>S</td>\n",
       "    </tr>\n",
       "    <tr>\n",
       "      <th>3</th>\n",
       "      <td>2023</td>\n",
       "      <td>SE</td>\n",
       "      <td>FT</td>\n",
       "      <td>Data Scientist</td>\n",
       "      <td>175000</td>\n",
       "      <td>USD</td>\n",
       "      <td>175000</td>\n",
       "      <td>CA</td>\n",
       "      <td>100</td>\n",
       "      <td>CA</td>\n",
       "      <td>M</td>\n",
       "    </tr>\n",
       "  </tbody>\n",
       "</table>\n",
       "</div>"
      ],
      "text/plain": [
       "   work_year experience_level employment_type                 job_title  \\\n",
       "0       2023               SE              FT  Principal Data Scientist   \n",
       "1       2023               MI              CT               ML Engineer   \n",
       "2       2023               MI              CT               ML Engineer   \n",
       "3       2023               SE              FT            Data Scientist   \n",
       "\n",
       "   salary salary_currency  salary_in_usd employee_residence  remote_ratio  \\\n",
       "0   80000             EUR          85847                 ES           100   \n",
       "1   30000             USD          30000                 US           100   \n",
       "2   25500             USD          25500                 US           100   \n",
       "3  175000             USD         175000                 CA           100   \n",
       "\n",
       "  company_location company_size  \n",
       "0               ES            L  \n",
       "1               US            S  \n",
       "2               US            S  \n",
       "3               CA            M  "
      ]
     },
     "execution_count": 42,
     "metadata": {},
     "output_type": "execute_result"
    }
   ],
   "source": [
    "data = pd.read_csv(\"ds_salaries.csv\")\n",
    "data.head(4)"
   ]
  },
  {
   "cell_type": "markdown",
   "id": "c5a5d20e",
   "metadata": {},
   "source": [
    "# <span style=\"color:green\"> DATA ANALYSIS </span>"
   ]
  },
  {
   "cell_type": "code",
   "execution_count": 43,
   "id": "9c02c8e5",
   "metadata": {},
   "outputs": [
    {
     "name": "stdout",
     "output_type": "stream",
     "text": [
      "total data shape: (3755, 11)\n",
      "The highest paid data scientist made 450000 US dollars,\n",
      "in 2020, works in US, and has an experience level MI.\n",
      "feature work_year           : unique values = 4\n",
      "feature experience_level    : unique values = 4\n",
      "feature employment_type     : unique values = 4\n",
      "feature job_title           : unique values = 93\n",
      "feature salary              : unique values = 815\n",
      "feature salary_currency     : unique values = 20\n",
      "feature salary_in_usd       : unique values = 1035\n",
      "feature employee_residence  : unique values = 78\n",
      "feature remote_ratio        : unique values = 3\n",
      "feature company_location    : unique values = 72\n",
      "feature company_size        : unique values = 3\n"
     ]
    }
   ],
   "source": [
    "print(f\"total data shape: {data.shape}\")\n",
    "\n",
    "max_salary_index = np.argmax(data.loc[:,'salary_in_usd'])\n",
    "print(f\"The highest paid data scientist made {data.loc[max_salary_index,'salary_in_usd']} US dollars,\\n\\\n",
    "in {data.loc[max_salary_index,'work_year']}, \\\n",
    "works in {data.loc[max_salary_index,'employee_residence']}, \\\n",
    "and has an experience level {data.loc[max_salary_index,'experience_level']}.\")\n",
    "\n",
    "def unique_features(data):\n",
    "    nums = []# unique possibilities for each feature\n",
    "    for feature in data.columns:\n",
    "        num = len(data.loc[:,feature].unique())\n",
    "        nums.append(num)\n",
    "        print(f\"feature {feature:20s}: unique values = {num}\")\n",
    "        \n",
    "unique_features(data)"
   ]
  },
  {
   "cell_type": "markdown",
   "id": "4cd457fc",
   "metadata": {},
   "source": [
    "## Converting some of the categorical data to numerical data\n",
    "We do this for those features that can be intrepreted as a numrical feature (i.e., can be quantified), such as the experience level."
   ]
  },
  {
   "cell_type": "code",
   "execution_count": 44,
   "id": "c53e83b5",
   "metadata": {},
   "outputs": [
    {
     "data": {
      "text/html": [
       "<div>\n",
       "<style scoped>\n",
       "    .dataframe tbody tr th:only-of-type {\n",
       "        vertical-align: middle;\n",
       "    }\n",
       "\n",
       "    .dataframe tbody tr th {\n",
       "        vertical-align: top;\n",
       "    }\n",
       "\n",
       "    .dataframe thead th {\n",
       "        text-align: right;\n",
       "    }\n",
       "</style>\n",
       "<table border=\"1\" class=\"dataframe\">\n",
       "  <thead>\n",
       "    <tr style=\"text-align: right;\">\n",
       "      <th></th>\n",
       "      <th>work_year</th>\n",
       "      <th>experience_level</th>\n",
       "      <th>employment_type</th>\n",
       "      <th>job_title</th>\n",
       "      <th>salary_in_usd</th>\n",
       "      <th>employee_residence</th>\n",
       "      <th>remote_ratio</th>\n",
       "      <th>company_location</th>\n",
       "      <th>company_size</th>\n",
       "    </tr>\n",
       "  </thead>\n",
       "  <tbody>\n",
       "    <tr>\n",
       "      <th>0</th>\n",
       "      <td>3</td>\n",
       "      <td>2</td>\n",
       "      <td>3</td>\n",
       "      <td>Principal Data Scientist</td>\n",
       "      <td>85847</td>\n",
       "      <td>ES</td>\n",
       "      <td>1.0</td>\n",
       "      <td>ES</td>\n",
       "      <td>2</td>\n",
       "    </tr>\n",
       "    <tr>\n",
       "      <th>1</th>\n",
       "      <td>3</td>\n",
       "      <td>1</td>\n",
       "      <td>1</td>\n",
       "      <td>ML Engineer</td>\n",
       "      <td>30000</td>\n",
       "      <td>US</td>\n",
       "      <td>1.0</td>\n",
       "      <td>US</td>\n",
       "      <td>0</td>\n",
       "    </tr>\n",
       "    <tr>\n",
       "      <th>2</th>\n",
       "      <td>3</td>\n",
       "      <td>1</td>\n",
       "      <td>1</td>\n",
       "      <td>ML Engineer</td>\n",
       "      <td>25500</td>\n",
       "      <td>US</td>\n",
       "      <td>1.0</td>\n",
       "      <td>US</td>\n",
       "      <td>0</td>\n",
       "    </tr>\n",
       "    <tr>\n",
       "      <th>3</th>\n",
       "      <td>3</td>\n",
       "      <td>2</td>\n",
       "      <td>3</td>\n",
       "      <td>Data Scientist</td>\n",
       "      <td>175000</td>\n",
       "      <td>CA</td>\n",
       "      <td>1.0</td>\n",
       "      <td>CA</td>\n",
       "      <td>1</td>\n",
       "    </tr>\n",
       "    <tr>\n",
       "      <th>4</th>\n",
       "      <td>3</td>\n",
       "      <td>2</td>\n",
       "      <td>3</td>\n",
       "      <td>Data Scientist</td>\n",
       "      <td>120000</td>\n",
       "      <td>CA</td>\n",
       "      <td>1.0</td>\n",
       "      <td>CA</td>\n",
       "      <td>1</td>\n",
       "    </tr>\n",
       "  </tbody>\n",
       "</table>\n",
       "</div>"
      ],
      "text/plain": [
       "   work_year  experience_level  employment_type                 job_title  \\\n",
       "0          3                 2                3  Principal Data Scientist   \n",
       "1          3                 1                1               ML Engineer   \n",
       "2          3                 1                1               ML Engineer   \n",
       "3          3                 2                3            Data Scientist   \n",
       "4          3                 2                3            Data Scientist   \n",
       "\n",
       "   salary_in_usd employee_residence  remote_ratio company_location  \\\n",
       "0          85847                 ES           1.0               ES   \n",
       "1          30000                 US           1.0               US   \n",
       "2          25500                 US           1.0               US   \n",
       "3         175000                 CA           1.0               CA   \n",
       "4         120000                 CA           1.0               CA   \n",
       "\n",
       "   company_size  \n",
       "0             2  \n",
       "1             0  \n",
       "2             0  \n",
       "3             1  \n",
       "4             1  "
      ]
     },
     "execution_count": 44,
     "metadata": {},
     "output_type": "execute_result"
    }
   ],
   "source": [
    "def experience_level_to_num(experience_level):\n",
    "    if experience_level == 'EN':\n",
    "        return 0\n",
    "    elif experience_level == 'MI':\n",
    "        return 1\n",
    "    elif experience_level == 'SE':\n",
    "        return 2\n",
    "    elif experience_level == 'EX':\n",
    "        return 3\n",
    "\n",
    "\n",
    "data['experience_level'] = data['experience_level'].apply(experience_level_to_num) #replace({'EN':0,'MI':1,'SE':2,'EX':3})\n",
    "\n",
    "def employment_type_to_num(employment_type):\n",
    "    if employment_type == 'FL':\n",
    "        return 0\n",
    "    elif employment_type == 'CT':\n",
    "        return 1\n",
    "    elif employment_type == 'PT':\n",
    "        return 2\n",
    "    elif employment_type == 'FT':\n",
    "        return 3\n",
    "    \n",
    "data['employment_type'] = data['employment_type'].apply(employment_type_to_num)\n",
    "\n",
    "def company_size_to_num(company_size):\n",
    "    if company_size == 'S':\n",
    "        return 0\n",
    "    elif company_size == 'M':\n",
    "        return 1\n",
    "    elif company_size == 'L':\n",
    "        return 2\n",
    "    \n",
    "data['company_size'] = data['company_size'].apply(company_size_to_num)\n",
    "\n",
    "def work_year_to_num(work_year):\n",
    "    if work_year == 2020:\n",
    "        return 0\n",
    "    elif work_year == 2021:\n",
    "        return 1\n",
    "    elif work_year == 2022:\n",
    "        return 2\n",
    "    elif work_year == 2023:\n",
    "        return 3\n",
    "    \n",
    "data['work_year'] = data['work_year'].apply(work_year_to_num)\n",
    "\n",
    "def remote_ratio_to_num(remote_ratio):\n",
    "    if remote_ratio == 0:\n",
    "        return 0\n",
    "    elif remote_ratio == 50:\n",
    "        return 0.5\n",
    "    elif remote_ratio == 100:\n",
    "        return 1\n",
    "    \n",
    "data['remote_ratio'] = data['remote_ratio'].apply(remote_ratio_to_num)\n",
    "\n",
    "\n",
    "data = data.drop(columns=['salary','salary_currency']) # keep only salary in US dollars\n",
    "\n",
    "data.head()"
   ]
  },
  {
   "cell_type": "markdown",
   "id": "157ab39a",
   "metadata": {},
   "source": [
    "## Grouping the categorical data\n",
    "Here, we group similar categories under more broad labels."
   ]
  },
  {
   "cell_type": "markdown",
   "id": "e6f11c4e",
   "metadata": {},
   "source": [
    "- **job title:** group the job titles under categories data_scientist, engineer, researcher, AI developer, and manager."
   ]
  },
  {
   "cell_type": "code",
   "execution_count": 45,
   "id": "de0dddb6",
   "metadata": {},
   "outputs": [
    {
     "data": {
      "text/plain": [
       "job_title\n",
       "Data Engineer                1040\n",
       "Data Scientist                840\n",
       "Data Analyst                  612\n",
       "Machine Learning Engineer     289\n",
       "Analytics Engineer            103\n",
       "                             ... \n",
       "Compliance Data Analyst         1\n",
       "Cloud Data Architect            1\n",
       "BI Data Engineer                1\n",
       "Azure Data Engineer             1\n",
       "Staff Data Scientist            1\n",
       "Length: 93, dtype: int64"
      ]
     },
     "execution_count": 45,
     "metadata": {},
     "output_type": "execute_result"
    }
   ],
   "source": [
    "data.value_counts('job_title')"
   ]
  },
  {
   "cell_type": "code",
   "execution_count": 46,
   "id": "c729900b",
   "metadata": {},
   "outputs": [],
   "source": [
    "data_scientist_titles = ['Data Scientist','Data Analyst','Data Modeler','Data Strategist',\\\n",
    "                         'Data Quality Analyst','Compliance Data Analyst','Data Architect',\\\n",
    "                         'Business Data Analyst','Applied Data Scientist','Staff Data Analyst',\\\n",
    "                         'Data Specialist','Financial Data Analyst','BI Developer','BI Analyst',\\\n",
    "                         'Data Science Consultant','Data Analytics Specialist','BI Data Analyst',\\\n",
    "                         'Insight Analyst','Big Data Architect' ,'Product Data Analyst',\\\n",
    "                         'Data Analytics Consultant','Data Management Specialist','Data Operations Analyst',\\\n",
    "                         'Marketing Data Analyst','Power BI Developer','Product Data Scientist',\\\n",
    "                         'Cloud Data Architect','Staff Data Scientist','Finance Data Analyst']\n",
    "engineer_titles = ['ML Engineer','Research Engineer','Analytics Engineer','Business Intelligence Engineer',\\\n",
    "                   'Machine Learning Engineer','Data Engineer','Computer Vision Engineer',\\\n",
    "                   'Applied Machine Learning Engineer','ETL Engineer','Data DevOps Engineer',\\\n",
    "                   'Big Data Engineer','BI Data Engineer','MLOps Engineer','Autonomous Vehicle Technician',\\\n",
    "                   'Cloud Database Engineer','Data Infrastructure Engineer','Software Data Engineer',\\\n",
    "                   'Data Operations Engineer','Machine Learning Infrastructure Engineer','Deep Learning Engineer',\\\n",
    "                   'Machine Learning Software Engineer','Computer Vision Software Engineer','Azure Data Engineer',\\\n",
    "                   'Marketing Data Engineer','Data Science Engineer','Machine Learning Research Engineer',\\\n",
    "                   'NLP Engineer','Data Analytics Engineer','Cloud Data Engineer','ETL Developer']\n",
    "researcher_titles = ['Applied Scientist','Research Scientist','Machine Learning Researcher',\\\n",
    "                  'Machine Learning Scientist','Applied Machine Learning Scientist','Deep Learning Researcher',\\\n",
    "                  'Machine Learning Developer','3D Computer Vision Researcher']\n",
    "manager_titles = ['Principal Data Scientist','Data Analytics Manager','Head of Data','Data Science Manager',\\\n",
    "                  'Data Manager','Lead Data Analyst','Director of Data Science','Lead Data Scientist',\\\n",
    "                  'Data Science Lead','Head of Data Science','Data Analytics Lead','Data Lead',\\\n",
    "                  'Manager Data Management','Principal Machine Learning Engineer','Data Science Tech Lead',\\\n",
    "                  'Data Scientist Lead','Principal Data Architect','Machine Learning Manager',\\\n",
    "                  'Lead Machine Learning Engineer','Lead Data Engineer','Head of Machine Learning',\\\n",
    "                  'Principal Data Analyst','Principal Data Engineer']\n",
    "AI_titles = ['AI Developer','AI Scientist','AI Programmer']\n",
    "\n",
    "# a function to replace job_title feature names\n",
    "def group_job_title(job_title):\n",
    "    if job_title in data_scientist_titles:\n",
    "        return \"data scientist\"\n",
    "    elif job_title in engineer_titles:\n",
    "        return \"engineer\"\n",
    "    elif job_title in researcher_titles:\n",
    "        return \"researcher\"\n",
    "    elif job_title in manager_titles:\n",
    "        return \"manager\"\n",
    "    elif job_title in AI_titles:\n",
    "        return \"AI developer\""
   ]
  },
  {
   "cell_type": "code",
   "execution_count": 47,
   "id": "6feeda87",
   "metadata": {},
   "outputs": [],
   "source": [
    "data['job_category'] = data['job_title'].apply(group_job_title)"
   ]
  },
  {
   "cell_type": "code",
   "execution_count": 48,
   "id": "e0a57937",
   "metadata": {},
   "outputs": [
    {
     "data": {
      "text/plain": [
       "job_category\n",
       "data scientist    1694\n",
       "engineer          1640\n",
       "manager            196\n",
       "researcher         196\n",
       "AI developer        29\n",
       "dtype: int64"
      ]
     },
     "execution_count": 48,
     "metadata": {},
     "output_type": "execute_result"
    }
   ],
   "source": [
    "data.value_counts('job_category')"
   ]
  },
  {
   "cell_type": "markdown",
   "id": "779ab181",
   "metadata": {},
   "source": [
    "- **company and employee location:** group countaries into bigger regions. We first use pycountry to convert country codes to country names to faciliate the process."
   ]
  },
  {
   "cell_type": "code",
   "execution_count": 49,
   "id": "b190f728",
   "metadata": {},
   "outputs": [],
   "source": [
    "def country_name(country_code):\n",
    "    try:\n",
    "        return pycountry.countries.get(alpha_2=country_code).name\n",
    "    except:\n",
    "        return 'other'\n",
    "    \n",
    "data['company_country'] = data['company_location'].apply(country_name)\n",
    "data['employee_country'] = data['employee_residence'].apply(country_name)"
   ]
  },
  {
   "cell_type": "code",
   "execution_count": 50,
   "id": "0504ff4f",
   "metadata": {},
   "outputs": [
    {
     "data": {
      "text/plain": [
       "company_country\n",
       "United States           3040\n",
       "United Kingdom           172\n",
       "Canada                    87\n",
       "Spain                     77\n",
       "India                     58\n",
       "                        ... \n",
       "Malaysia                   1\n",
       "Malta                      1\n",
       "Moldova, Republic of       1\n",
       "Morocco                    1\n",
       "Viet Nam                   1\n",
       "Length: 72, dtype: int64"
      ]
     },
     "execution_count": 50,
     "metadata": {},
     "output_type": "execute_result"
    }
   ],
   "source": [
    "data.value_counts('company_country')"
   ]
  },
  {
   "cell_type": "code",
   "execution_count": 51,
   "id": "007a34ab",
   "metadata": {},
   "outputs": [],
   "source": [
    "salary_by_country = data.groupby('company_country', as_index=False)['salary_in_usd'].mean()\n",
    "\n",
    "fig = px.choropleth(salary_by_country,locations='company_country',locationmode='country names',color='salary_in_usd',\n",
    "                    color_continuous_scale='jet',projection='natural earth',hover_name='company_country',\n",
    "                    labels={'salary_in_usd':'Average Salary in USD'},title='Distribution of average salary by company location')\n",
    "\n",
    "\n",
    "# fig.show()\n",
    "fig.write_image(\"choropleth_plot.png\")"
   ]
  },
  {
   "cell_type": "markdown",
   "id": "4fbae2bb",
   "metadata": {},
   "source": [
    "![Choropleth Plot](choropleth_plot.png)"
   ]
  },
  {
   "cell_type": "code",
   "execution_count": 52,
   "id": "fa87b0d5",
   "metadata": {},
   "outputs": [],
   "source": [
    "russia = ['Russian Federation']\n",
    "europe = ['Spain','Germany','United Kingdom','Netherlands',\\\n",
    "          'Switzerland','France','Finland','Ukraine','Ireland',\\\n",
    "          'Sweden','Slovenia','Portugal','Croatia','Estonia',\\\n",
    "          'Armenia','Bosnia and Herzegovina','Greece','North Macedonia',\n",
    "          'Latvia','Romania','Italy','Poland','Albania','Lithuania',\\\n",
    "          'Hungary','Austria','Slovakia','Czechia','Turkey','Denmark',\\\n",
    "          'Belgium','Luxembourg','Moldova, Republic of',\\\n",
    "          'Malta','Cyprus','Bulgaria','Serbia','Jersey']\n",
    "united_states = ['United States']\n",
    "america_north = ['Canada','Mexico']\n",
    "america_rest = ['Colombia','Brazil','Argentina','Costa Rica','Bahamas','Puerto Rico',\\\n",
    "                'Bolivia, Plurinational State of','Honduras','Chile','Dominican Republic']\n",
    "africa = ['Nigeria','Central African Republic','Ghana','Kenya','Morocco','Egypt','Algeria','Tunisia']\n",
    "asia_east = ['Japan','China']\n",
    "asia_middle = ['United Arab Emirates','Iran, Islamic Republic of','Iraq','Kuwait']\n",
    "asia_rest = ['Hong Kong','Singapore','Thailand','Viet Nam','Philippines',\\\n",
    "             'Indonesia','India','Pakistan','Malaysia','Uzbekistan']\n",
    "israel = ['Israel']\n",
    "oceania = ['Australia','New Zealand','American Samoa']\n",
    "\n",
    "# a function to replace country feature names\n",
    "def group_country(country):\n",
    "    if country in united_states:\n",
    "        return \"US\"\n",
    "    elif country in russia:\n",
    "          return \"russia\"\n",
    "    elif country in europe:\n",
    "        return \"europe\"\n",
    "    elif country in america_north:\n",
    "        return \"america_north\"\n",
    "    elif country in america_rest:\n",
    "        return \"america_rest\"\n",
    "    elif country in asia_east:\n",
    "        return \"asia_east\"\n",
    "    elif country in asia_middle:\n",
    "        return \"asia_middle\"\n",
    "    elif country in asia_rest:\n",
    "          return \"asia_rest\"\n",
    "    elif country in israel:\n",
    "          return \"israel\"\n",
    "    elif country in africa:\n",
    "        return \"africa\"\n",
    "    elif country in oceania:\n",
    "        return \"oceanoia\""
   ]
  },
  {
   "cell_type": "code",
   "execution_count": 53,
   "id": "15679f9a",
   "metadata": {},
   "outputs": [],
   "source": [
    "data['company_continent'] = data['company_country'].apply(group_country)\n",
    "data['employee_continent'] = data['employee_country'].apply(group_country)"
   ]
  },
  {
   "cell_type": "code",
   "execution_count": 54,
   "id": "74808b1f",
   "metadata": {},
   "outputs": [],
   "source": [
    "dataCleaned = data.drop(columns=['job_title','employee_residence','employee_country','company_location','company_country'])"
   ]
  },
  {
   "cell_type": "markdown",
   "id": "7e4b236b",
   "metadata": {},
   "source": [
    "## Display and analyze the finalized table of data"
   ]
  },
  {
   "cell_type": "code",
   "execution_count": 55,
   "id": "6cdce1d7",
   "metadata": {},
   "outputs": [
    {
     "name": "stdout",
     "output_type": "stream",
     "text": [
      "feature work_year           : unique values = 4\n",
      "feature experience_level    : unique values = 4\n",
      "feature employment_type     : unique values = 4\n",
      "feature salary_in_usd       : unique values = 1035\n",
      "feature remote_ratio        : unique values = 3\n",
      "feature company_size        : unique values = 3\n",
      "feature job_category        : unique values = 5\n",
      "feature company_continent   : unique values = 11\n",
      "feature employee_continent  : unique values = 11\n"
     ]
    },
    {
     "data": {
      "text/html": [
       "<div>\n",
       "<style scoped>\n",
       "    .dataframe tbody tr th:only-of-type {\n",
       "        vertical-align: middle;\n",
       "    }\n",
       "\n",
       "    .dataframe tbody tr th {\n",
       "        vertical-align: top;\n",
       "    }\n",
       "\n",
       "    .dataframe thead th {\n",
       "        text-align: right;\n",
       "    }\n",
       "</style>\n",
       "<table border=\"1\" class=\"dataframe\">\n",
       "  <thead>\n",
       "    <tr style=\"text-align: right;\">\n",
       "      <th></th>\n",
       "      <th>work_year</th>\n",
       "      <th>experience_level</th>\n",
       "      <th>employment_type</th>\n",
       "      <th>salary_in_usd</th>\n",
       "      <th>remote_ratio</th>\n",
       "      <th>company_size</th>\n",
       "      <th>job_category</th>\n",
       "      <th>company_continent</th>\n",
       "      <th>employee_continent</th>\n",
       "    </tr>\n",
       "  </thead>\n",
       "  <tbody>\n",
       "    <tr>\n",
       "      <th>0</th>\n",
       "      <td>3</td>\n",
       "      <td>2</td>\n",
       "      <td>3</td>\n",
       "      <td>85847</td>\n",
       "      <td>1.0</td>\n",
       "      <td>2</td>\n",
       "      <td>manager</td>\n",
       "      <td>europe</td>\n",
       "      <td>europe</td>\n",
       "    </tr>\n",
       "    <tr>\n",
       "      <th>1</th>\n",
       "      <td>3</td>\n",
       "      <td>1</td>\n",
       "      <td>1</td>\n",
       "      <td>30000</td>\n",
       "      <td>1.0</td>\n",
       "      <td>0</td>\n",
       "      <td>engineer</td>\n",
       "      <td>US</td>\n",
       "      <td>US</td>\n",
       "    </tr>\n",
       "    <tr>\n",
       "      <th>2</th>\n",
       "      <td>3</td>\n",
       "      <td>1</td>\n",
       "      <td>1</td>\n",
       "      <td>25500</td>\n",
       "      <td>1.0</td>\n",
       "      <td>0</td>\n",
       "      <td>engineer</td>\n",
       "      <td>US</td>\n",
       "      <td>US</td>\n",
       "    </tr>\n",
       "    <tr>\n",
       "      <th>3</th>\n",
       "      <td>3</td>\n",
       "      <td>2</td>\n",
       "      <td>3</td>\n",
       "      <td>175000</td>\n",
       "      <td>1.0</td>\n",
       "      <td>1</td>\n",
       "      <td>data scientist</td>\n",
       "      <td>america_north</td>\n",
       "      <td>america_north</td>\n",
       "    </tr>\n",
       "  </tbody>\n",
       "</table>\n",
       "</div>"
      ],
      "text/plain": [
       "   work_year  experience_level  employment_type  salary_in_usd  remote_ratio  \\\n",
       "0          3                 2                3          85847           1.0   \n",
       "1          3                 1                1          30000           1.0   \n",
       "2          3                 1                1          25500           1.0   \n",
       "3          3                 2                3         175000           1.0   \n",
       "\n",
       "   company_size    job_category company_continent employee_continent  \n",
       "0             2         manager            europe             europe  \n",
       "1             0        engineer                US                 US  \n",
       "2             0        engineer                US                 US  \n",
       "3             1  data scientist     america_north      america_north  "
      ]
     },
     "execution_count": 55,
     "metadata": {},
     "output_type": "execute_result"
    }
   ],
   "source": [
    "unique_features(dataCleaned)\n",
    "dataCleaned.head(4)"
   ]
  },
  {
   "cell_type": "markdown",
   "id": "c7703a59",
   "metadata": {},
   "source": [
    "## One-hot encoding"
   ]
  },
  {
   "cell_type": "code",
   "execution_count": 56,
   "id": "d0dfe2ec",
   "metadata": {},
   "outputs": [
    {
     "name": "stdout",
     "output_type": "stream",
     "text": [
      "The multiclass categorical features are:\n",
      "['job_category', 'company_continent', 'employee_continent']\n",
      "total number of features after one-hot encoding: 32\n"
     ]
    }
   ],
   "source": [
    "cat_features = ['job_category','company_continent','employee_continent']\n",
    "print(f\"The multiclass categorical features are:\\n{cat_features}\")\n",
    "dataOHE = pd.get_dummies(data = dataCleaned, prefix = cat_features, columns = cat_features)\n",
    "\n",
    "features = [x for x in dataOHE.columns if x != 'salary_in_usd'] ## Removing our target variable\n",
    "print(f\"total number of features after one-hot encoding: {len(features)}\")"
   ]
  },
  {
   "cell_type": "markdown",
   "id": "79b138d4",
   "metadata": {},
   "source": [
    "## Correllation"
   ]
  },
  {
   "cell_type": "code",
   "execution_count": 57,
   "id": "d4640d78",
   "metadata": {},
   "outputs": [
    {
     "data": {
      "image/png": "[encoded data removed]",
      "text/plain": [
       "<Figure size 600x700 with 2 Axes>"
      ]
     },
     "metadata": {},
     "output_type": "display_data"
    }
   ],
   "source": [
    "corr = dataOHE.corr().loc[:,'salary_in_usd']\n",
    "corr = corr.sort_values(ascending=False)\n",
    "\n",
    "plt.figure(figsize=(6,7))\n",
    "sns.heatmap(corr.iloc[1:].to_frame(), cmap=\"PiYG\", xticklabels=False, yticklabels=True)\n",
    "plt.title('Correlation with salary')\n",
    "plt.show()"
   ]
  },
  {
   "cell_type": "markdown",
   "id": "6f764b6b",
   "metadata": {},
   "source": [
    "# <span style=\"color:green\"> MACHINE LEARNING </span>"
   ]
  },
  {
   "cell_type": "markdown",
   "id": "fbdf8ddf",
   "metadata": {},
   "source": [
    "## Split the data using Scikit-learn"
   ]
  },
  {
   "cell_type": "code",
   "execution_count": 58,
   "id": "1b1f6965",
   "metadata": {},
   "outputs": [
    {
     "name": "stdout",
     "output_type": "stream",
     "text": [
      "X_train.shape = (3004, 32), X_dev.shape = (751, 32)\n",
      "y_train.shape = (3004, 1), y_dev.shape = (751, 1)\n"
     ]
    }
   ],
   "source": [
    "X_train, X_dev, y_train, y_dev = train_test_split(dataOHE[features],dataOHE['salary_in_usd'],train_size=0.8, random_state=1)\n",
    "\n",
    "X_train = X_train.to_numpy()\n",
    "X_dev   = X_dev.to_numpy()\n",
    "\n",
    "y_train = y_train.to_numpy().reshape((-1,1))\n",
    "y_dev   = y_dev.to_numpy().reshape((-1,1))\n",
    "\n",
    "print(f\"X_train.shape = {X_train.shape}, X_dev.shape = {X_dev.shape}\")\n",
    "print(f\"y_train.shape = {y_train.shape}, y_dev.shape = {y_dev.shape}\")"
   ]
  },
  {
   "cell_type": "markdown",
   "id": "9edeac03",
   "metadata": {},
   "source": [
    "## Normalize the traget data"
   ]
  },
  {
   "cell_type": "code",
   "execution_count": 59,
   "id": "d2b68203",
   "metadata": {},
   "outputs": [],
   "source": [
    "norm_l = tf.keras.layers.Normalization(axis=-1)\n",
    "norm_l.adapt(y_train)"
   ]
  },
  {
   "cell_type": "markdown",
   "id": "94f402d3",
   "metadata": {},
   "source": [
    "# <span style=\"color:blue\"> Neural Netwrok </span>"
   ]
  },
  {
   "cell_type": "markdown",
   "id": "40ab6569",
   "metadata": {},
   "source": [
    "## Architecture"
   ]
  },
  {
   "cell_type": "code",
   "execution_count": 60,
   "id": "18196cc5",
   "metadata": {},
   "outputs": [
    {
     "name": "stdout",
     "output_type": "stream",
     "text": [
      "Model: \"sequential_2\"\n",
      "_________________________________________________________________\n",
      " Layer (type)                Output Shape              Param #   \n",
      "=================================================================\n",
      " L1 (Dense)                  (None, 64)                2112      \n",
      "                                                                 \n",
      " L2 (Dense)                  (None, 32)                2080      \n",
      "                                                                 \n",
      " L3 (Dense)                  (None, 16)                528       \n",
      "                                                                 \n",
      " L4 (Dense)                  (None, 8)                 136       \n",
      "                                                                 \n",
      " LO (Dense)                  (None, 1)                 9         \n",
      "                                                                 \n",
      "=================================================================\n",
      "Total params: 4,865\n",
      "Trainable params: 4,865\n",
      "Non-trainable params: 0\n",
      "_________________________________________________________________\n"
     ]
    }
   ],
   "source": [
    "num_features = len(features)\n",
    "modelNN = Sequential([\n",
    "    tf.keras.Input(shape=(num_features,)),\n",
    "    Dense(units=64, activation='relu'  , name='L1'),\n",
    "    Dense(units=32, activation='relu'  , name='L2'),\n",
    "    Dense(units=16, activation='relu'  , name='L3'),\n",
    "    Dense(units=8 , activation='relu'  , name='L4'),\n",
    "    Dense(units=1 , activation='linear', name='LO')\n",
    "])\n",
    "modelNN.summary()"
   ]
  },
  {
   "cell_type": "code",
   "execution_count": 61,
   "id": "a99e17c9",
   "metadata": {},
   "outputs": [
    {
     "name": "stdout",
     "output_type": "stream",
     "text": [
      "Neural Network:\n",
      " train error = 0.2616, dev error = 0.3611\n"
     ]
    }
   ],
   "source": [
    "modelNN.compile(loss=tf.keras.losses.MeanSquaredError(),optimizer=tf.keras.optimizers.Adam(learning_rate=0.01))\n",
    "modelNN.fit(X_train,norm_l(y_train),epochs=100,verbose=0)\n",
    "trainErr_NN = 0.5*mean_squared_error(norm_l(y_train),modelNN.predict(X_train,verbose=0))\n",
    "devErr_NN = 0.5*mean_squared_error(norm_l(y_dev),modelNN.predict(X_dev,verbose=0))\n",
    "print(f\"Neural Network:\\n train error = {trainErr_NN:.4f}, dev error = {devErr_NN:.4f}\")"
   ]
  },
  {
   "cell_type": "markdown",
   "id": "9a531953",
   "metadata": {},
   "source": [
    "# <span style=\"color:blue\"> Regression </span>"
   ]
  },
  {
   "cell_type": "code",
   "execution_count": 62,
   "id": "0b836219",
   "metadata": {},
   "outputs": [
    {
     "name": "stdout",
     "output_type": "stream",
     "text": [
      "Regression:\n",
      " train error = 0.3145, dev error = 0.3645\n"
     ]
    }
   ],
   "source": [
    "regr = linear_model.LinearRegression(fit_intercept=True)\n",
    "regr.fit(X_train,norm_l(y_train))\n",
    "trainErr_regr = 0.5*mean_squared_error(norm_l(y_train),regr.predict(X_train))\n",
    "devErr_regr = 0.5*mean_squared_error(norm_l(y_dev),regr.predict(X_dev))\n",
    "print(f\"Regression:\\n train error = {trainErr_regr:.4f}, dev error = {devErr_regr:.4f}\")"
   ]
  },
  {
   "cell_type": "markdown",
   "id": "8c356b1c",
   "metadata": {},
   "source": [
    "# <span style=\"color:blue\"> XGBoost </span>"
   ]
  },
  {
   "cell_type": "code",
   "execution_count": 63,
   "id": "a743bf9e",
   "metadata": {},
   "outputs": [
    {
     "name": "stdout",
     "output_type": "stream",
     "text": [
      "XGBoost:\n",
      " train error = 0.2574, dev error = 0.3274\n"
     ]
    }
   ],
   "source": [
    "n_estimators = 100\n",
    "early_stopping_rounds = 20\n",
    "learning_rate = 0.1\n",
    "max_depth = 6\n",
    "lambda_ = 0\n",
    "modelXGB = XGBRegressor(n_estimators = n_estimators, learning_rate = learning_rate,\n",
    "                      verbosity = 0, random_state = 1, max_depth = max_depth,alpha=lambda_)\n",
    "modelXGB.fit(X_train,norm_l(y_train),verbose=False)\n",
    "\n",
    "trainErr_XGBoost = 0.5*mean_squared_error(norm_l(y_train),modelXGB.predict(X_train))\n",
    "devErr_XGBoost = 0.5*mean_squared_error(norm_l(y_dev),modelXGB.predict(X_dev))\n",
    "print(f\"XGBoost:\\n train error = {trainErr_XGBoost:.4f}, dev error = {devErr_XGBoost:.4f}\")"
   ]
  },
  {
   "cell_type": "markdown",
   "id": "c5c15ecf",
   "metadata": {},
   "source": [
    "# <span style=\"color:green\"> BEST MODEL </span> "
   ]
  },
  {
   "cell_type": "markdown",
   "id": "bd0461fa",
   "metadata": {},
   "source": [
    "## Notes:\n",
    "- Regularization did not help much in decreasing the overfitting.\n",
    "- Changing the max depth in XGBoost didn't seem to have much of an impct either.\n",
    "- None of the above models work well, as we will see below! Perhaps we could drop the features with low correlation to get better results. While all three models predict similar values, their predictions are sometimes quite different from the actual values."
   ]
  },
  {
   "cell_type": "code",
   "execution_count": 64,
   "id": "8721569b",
   "metadata": {},
   "outputs": [
    {
     "data": {
      "text/html": [
       "<div>\n",
       "<style scoped>\n",
       "    .dataframe tbody tr th:only-of-type {\n",
       "        vertical-align: middle;\n",
       "    }\n",
       "\n",
       "    .dataframe tbody tr th {\n",
       "        vertical-align: top;\n",
       "    }\n",
       "\n",
       "    .dataframe thead th {\n",
       "        text-align: right;\n",
       "    }\n",
       "</style>\n",
       "<table border=\"1\" class=\"dataframe\">\n",
       "  <thead>\n",
       "    <tr style=\"text-align: right;\">\n",
       "      <th></th>\n",
       "      <th>train MSE</th>\n",
       "      <th>dev MSE</th>\n",
       "    </tr>\n",
       "  </thead>\n",
       "  <tbody>\n",
       "    <tr>\n",
       "      <th>Neural Network</th>\n",
       "      <td>0.261576</td>\n",
       "      <td>0.361130</td>\n",
       "    </tr>\n",
       "    <tr>\n",
       "      <th>Regression</th>\n",
       "      <td>0.314470</td>\n",
       "      <td>0.364531</td>\n",
       "    </tr>\n",
       "    <tr>\n",
       "      <th>XGBoost</th>\n",
       "      <td>0.257357</td>\n",
       "      <td>0.327438</td>\n",
       "    </tr>\n",
       "  </tbody>\n",
       "</table>\n",
       "</div>"
      ],
      "text/plain": [
       "                train MSE   dev MSE\n",
       "Neural Network   0.261576  0.361130\n",
       "Regression       0.314470  0.364531\n",
       "XGBoost          0.257357  0.327438"
      ]
     },
     "execution_count": 64,
     "metadata": {},
     "output_type": "execute_result"
    }
   ],
   "source": [
    "errs = [[trainErr_NN,devErr_NN],[trainErr_regr,devErr_regr],[trainErr_XGBoost,devErr_XGBoost]]\n",
    "errsdf = pd.DataFrame(errs,columns=['train MSE','dev MSE'],index=['Neural Network','Regression','XGBoost'])\n",
    "errsdf"
   ]
  },
  {
   "cell_type": "markdown",
   "id": "5d2d7b13",
   "metadata": {},
   "source": [
    "## Testing specific examples\n",
    "Here we see how our models can predict the salary."
   ]
  },
  {
   "cell_type": "code",
   "execution_count": 76,
   "id": "84226a12",
   "metadata": {},
   "outputs": [
    {
     "data": {
      "text/html": [
       "<div>\n",
       "<style scoped>\n",
       "    .dataframe tbody tr th:only-of-type {\n",
       "        vertical-align: middle;\n",
       "    }\n",
       "\n",
       "    .dataframe tbody tr th {\n",
       "        vertical-align: top;\n",
       "    }\n",
       "\n",
       "    .dataframe thead th {\n",
       "        text-align: right;\n",
       "    }\n",
       "</style>\n",
       "<table border=\"1\" class=\"dataframe\">\n",
       "  <thead>\n",
       "    <tr style=\"text-align: right;\">\n",
       "      <th></th>\n",
       "      <th>data</th>\n",
       "      <th>Neural Netwrok</th>\n",
       "      <th>Regression</th>\n",
       "      <th>XGBoost</th>\n",
       "    </tr>\n",
       "  </thead>\n",
       "  <tbody>\n",
       "    <tr>\n",
       "      <th>0</th>\n",
       "      <td>129300.00</td>\n",
       "      <td>166362.84</td>\n",
       "      <td>166326.92</td>\n",
       "      <td>166572.34</td>\n",
       "    </tr>\n",
       "    <tr>\n",
       "      <th>1</th>\n",
       "      <td>222200.00</td>\n",
       "      <td>210573.50</td>\n",
       "      <td>197300.42</td>\n",
       "      <td>204989.73</td>\n",
       "    </tr>\n",
       "    <tr>\n",
       "      <th>2</th>\n",
       "      <td>140000.00</td>\n",
       "      <td>149642.55</td>\n",
       "      <td>148136.12</td>\n",
       "      <td>146175.97</td>\n",
       "    </tr>\n",
       "    <tr>\n",
       "      <th>3</th>\n",
       "      <td>170000.00</td>\n",
       "      <td>170056.66</td>\n",
       "      <td>168047.67</td>\n",
       "      <td>168632.03</td>\n",
       "    </tr>\n",
       "    <tr>\n",
       "      <th>4</th>\n",
       "      <td>144000.00</td>\n",
       "      <td>149642.55</td>\n",
       "      <td>148136.12</td>\n",
       "      <td>146175.97</td>\n",
       "    </tr>\n",
       "  </tbody>\n",
       "</table>\n",
       "</div>"
      ],
      "text/plain": [
       "       data  Neural Netwrok  Regression   XGBoost\n",
       "0 129300.00       166362.84   166326.92 166572.34\n",
       "1 222200.00       210573.50   197300.42 204989.73\n",
       "2 140000.00       149642.55   148136.12 146175.97\n",
       "3 170000.00       170056.66   168047.67 168632.03\n",
       "4 144000.00       149642.55   148136.12 146175.97"
      ]
     },
     "execution_count": 76,
     "metadata": {},
     "output_type": "execute_result"
    }
   ],
   "source": [
    "n = len(X_dev)\n",
    "samples = np.random.randint(n,size=(5,))\n",
    "\n",
    "# Use keras to de-normalize the predcited target values\n",
    "norm_l_revert = tf.keras.layers.Normalization(axis=-1, invert=True)\n",
    "norm_l_revert.adapt(y_train)\n",
    "\n",
    "X_test = X_dev[samples,:]\n",
    "\n",
    "salary_data = y_dev[samples,0]\n",
    "salary_NN = norm_l_revert(modelNN.predict(X_test,verbose=0).reshape((-1,))).numpy()[0]\n",
    "salary_regr = norm_l_revert(regr.predict(X_test).reshape((-1,))).numpy()[0]\n",
    "salary_XGB = norm_l_revert(modelXGB.predict(X_test)).numpy()[0]\n",
    "\n",
    "errs_test = np.c_[salary_data.T,salary_NN.T,salary_regr.T,salary_XGB.T]\n",
    "pd.options.display.float_format = '{:.2f}'.format\n",
    "errs_test_df = pd.DataFrame(errs_test,columns=['data','Neural Netwrok','Regression','XGBoost'])\n",
    "errs_test_df"
   ]
  },
  {
   "cell_type": "code",
   "execution_count": null,
   "id": "fc777275",
   "metadata": {},
   "outputs": [],
   "source": []
  }
 ],
 "metadata": {
  "kernelspec": {
   "display_name": "Python 3 (ipykernel)",
   "language": "python",
   "name": "python3"
  },
  "language_info": {
   "codemirror_mode": {
    "name": "ipython",
    "version": 3
   },
   "file_extension": ".py",
   "mimetype": "text/x-python",
   "name": "python",
   "nbconvert_exporter": "python",
   "pygments_lexer": "ipython3",
   "version": "3.8.10"
  }
 },
 "nbformat": 4,
 "nbformat_minor": 5
}
