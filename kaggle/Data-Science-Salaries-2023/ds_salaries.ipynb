{
 "cells": [
  {
   "cell_type": "markdown",
   "id": "70e8e6d1",
   "metadata": {},
   "source": [
    "# <span style=\"color:black\"> Data Science Salaries </span>\n",
    "Please see the corresponding [kaggle](https://www.kaggle.com/datasets/arnabchaki/data-science-salaries-2023?select=ds_salaries.csv) link for the details."
   ]
  },
  {
   "cell_type": "markdown",
   "id": "364f5a2f",
   "metadata": {},
   "source": [
    "# <span style=\"color:green\"> DATA </span>"
   ]
  },
  {
   "cell_type": "code",
   "execution_count": 137,
   "id": "a6069ae0",
   "metadata": {},
   "outputs": [],
   "source": [
    "import numpy as np\n",
    "import matplotlib.pyplot as plt\n",
    "import pandas as pd\n",
    "from xgboost import XGBClassifier\n",
    "from sklearn.model_selection import train_test_split\n",
    "\n",
    "plt.rcParams['text.usetex'] = True\n",
    "plt.rcParams.update({'font.size': 14})\n",
    "\n",
    "import pycountry"
   ]
  },
  {
   "cell_type": "code",
   "execution_count": 150,
   "id": "395e5f64",
   "metadata": {},
   "outputs": [
    {
     "data": {
      "text/html": [
       "<div>\n",
       "<style scoped>\n",
       "    .dataframe tbody tr th:only-of-type {\n",
       "        vertical-align: middle;\n",
       "    }\n",
       "\n",
       "    .dataframe tbody tr th {\n",
       "        vertical-align: top;\n",
       "    }\n",
       "\n",
       "    .dataframe thead th {\n",
       "        text-align: right;\n",
       "    }\n",
       "</style>\n",
       "<table border=\"1\" class=\"dataframe\">\n",
       "  <thead>\n",
       "    <tr style=\"text-align: right;\">\n",
       "      <th></th>\n",
       "      <th>work_year</th>\n",
       "      <th>experience_level</th>\n",
       "      <th>employment_type</th>\n",
       "      <th>job_title</th>\n",
       "      <th>salary</th>\n",
       "      <th>salary_currency</th>\n",
       "      <th>salary_in_usd</th>\n",
       "      <th>employee_residence</th>\n",
       "      <th>remote_ratio</th>\n",
       "      <th>company_location</th>\n",
       "      <th>company_size</th>\n",
       "    </tr>\n",
       "  </thead>\n",
       "  <tbody>\n",
       "    <tr>\n",
       "      <th>0</th>\n",
       "      <td>2023</td>\n",
       "      <td>SE</td>\n",
       "      <td>FT</td>\n",
       "      <td>Principal Data Scientist</td>\n",
       "      <td>80000</td>\n",
       "      <td>EUR</td>\n",
       "      <td>85847</td>\n",
       "      <td>ES</td>\n",
       "      <td>100</td>\n",
       "      <td>ES</td>\n",
       "      <td>L</td>\n",
       "    </tr>\n",
       "    <tr>\n",
       "      <th>1</th>\n",
       "      <td>2023</td>\n",
       "      <td>MI</td>\n",
       "      <td>CT</td>\n",
       "      <td>ML Engineer</td>\n",
       "      <td>30000</td>\n",
       "      <td>USD</td>\n",
       "      <td>30000</td>\n",
       "      <td>US</td>\n",
       "      <td>100</td>\n",
       "      <td>US</td>\n",
       "      <td>S</td>\n",
       "    </tr>\n",
       "    <tr>\n",
       "      <th>2</th>\n",
       "      <td>2023</td>\n",
       "      <td>MI</td>\n",
       "      <td>CT</td>\n",
       "      <td>ML Engineer</td>\n",
       "      <td>25500</td>\n",
       "      <td>USD</td>\n",
       "      <td>25500</td>\n",
       "      <td>US</td>\n",
       "      <td>100</td>\n",
       "      <td>US</td>\n",
       "      <td>S</td>\n",
       "    </tr>\n",
       "    <tr>\n",
       "      <th>3</th>\n",
       "      <td>2023</td>\n",
       "      <td>SE</td>\n",
       "      <td>FT</td>\n",
       "      <td>Data Scientist</td>\n",
       "      <td>175000</td>\n",
       "      <td>USD</td>\n",
       "      <td>175000</td>\n",
       "      <td>CA</td>\n",
       "      <td>100</td>\n",
       "      <td>CA</td>\n",
       "      <td>M</td>\n",
       "    </tr>\n",
       "  </tbody>\n",
       "</table>\n",
       "</div>"
      ],
      "text/plain": [
       "   work_year experience_level employment_type                 job_title  \\\n",
       "0       2023               SE              FT  Principal Data Scientist   \n",
       "1       2023               MI              CT               ML Engineer   \n",
       "2       2023               MI              CT               ML Engineer   \n",
       "3       2023               SE              FT            Data Scientist   \n",
       "\n",
       "   salary salary_currency  salary_in_usd employee_residence  remote_ratio  \\\n",
       "0   80000             EUR          85847                 ES           100   \n",
       "1   30000             USD          30000                 US           100   \n",
       "2   25500             USD          25500                 US           100   \n",
       "3  175000             USD         175000                 CA           100   \n",
       "\n",
       "  company_location company_size  \n",
       "0               ES            L  \n",
       "1               US            S  \n",
       "2               US            S  \n",
       "3               CA            M  "
      ]
     },
     "execution_count": 150,
     "metadata": {},
     "output_type": "execute_result"
    }
   ],
   "source": [
    "data = pd.read_csv(\"ds_salaries.csv\")\n",
    "data.head(4)"
   ]
  },
  {
   "cell_type": "markdown",
   "id": "c5a5d20e",
   "metadata": {},
   "source": [
    "# <span style=\"color:green\"> DATA ANALYSIS </span>"
   ]
  },
  {
   "cell_type": "code",
   "execution_count": 205,
   "id": "9c02c8e5",
   "metadata": {},
   "outputs": [
    {
     "name": "stdout",
     "output_type": "stream",
     "text": [
      "total data shape: (3755, 16)\n",
      "The highest paid data scientist made 450000 US dollars,\n",
      "in 2020, works in US, and has an experience level MI.\n",
      "feature work_year           : unique values = 4\n",
      "feature experience_level    : unique values = 4\n",
      "feature employment_type     : unique values = 4\n",
      "feature job_title           : unique values = 93\n",
      "feature salary              : unique values = 815\n",
      "feature salary_currency     : unique values = 20\n",
      "feature salary_in_usd       : unique values = 1035\n",
      "feature employee_residence  : unique values = 78\n",
      "feature remote_ratio        : unique values = 3\n",
      "feature company_location    : unique values = 72\n",
      "feature company_size        : unique values = 3\n",
      "feature job_category        : unique values = 5\n",
      "feature company_country     : unique values = 72\n",
      "feature employee_country    : unique values = 78\n",
      "feature company_continent   : unique values = 5\n",
      "feature employee_continent  : unique values = 5\n"
     ]
    }
   ],
   "source": [
    "print(f\"total data shape: {data.shape}\")\n",
    "\n",
    "max_salary_index = np.argmax(data.loc[:,'salary_in_usd'])\n",
    "print(f\"The highest paid data scientist made {data.loc[max_salary_index,'salary_in_usd']} US dollars,\\n\\\n",
    "in {data.loc[max_salary_index,'work_year']}, \\\n",
    "works in {data.loc[max_salary_index,'employee_residence']}, \\\n",
    "and has an experience level {data.loc[max_salary_index,'experience_level']}.\")\n",
    "\n",
    "def unique_features(data):\n",
    "    nums = []# unique possibilities for each feature\n",
    "    for feature in data.columns:\n",
    "        num = len(data.loc[:,feature].unique())\n",
    "        nums.append(num)\n",
    "        print(f\"feature {feature:20s}: unique values = {num}\")\n",
    "        \n",
    "unique_features(data)"
   ]
  },
  {
   "cell_type": "markdown",
   "id": "157ab39a",
   "metadata": {},
   "source": [
    "## Grouping the categorical data\n",
    "Here, we group similar categories under more broad labels."
   ]
  },
  {
   "cell_type": "markdown",
   "id": "e6f11c4e",
   "metadata": {},
   "source": [
    "- **job title:** group the job titles under categories data_scientist, engineer, researcher, AI developer, and manager."
   ]
  },
  {
   "cell_type": "code",
   "execution_count": 197,
   "id": "c729900b",
   "metadata": {},
   "outputs": [],
   "source": [
    "data_scientist_titles = ['Data Scientist','Data Analyst','Data Modeler','Data Strategist',\\\n",
    "                         'Data Quality Analyst','Compliance Data Analyst','Data Architect',\\\n",
    "                         'Business Data Analyst','Applied Data Scientist','Staff Data Analyst',\\\n",
    "                         'Data Specialist','Financial Data Analyst','BI Developer','BI Analyst',\\\n",
    "                         'Data Science Consultant','Data Analytics Specialist','BI Data Analyst',\\\n",
    "                         'Insight Analyst','Big Data Architect' ,'Product Data Analyst',\\\n",
    "                         'Data Analytics Consultant','Data Management Specialist','Data Operations Analyst',\\\n",
    "                         'Marketing Data Analyst','Power BI Developer','Product Data Scientist',\\\n",
    "                         'Cloud Data Architect','Staff Data Scientist','Finance Data Analyst']\n",
    "engineer_titles = ['ML Engineer','Research Engineer','Analytics Engineer','Business Intelligence Engineer',\\\n",
    "                   'Machine Learning Engineer','Data Engineer','Computer Vision Engineer',\\\n",
    "                   'Applied Machine Learning Engineer','ETL Engineer','Data DevOps Engineer',\\\n",
    "                   'Big Data Engineer','BI Data Engineer','MLOps Engineer','Autonomous Vehicle Technician',\\\n",
    "                   'Cloud Database Engineer','Data Infrastructure Engineer','Software Data Engineer',\\\n",
    "                   'Data Operations Engineer','Machine Learning Infrastructure Engineer','Deep Learning Engineer',\\\n",
    "                   'Machine Learning Software Engineer','Computer Vision Software Engineer','Azure Data Engineer',\\\n",
    "                   'Marketing Data Engineer','Data Science Engineer','Machine Learning Research Engineer',\\\n",
    "                   'NLP Engineer','Data Analytics Engineer','Cloud Data Engineer','ETL Developer']\n",
    "researcher_titles = ['Applied Scientist','Research Scientist','Machine Learning Researcher',\\\n",
    "                  'Machine Learning Scientist','Applied Machine Learning Scientist','Deep Learning Researcher',\\\n",
    "                  'Machine Learning Developer','3D Computer Vision Researcher']\n",
    "manager_titles = ['Principal Data Scientist','Data Analytics Manager','Head of Data','Data Science Manager',\\\n",
    "                  'Data Manager','Lead Data Analyst','Director of Data Science','Lead Data Scientist',\\\n",
    "                  'Data Science Lead','Head of Data Science','Data Analytics Lead','Data Lead',\\\n",
    "                  'Manager Data Management','Principal Machine Learning Engineer','Data Science Tech Lead',\\\n",
    "                  'Data Scientist Lead','Principal Data Architect','Machine Learning Manager',\\\n",
    "                  'Lead Machine Learning Engineer','Lead Data Engineer','Head of Machine Learning',\\\n",
    "                  'Principal Data Analyst','Principal Data Engineer']\n",
    "AI_titles = ['AI Developer','AI Scientist','AI Programmer']\n",
    "\n",
    "# a function to replace job_title feature names\n",
    "def group_job_title(job_title):\n",
    "    if job_title in data_scientist_titles:\n",
    "        return \"data scientist\"\n",
    "    elif job_title in engineer_titles:\n",
    "        return \"engineer\"\n",
    "    elif job_title in researcher_titles:\n",
    "        return \"researcher\"\n",
    "    elif job_title in manager_titles:\n",
    "        return \"manager\"\n",
    "    elif job_title in AI_titles:\n",
    "        return \"AI developer\""
   ]
  },
  {
   "cell_type": "code",
   "execution_count": 198,
   "id": "6feeda87",
   "metadata": {},
   "outputs": [],
   "source": [
    "data['job_category'] = data['job_title'].apply(group_job_title)"
   ]
  },
  {
   "cell_type": "markdown",
   "id": "779ab181",
   "metadata": {},
   "source": [
    "- **company and employee location:** group countaries into bigger regions. We first use pycountry to convert country codes to country names to faciliate the process."
   ]
  },
  {
   "cell_type": "code",
   "execution_count": 199,
   "id": "b190f728",
   "metadata": {},
   "outputs": [],
   "source": [
    "def country_name(country_code):\n",
    "    try:\n",
    "        return pycountry.countries.get(alpha_2=country_code).name\n",
    "    except:\n",
    "        return 'other'\n",
    "    \n",
    "data['company_country'] = data['company_location'].apply(country_name)\n",
    "data['employee_country'] = data['employee_residence'].apply(country_name)"
   ]
  },
  {
   "cell_type": "code",
   "execution_count": 200,
   "id": "fa87b0d5",
   "metadata": {},
   "outputs": [],
   "source": [
    "europe = ['Spain','Germany','United Kingdom','Netherlands',\\\n",
    "          'Switzerland','France','Finland','Ukraine','Ireland',\\\n",
    "          'Sweden','Slovenia','Portugal','Russian Federation',\\\n",
    "          'Croatia','Estonia','Armenia','Bosnia and Herzegovina',\\\n",
    "          'Greece','North Macedonia','Latvia','Romania','Italy',\\\n",
    "          'Poland','Albania','Lithuania','Hungary','Austria','Slovakia',\\\n",
    "          'Czechia','Turkey','Denmark','Belgium','Luxembourg','Moldova, Republic of',\\\n",
    "          'Malta','Cyprus','Bulgaria','Serbia','Jersey']\n",
    "america = ['United States','Canada','Mexico','Colombia','Brazil',\\\n",
    "           'Argentina','Costa Rica','Bahamas','Puerto Rico',\\\n",
    "           'Bolivia, Plurinational State of','Honduras','Chile','Dominican Republic']\n",
    "africa = ['Nigeria','Central African Republic','Ghana','Kenya','Morocco','Egypt','Algeria','Tunisia']\n",
    "asia = ['Hong Kong','Singapore','Thailand','Viet Nam','Philippines',\\\n",
    "        'Indonesia','India','Pakistan','Israel','Iran, Islamic Republic of',\\\n",
    "        'United Arab Emirates','Malaysia','Japan','Iraq','China','Uzbekistan','Kuwait']\n",
    "oceania = ['Australia','New Zealand','American Samoa']\n",
    "\n",
    "# a function to replace country feature names\n",
    "def group_country(country):\n",
    "    if country in europe:\n",
    "        return \"europe\"\n",
    "    elif country in america:\n",
    "        return \"america\"\n",
    "    elif country in asia:\n",
    "        return \"asia\"\n",
    "    elif country in africa:\n",
    "        return \"africa\"\n",
    "    elif country in oceania:\n",
    "        return \"oceanoia\"\n",
    "    else:\n",
    "        return \"some continent!\""
   ]
  },
  {
   "cell_type": "code",
   "execution_count": 201,
   "id": "15679f9a",
   "metadata": {},
   "outputs": [],
   "source": [
    "data['company_continent'] = data['company_country'].apply(group_country)\n",
    "data['employee_continent'] = data['employee_country'].apply(group_country)"
   ]
  },
  {
   "cell_type": "code",
   "execution_count": 202,
   "id": "74808b1f",
   "metadata": {},
   "outputs": [],
   "source": [
    "# clean data\n",
    "dataCleaned = data.drop(columns=['salary','salary_currency','job_title','employee_residence','employee_country','company_location','company_country'])"
   ]
  },
  {
   "cell_type": "markdown",
   "id": "7e4b236b",
   "metadata": {},
   "source": [
    "## Display and analyze the finalized table of data"
   ]
  },
  {
   "cell_type": "code",
   "execution_count": 204,
   "id": "6cdce1d7",
   "metadata": {},
   "outputs": [
    {
     "name": "stdout",
     "output_type": "stream",
     "text": [
      "feature work_year           : unique values = 4\n",
      "feature experience_level    : unique values = 4\n",
      "feature employment_type     : unique values = 4\n",
      "feature salary_in_usd       : unique values = 1035\n",
      "feature remote_ratio        : unique values = 3\n",
      "feature company_size        : unique values = 3\n",
      "feature job_category        : unique values = 5\n",
      "feature company_continent   : unique values = 5\n",
      "feature employee_continent  : unique values = 5\n"
     ]
    },
    {
     "data": {
      "text/html": [
       "<div>\n",
       "<style scoped>\n",
       "    .dataframe tbody tr th:only-of-type {\n",
       "        vertical-align: middle;\n",
       "    }\n",
       "\n",
       "    .dataframe tbody tr th {\n",
       "        vertical-align: top;\n",
       "    }\n",
       "\n",
       "    .dataframe thead th {\n",
       "        text-align: right;\n",
       "    }\n",
       "</style>\n",
       "<table border=\"1\" class=\"dataframe\">\n",
       "  <thead>\n",
       "    <tr style=\"text-align: right;\">\n",
       "      <th></th>\n",
       "      <th>work_year</th>\n",
       "      <th>experience_level</th>\n",
       "      <th>employment_type</th>\n",
       "      <th>salary_in_usd</th>\n",
       "      <th>remote_ratio</th>\n",
       "      <th>company_size</th>\n",
       "      <th>job_category</th>\n",
       "      <th>company_continent</th>\n",
       "      <th>employee_continent</th>\n",
       "    </tr>\n",
       "  </thead>\n",
       "  <tbody>\n",
       "    <tr>\n",
       "      <th>0</th>\n",
       "      <td>2023</td>\n",
       "      <td>SE</td>\n",
       "      <td>FT</td>\n",
       "      <td>85847</td>\n",
       "      <td>100</td>\n",
       "      <td>L</td>\n",
       "      <td>manager</td>\n",
       "      <td>europe</td>\n",
       "      <td>europe</td>\n",
       "    </tr>\n",
       "    <tr>\n",
       "      <th>1</th>\n",
       "      <td>2023</td>\n",
       "      <td>MI</td>\n",
       "      <td>CT</td>\n",
       "      <td>30000</td>\n",
       "      <td>100</td>\n",
       "      <td>S</td>\n",
       "      <td>engineer</td>\n",
       "      <td>america</td>\n",
       "      <td>america</td>\n",
       "    </tr>\n",
       "    <tr>\n",
       "      <th>2</th>\n",
       "      <td>2023</td>\n",
       "      <td>MI</td>\n",
       "      <td>CT</td>\n",
       "      <td>25500</td>\n",
       "      <td>100</td>\n",
       "      <td>S</td>\n",
       "      <td>engineer</td>\n",
       "      <td>america</td>\n",
       "      <td>america</td>\n",
       "    </tr>\n",
       "    <tr>\n",
       "      <th>3</th>\n",
       "      <td>2023</td>\n",
       "      <td>SE</td>\n",
       "      <td>FT</td>\n",
       "      <td>175000</td>\n",
       "      <td>100</td>\n",
       "      <td>M</td>\n",
       "      <td>data scientist</td>\n",
       "      <td>america</td>\n",
       "      <td>america</td>\n",
       "    </tr>\n",
       "    <tr>\n",
       "      <th>4</th>\n",
       "      <td>2023</td>\n",
       "      <td>SE</td>\n",
       "      <td>FT</td>\n",
       "      <td>120000</td>\n",
       "      <td>100</td>\n",
       "      <td>M</td>\n",
       "      <td>data scientist</td>\n",
       "      <td>america</td>\n",
       "      <td>america</td>\n",
       "    </tr>\n",
       "  </tbody>\n",
       "</table>\n",
       "</div>"
      ],
      "text/plain": [
       "   work_year experience_level employment_type  salary_in_usd  remote_ratio  \\\n",
       "0       2023               SE              FT          85847           100   \n",
       "1       2023               MI              CT          30000           100   \n",
       "2       2023               MI              CT          25500           100   \n",
       "3       2023               SE              FT         175000           100   \n",
       "4       2023               SE              FT         120000           100   \n",
       "\n",
       "  company_size    job_category company_continent employee_continent  \n",
       "0            L         manager            europe             europe  \n",
       "1            S        engineer           america            america  \n",
       "2            S        engineer           america            america  \n",
       "3            M  data scientist           america            america  \n",
       "4            M  data scientist           america            america  "
      ]
     },
     "execution_count": 204,
     "metadata": {},
     "output_type": "execute_result"
    }
   ],
   "source": [
    "unique_features(dataCleaned)\n",
    "dataCleaned.head(4)"
   ]
  },
  {
   "cell_type": "markdown",
   "id": "c7703a59",
   "metadata": {},
   "source": [
    "## One-hot encoding"
   ]
  },
  {
   "cell_type": "code",
   "execution_count": 210,
   "id": "d0dfe2ec",
   "metadata": {},
   "outputs": [
    {
     "name": "stdout",
     "output_type": "stream",
     "text": [
      "The multiclass categorical features are:\n",
      "['work_year', 'experience_level', 'employment_type', 'remote_ratio', 'company_size', 'job_category', 'company_continent', 'employee_continent']\n",
      "total number of features after one-hot encoding: 33\n"
     ]
    }
   ],
   "source": [
    "cat_features = ['work_year','experience_level','employment_type','remote_ratio',\\\n",
    "                'company_size','job_category','company_continent','employee_continent']\n",
    "print(f\"The multiclass categorical features are:\\n{cat_features}\")\n",
    "dataOHE = pd.get_dummies(data = dataCleaned, prefix = cat_features, columns = cat_features)\n",
    "\n",
    "features = [x for x in dataOHE.columns if x != 'salary_in_usd'] ## Removing our target variable\n",
    "print(f\"total number of features after one-hot encoding: {len(features)}\")"
   ]
  },
  {
   "cell_type": "markdown",
   "id": "6f764b6b",
   "metadata": {},
   "source": [
    "## <span style=\"color:green\"> MACHINE LEARNING </span>"
   ]
  },
  {
   "cell_type": "markdown",
   "id": "fbdf8ddf",
   "metadata": {},
   "source": [
    "## Split the data using Scikit-learn"
   ]
  },
  {
   "cell_type": "code",
   "execution_count": 212,
   "id": "bdcb2d7d",
   "metadata": {},
   "outputs": [
    {
     "name": "stdout",
     "output_type": "stream",
     "text": [
      "X_train.shape = (3004, 33), X_dev.shape = (375, 33), X_test.shape = (376, 33)\n",
      "y_train.shape = (3004,), y_dev.shape = (375,), y_test.shape = (376,)\n"
     ]
    }
   ],
   "source": [
    "X_train, X_, y_train, y_ = train_test_split(dataOHE[features],dataOHE['salary_in_usd'],train_size=0.8, random_state=1)\n",
    "X_dev, X_test, y_dev, y_test = train_test_split(X_,y_,train_size=0.5, random_state=1)\n",
    "\n",
    "print(f\"X_train.shape = {X_train.shape}, X_dev.shape = {X_dev.shape}, X_test.shape = {X_test.shape}\")\n",
    "print(f\"y_train.shape = {y_train.shape}, y_dev.shape = {y_dev.shape}, y_test.shape = {y_test.shape}\")"
   ]
  }
 ],
 "metadata": {
  "kernelspec": {
   "display_name": "Python 3 (ipykernel)",
   "language": "python",
   "name": "python3"
  },
  "language_info": {
   "codemirror_mode": {
    "name": "ipython",
    "version": 3
   },
   "file_extension": ".py",
   "mimetype": "text/x-python",
   "name": "python",
   "nbconvert_exporter": "python",
   "pygments_lexer": "ipython3",
   "version": "3.8.10"
  }
 },
 "nbformat": 4,
 "nbformat_minor": 5
}
