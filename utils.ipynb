{
 "cells": [
  {
   "cell_type": "markdown",
   "id": "76cc2f3c",
   "metadata": {},
   "source": [
    "# Utilities"
   ]
  },
  {
   "cell_type": "code",
   "execution_count": 56,
   "id": "64da75e2",
   "metadata": {},
   "outputs": [],
   "source": [
    "import numpy as np"
   ]
  },
  {
   "cell_type": "markdown",
   "id": "e0ff92e1",
   "metadata": {},
   "source": [
    "## Feature mapping\n",
    "Given an $m\\times 2$ matrix of training features $\\mathbf{x}$, return all engineered features of up to degree $N$."
   ]
  },
  {
   "cell_type": "code",
   "execution_count": 1,
   "id": "5d27ff05",
   "metadata": {},
   "outputs": [],
   "source": [
    "def feature_mapping(x,N):\n",
    "    m = x.shape[0]\n",
    "    x1 = x[:,0]\n",
    "    x2 = x[:,1]\n",
    "            \n",
    "    xMapped = x1\n",
    "        \n",
    "    for i in range(1, N+1):\n",
    "        for j in range(i+1):\n",
    "#             newVec = x1**(i-j)*(x2**j)\n",
    "            newVec = np.power(x1,i-j)*np.power(x2,j)\n",
    "            xMapped = np.append(xMapped,newVec)\n",
    "\n",
    "    xMapped = xMapped[m:].reshape(-1,m).T\n",
    "    return xMapped"
   ]
  },
  {
   "cell_type": "markdown",
   "id": "a69fc429",
   "metadata": {},
   "source": [
    "## Decision boundary\n",
    "The following function uses a single-level contour to draw the decision boundary for a mapped, scaled, data. **IMPORTANT:** This function uses the function feature_mapping defined above and assums the original parameters are scaled to lie on the interval $[-1,1]$. Therefore, one needs to scale the features before any feature mapping by\n",
    "$$x^{(i)}_j:=-1+2\\frac{x^{(i)}_j-\\mathrm{min}_j}{\\mathrm{max}_j-\\mathrm{min}_j},$$\n",
    "where $\\mathrm{min}_j$ and $\\mathrm{max}_j$ are minimum and maximum elements of the feature $j$ among $m$ training data sets. \n",
    "\n",
    "Moreover, the $\\mathbf{w}$ and $b$ inputs should be the ones obtained for mapped, scaled, features (note the order). See \"logisticRegression_nonlinearDecisionBorder\"\" for an example."
   ]
  },
  {
   "cell_type": "code",
   "execution_count": null,
   "id": "3a315800",
   "metadata": {},
   "outputs": [],
   "source": [
    "def plot_decision_boundary(N,w,b):\n",
    "    x0M = 50\n",
    "    x1M = 50\n",
    "    x0 = np.linspace(-1,1,x0M)\n",
    "    x1 = np.linspace(-1,1,x1M)\n",
    "    X0, X1 = np.meshgrid(x0, x1)\n",
    "    Z = np.zeros((x0M,x1M))\n",
    "    for i in range(x0M):\n",
    "        for j in range(x1M):\n",
    "            xij = np.array([x0[i],x1[j]])\n",
    "            xij = xij.reshape(1,-1)\n",
    "            xMapped = feature_mapping(xij,N)\n",
    "            Z[i,j] = np.dot(xMapped,w)+b\n",
    "\n",
    "    cp = plt.contour(X0, X1, Z,levels=[0],colors=\"r\")"
   ]
  }
 ],
 "metadata": {
  "kernelspec": {
   "display_name": "Python 3 (ipykernel)",
   "language": "python",
   "name": "python3"
  },
  "language_info": {
   "codemirror_mode": {
    "name": "ipython",
    "version": 3
   },
   "file_extension": ".py",
   "mimetype": "text/x-python",
   "name": "python",
   "nbconvert_exporter": "python",
   "pygments_lexer": "ipython3",
   "version": "3.8.10"
  }
 },
 "nbformat": 4,
 "nbformat_minor": 5
}
