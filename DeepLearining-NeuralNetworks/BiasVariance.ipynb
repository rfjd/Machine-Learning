{
 "cells": [
  {
   "cell_type": "markdown",
   "id": "70e8e6d1",
   "metadata": {},
   "source": [
    "# Bias \\& Variance"
   ]
  },
  {
   "cell_type": "code",
   "execution_count": 88,
   "id": "a6069ae0",
   "metadata": {},
   "outputs": [],
   "source": [
    "%run src.ipynb\n",
    "from sklearn import linear_model\n",
    "from sklearn.metrics import mean_squared_error\n",
    "from sklearn.preprocessing import PolynomialFeatures\n",
    "from sklearn.model_selection import train_test_split\n",
    "\n",
    "data = np.loadtxt('../data/data_BiasVariance_1.csv', delimiter=',')\n",
    "\n",
    "X = data[:,0].reshape((-1,1))\n",
    "y = data[:,1].reshape((-1,1))"
   ]
  },
  {
   "cell_type": "markdown",
   "id": "15a8e2d8",
   "metadata": {},
   "source": [
    "### Split the data into traing (60%), dev (20%), and test (20%) sets"
   ]
  },
  {
   "cell_type": "code",
   "execution_count": 89,
   "id": "395e5f64",
   "metadata": {},
   "outputs": [
    {
     "name": "stdout",
     "output_type": "stream",
     "text": [
      "X.shape = (100, 1), X_train.shape = (60, 1), X_dev.shape = (20, 1), X_test.shape = (20, 1)\n",
      "y.shape = (100, 1), y_train.shape = (60, 1), y_dev.shape = (20, 1), y_test.shape = (20, 1)\n"
     ]
    }
   ],
   "source": [
    "def split_data(X,y):\n",
    "    X_train, X_, y_train, y_ = train_test_split(X,y,train_size=0.6, random_state=80)\n",
    "    X_dev, X_test, y_dev, y_test = train_test_split(X_,y_,train_size=0.5, random_state=80)\n",
    "    print(f\"X.shape = {X.shape}, X_train.shape = {X_train.shape}, X_dev.shape = {X_dev.shape}, X_test.shape = {X_test.shape}\")\n",
    "    print(f\"y.shape = {y.shape}, y_train.shape = {y_train.shape}, y_dev.shape = {y_dev.shape}, y_test.shape = {y_test.shape}\")\n",
    "    \n",
    "    return X_train, y_train, X_dev, y_dev, X_test, y_test\n",
    "\n",
    "X_train, y_train, X_dev, y_dev, X_test, y_test = split_data(X,y)"
   ]
  },
  {
   "cell_type": "markdown",
   "id": "a53c16d6",
   "metadata": {},
   "source": [
    "### A for loop to evaluate polynomial models of different degrees"
   ]
  },
  {
   "cell_type": "code",
   "execution_count": 90,
   "id": "081e0d3c",
   "metadata": {},
   "outputs": [],
   "source": [
    "def plot_train(regr,X_train,y_train,X_dev,y_dev,max_degree):\n",
    "    train_MSE = []\n",
    "    dev_MSE = []\n",
    "    models = []\n",
    "    norm_ls = []\n",
    "\n",
    "    degrees = range(1,max_degree)\n",
    "    \n",
    "    for degree in degrees:\n",
    "        # Generate the mapped features\n",
    "        poly = PolynomialFeatures(degree=degree, include_bias=True)\n",
    "        X_trainMapped = poly.fit_transform(X_train)\n",
    "    \n",
    "        # Normalize the mapped training data\n",
    "        norm_l = tf.keras.layers.Normalization(axis=-1)\n",
    "        norm_l.adapt(X_trainMapped)\n",
    "        X_trainMappedn = norm_l(X_trainMapped)\n",
    "        norm_ls.append(norm_l)\n",
    "    \n",
    "        # Fit the normalized mapped training data\n",
    "        regr.fit(X_trainMappedn,y_train)\n",
    "        models.append(regr)\n",
    "\n",
    "        # Compute mean-squared-error for the training data\n",
    "        yPredict = regr.predict(X_trainMappedn)\n",
    "        train_MSE.append(0.5*mean_squared_error(y_train,yPredict))\n",
    "    \n",
    "        # Map and normalize the dev data\n",
    "        X_devMapped = poly.fit_transform(X_dev)\n",
    "        X_devMappedn = norm_l(X_devMapped)\n",
    "    \n",
    "        # Compute mean-square-error for the dev data\n",
    "        yPredict = regr.predict(X_devMappedn)\n",
    "        dev_MSE.append(0.5*mean_squared_error(y_dev,yPredict))\n",
    "    \n",
    "\n",
    "    print(f\"train_MSE, dev_MSE =\\n {np.c_[train_MSE,dev_MSE]}\")\n",
    "\n",
    "    plt.figure(figsize=[6,4])\n",
    "    plt.plot(degrees,train_MSE,'xk',label='train')\n",
    "    plt.plot(degrees,dev_MSE,'sb',label='dev')\n",
    "    plt.xlabel('$n$')\n",
    "    plt.ylabel('MSE')\n",
    "    plt.legend(frameon=False)"
   ]
  },
  {
   "cell_type": "markdown",
   "id": "b5135618",
   "metadata": {},
   "source": [
    "### Train a linear model"
   ]
  },
  {
   "cell_type": "code",
   "execution_count": 91,
   "id": "f6e9f87f",
   "metadata": {},
   "outputs": [
    {
     "name": "stdout",
     "output_type": "stream",
     "text": [
      "train_MSE, dev_MSE =\n",
      " [[484.6243221  856.02817181]\n",
      " [416.10673351 717.34942565]\n",
      " [408.83055963 750.8512644 ]\n",
      " [399.94850651 770.25432321]\n",
      " [399.01451678 781.7020306 ]]\n"
     ]
    },
    {
     "data": {
      "image/png": "[encoded data removed]",
      "text/plain": [
       "<Figure size 600x400 with 1 Axes>"
      ]
     },
     "metadata": {},
     "output_type": "display_data"
    }
   ],
   "source": [
    "max_degree = 6\n",
    "base_line1 = 400\n",
    "base_line2 = 250\n",
    "regr = linear_model.LinearRegression(fit_intercept=True)\n",
    "plot_train(regr,X_train,y_train,X_dev,y_dev,max_degree)\n",
    "plt.plot(degrees,base_line1*np.ones(len(degrees)),'--r',label='baseline \\#1')\n",
    "plt.plot(degrees,base_line2*np.ones(len(degrees)),'--g',label='baseline \\#2')\n",
    "plt.legend(frameon=False)\n",
    "plt.show()"
   ]
  },
  {
   "cell_type": "markdown",
   "id": "780749cc",
   "metadata": {},
   "source": [
    "### Analysis\n",
    "Looking at above figure, if one we consider the high baseline, then our model (say when $n=4$) has a high variance since it fits the training data very well (even better than the baseline) but the dev datset has a large mean-squared-error. However, if we consider the low baseline, we realize that we have in fact a high bias since the mean-squared-error is high for the both training and dev data sets. Below we attempt to reduce this **bias**."
   ]
  },
  {
   "cell_type": "markdown",
   "id": "541691fc",
   "metadata": {},
   "source": [
    "### Collect more features:\n",
    "Imagine that we somehow got access to more data: now two features"
   ]
  },
  {
   "cell_type": "code",
   "execution_count": 92,
   "id": "d13ecc58",
   "metadata": {},
   "outputs": [
    {
     "name": "stdout",
     "output_type": "stream",
     "text": [
      "X.shape = (100, 2), X_train.shape = (60, 2), X_dev.shape = (20, 2), X_test.shape = (20, 2)\n",
      "y.shape = (100, 1), y_train.shape = (60, 1), y_dev.shape = (20, 1), y_test.shape = (20, 1)\n",
      "train_MSE, dev_MSE =\n",
      " [[315.9285463  498.20616711]\n",
      " [267.98016066 391.00997233]\n",
      " [241.55122966 518.4670612 ]\n",
      " [235.29346954 552.95630224]\n",
      " [192.77586948 804.2878601 ]]\n"
     ]
    },
    {
     "data": {
      "image/png": "[encoded data removed]",
      "text/plain": [
       "<Figure size 600x400 with 1 Axes>"
      ]
     },
     "metadata": {},
     "output_type": "display_data"
    }
   ],
   "source": [
    "data = np.loadtxt('../data/data_BiasVariance_2.csv', delimiter=',')\n",
    "\n",
    "X = data[:,:-1].reshape((-1,2))\n",
    "y = data[:,-1].reshape((-1,1))\n",
    "X_train, y_train, X_dev, y_dev, X_test, y_test = split_data(X,y)\n",
    "regr = linear_model.LinearRegression(fit_intercept=True)\n",
    "plot_train(regr,X_train,y_train,X_dev,y_dev,max_degree)\n",
    "plt.plot(degrees,base_line2*np.ones(len(degrees)),'--g',label='baseline')\n",
    "plt.legend(frameon=False)\n",
    "plt.show()"
   ]
  },
  {
   "cell_type": "markdown",
   "id": "15d907aa",
   "metadata": {},
   "source": [
    "### What now?\n",
    "Now we have an **overfitting** problem! The training data is fitted very well, and better than the baseline but the dev set is not lookin good!"
   ]
  },
  {
   "cell_type": "markdown",
   "id": "b8d8a702",
   "metadata": {},
   "source": [
    "### Use regularization to reduce overfitting\n",
    "We pick $n=4$ and try to reduce the overfitting by adding an appropriate regulaziation. We use Scikit Ridge class to perform this task"
   ]
  },
  {
   "cell_type": "markdown",
   "id": "bd2ef8a0",
   "metadata": {},
   "source": [
    "### A for loop to evaluate the model for different $\\lambda$ values"
   ]
  },
  {
   "cell_type": "code",
   "execution_count": 93,
   "id": "a4ea8512",
   "metadata": {},
   "outputs": [],
   "source": [
    "def plot_train_regularization(X_train,y_train,X_dev,y_dev,degree,lambdas):\n",
    "    train_MSE = []\n",
    "    dev_MSE = []\n",
    "    models = []\n",
    "    norm_ls = []\n",
    "    \n",
    "    for lambda_ in lambdas:\n",
    "        # Generate the mapped features\n",
    "        poly = PolynomialFeatures(degree=degree, include_bias=True)\n",
    "        X_trainMapped = poly.fit_transform(X_train)\n",
    "    \n",
    "        # Normalize the mapped training data\n",
    "        norm_l = tf.keras.layers.Normalization(axis=-1)\n",
    "        norm_l.adapt(X_trainMapped)\n",
    "        X_trainMappedn = norm_l(X_trainMapped)\n",
    "        norm_ls.append(norm_l)\n",
    "    \n",
    "        # Fit the normalized mapped training data\n",
    "        regr = linear_model.Ridge(alpha=lambda_)\n",
    "        regr.fit(X_trainMappedn,y_train)\n",
    "        models.append(regr)\n",
    "\n",
    "        # Compute mean-squared-error for the training data\n",
    "        yPredict = regr.predict(X_trainMappedn)\n",
    "        train_MSE.append(0.5*mean_squared_error(y_train,yPredict))\n",
    "    \n",
    "        # Map and normalize the dev data\n",
    "        X_devMapped = poly.fit_transform(X_dev)\n",
    "        X_devMappedn = norm_l(X_devMapped)\n",
    "    \n",
    "        # Compute mean-square-error for the dev data\n",
    "        yPredict = regr.predict(X_devMappedn)\n",
    "        dev_MSE.append(0.5*mean_squared_error(y_dev,yPredict))\n",
    "    \n",
    "    print(f\"train_MSE, dev_MSE =\\n {np.c_[train_MSE,dev_MSE]}\")\n",
    "\n",
    "    plt.figure(figsize=[6,4])\n",
    "    plt.plot(lambdas,train_MSE,'xk',label='train')\n",
    "    plt.plot(lambdas,dev_MSE,'sb',label='dev')\n",
    "    plt.xlabel('$\\lambda$')\n",
    "    plt.ylabel('MSE')\n",
    "    plt.legend(frameon=False)\n",
    "    \n",
    "    return train_MSE, dev_MSE\n"
   ]
  },
  {
   "cell_type": "markdown",
   "id": "d038ba5f",
   "metadata": {},
   "source": [
    "## Train the model"
   ]
  },
  {
   "cell_type": "code",
   "execution_count": 94,
   "id": "919ae75c",
   "metadata": {},
   "outputs": [
    {
     "name": "stdout",
     "output_type": "stream",
     "text": [
      "train_MSE, dev_MSE =\n",
      " [[235.29341274 552.96385407]\n",
      " [242.50828201 501.01402795]\n",
      " [244.44079465 482.030571  ]\n",
      " [246.20528751 465.84852198]\n",
      " [249.2905091  449.30236648]\n",
      " [255.88126374 438.09526785]\n",
      " [263.81465717 445.68341756]\n",
      " [277.70000605 474.84124606]]\n"
     ]
    },
    {
     "data": {
      "image/png": "[encoded data removed]",
      "text/plain": [
       "<Figure size 600x400 with 1 Axes>"
      ]
     },
     "metadata": {},
     "output_type": "display_data"
    },
    {
     "name": "stdout",
     "output_type": "stream",
     "text": [
      "The lowest dev MSE occurs for lambda = 0.5\n"
     ]
    }
   ],
   "source": [
    "lambdas = [0, 0.01, 0.05, 0.1, 0.2, 0.5, 1, 2]\n",
    "degree = 4\n",
    "train_MSE, dev_MSE = plot_train_regularization(X_train,y_train,X_dev,y_dev,degree,lambdas)\n",
    "plt.plot(lambdas,base_line2*np.ones(len(lambdas)),'--g',label='baseline')\n",
    "plt.legend(frameon=False)\n",
    "plt.show()\n",
    "\n",
    "lambda_ = lambdas[np.argmin(dev_MSE)]\n",
    "print(f\"The lowest dev MSE occurs for lambda = {lambda_}\")"
   ]
  },
  {
   "cell_type": "markdown",
   "id": "ac1441db",
   "metadata": {},
   "source": [
    "## Learning curves"
   ]
  },
  {
   "cell_type": "code",
   "execution_count": 95,
   "id": "ec5e7beb",
   "metadata": {},
   "outputs": [
    {
     "name": "stdout",
     "output_type": "stream",
     "text": [
      "X.shape = (1000, 2), X_train.shape = (600, 2), X_dev.shape = (200, 2), X_test.shape = (200, 2)\n",
      "y.shape = (1000, 1), y_train.shape = (600, 1), y_dev.shape = (200, 1), y_test.shape = (200, 1)\n"
     ]
    }
   ],
   "source": [
    "data = np.loadtxt('../data/data_BiasVariance_3.csv', delimiter=',')\n",
    "\n",
    "X = data[:,:-1].reshape((-1,2))\n",
    "y = data[:,-1].reshape((-1,1))\n",
    "X_train, y_train, X_dev, y_dev, X_test, y_test = split_data(X,y)"
   ]
  },
  {
   "cell_type": "code",
   "execution_count": 96,
   "id": "c4d59c14",
   "metadata": {},
   "outputs": [],
   "source": [
    "def plot_train_regularization(X_train,y_train,X_dev,y_dev,degree,lambda_,base_line):\n",
    "    train_MSE = []\n",
    "    dev_MSE = []\n",
    "    models = []\n",
    "    norm_ls = []\n",
    "    numData = []\n",
    "    percents = [10, 20, 30, 40, 50, 60, 70, 80, 90, 100]\n",
    "    \n",
    "    X_train_total = X_train\n",
    "    y_train_total = y_train\n",
    "    length = X_train_total.shape[0]\n",
    "    \n",
    "    for percent in percents:\n",
    "        \n",
    "        index = round(length*percent/100)\n",
    "        X_train = X_train_total[:index,:]\n",
    "        y_train = y_train_total[:index,:]\n",
    "        numData.append(X_train.shape[0])\n",
    "        # Generate the mapped features\n",
    "        poly = PolynomialFeatures(degree=degree, include_bias=True)\n",
    "        X_trainMapped = poly.fit_transform(X_train)\n",
    "    \n",
    "        # Normalize the mapped training data\n",
    "        norm_l = tf.keras.layers.Normalization(axis=-1)\n",
    "        norm_l.adapt(X_trainMapped)\n",
    "        X_trainMappedn = norm_l(X_trainMapped)\n",
    "        norm_ls.append(norm_l)\n",
    "    \n",
    "        # Fit the normalized mapped training data\n",
    "        regr = linear_model.Ridge(alpha=lambda_)\n",
    "        regr.fit(X_trainMappedn,y_train)\n",
    "        models.append(regr)\n",
    "\n",
    "        # Compute mean-squared-error for the training data\n",
    "        yPredict = regr.predict(X_trainMappedn)\n",
    "        train_MSE.append(0.5*mean_squared_error(y_train,yPredict))\n",
    "    \n",
    "        # Map and normalize the dev data\n",
    "        X_devMapped = poly.fit_transform(X_dev)\n",
    "        X_devMappedn = norm_l(X_devMapped)\n",
    "    \n",
    "        # Compute mean-square-error for the dev data\n",
    "        yPredict = regr.predict(X_devMappedn)\n",
    "        dev_MSE.append(0.5*mean_squared_error(y_dev,yPredict))\n",
    "    \n",
    "    print(f\"train_MSE, dev_MSE =\\n {np.c_[train_MSE,dev_MSE]}\")\n",
    "\n",
    "    plt.figure(figsize=[6,4])\n",
    "    plt.plot(numData,train_MSE,'xk',label='train')\n",
    "    plt.plot(numData,dev_MSE,'sb',label='dev')\n",
    "    plt.plot(numData,base_line*np.ones(len(numData)),'--g',label='baseline')\n",
    "    plt.xlabel('$m$')\n",
    "    plt.ylabel('MSE')\n",
    "    plt.legend(frameon=False)\n",
    "    plt.show()"
   ]
  },
  {
   "cell_type": "code",
   "execution_count": 97,
   "id": "730ba4cb",
   "metadata": {},
   "outputs": [
    {
     "name": "stdout",
     "output_type": "stream",
     "text": [
      "train_MSE, dev_MSE =\n",
      " [[247.16353316 346.7702519 ]\n",
      " [294.95831614 314.22808069]\n",
      " [283.40931079 311.37526997]\n",
      " [281.1204048  312.60221833]\n",
      " [279.66508507 303.90896795]\n",
      " [268.93905607 302.32272081]\n",
      " [267.16874471 305.1054877 ]\n",
      " [277.69726537 302.33572948]\n",
      " [274.65046    297.41963253]\n",
      " [270.09081681 297.35997097]]\n"
     ]
    },
    {
     "data": {
      "image/png": "[encoded data removed]",
      "text/plain": [
       "<Figure size 600x400 with 1 Axes>"
      ]
     },
     "metadata": {},
     "output_type": "display_data"
    }
   ],
   "source": [
    "plot_train_regularization(X_train,y_train,X_dev,y_dev,degree,lambda_,250)"
   ]
  },
  {
   "cell_type": "code",
   "execution_count": null,
   "id": "2fa3d53b",
   "metadata": {},
   "outputs": [],
   "source": []
  }
 ],
 "metadata": {
  "kernelspec": {
   "display_name": "Python 3 (ipykernel)",
   "language": "python",
   "name": "python3"
  },
  "language_info": {
   "codemirror_mode": {
    "name": "ipython",
    "version": 3
   },
   "file_extension": ".py",
   "mimetype": "text/x-python",
   "name": "python",
   "nbconvert_exporter": "python",
   "pygments_lexer": "ipython3",
   "version": "3.8.10"
  }
 },
 "nbformat": 4,
 "nbformat_minor": 5
}
