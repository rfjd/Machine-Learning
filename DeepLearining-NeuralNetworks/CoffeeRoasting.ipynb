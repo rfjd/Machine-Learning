{
 "cells": [
  {
   "cell_type": "markdown",
   "id": "6056fc3c",
   "metadata": {},
   "source": [
    "# A coffee roasting priblem:\n",
    "## GOOD versus BAD roast depending on roasting time and temperature"
   ]
  },
  {
   "cell_type": "code",
   "execution_count": 15,
   "id": "2bd38d8a",
   "metadata": {},
   "outputs": [],
   "source": [
    "%run src.ipynb"
   ]
  },
  {
   "cell_type": "markdown",
   "id": "c17b8484",
   "metadata": {},
   "source": [
    "## Creating a roasting training data "
   ]
  },
  {
   "cell_type": "code",
   "execution_count": 18,
   "id": "120db797",
   "metadata": {},
   "outputs": [],
   "source": [
    "# Taken directly from the course site with minor edits\n",
    "def load_coffee_data():\n",
    "    \"\"\" Creates a coffee roasting data set.\n",
    "        roasting duration: 12-15 minutes is best\n",
    "        temperature range: 175-260C is best\n",
    "    \"\"\"\n",
    "    rng = np.random.default_rng(2)\n",
    "    X = rng.random(400).reshape(-1,2)\n",
    "    X[:,1] = X[:,1] * 4 + 11.5          # 12-15 min is best\n",
    "    X[:,0] = X[:,0] * (285-150) + 150  # 350-500 F (175-260 C) is best\n",
    "    y = np.zeros(len(X))\n",
    "    \n",
    "    i=0\n",
    "    for t,d in X:\n",
    "        z = -3/(260-175)*t + 21\n",
    "        if (t > 175 and t < 260 and d > 12 and d < 15 and d<=z ):\n",
    "            y[i] = 1\n",
    "        else:\n",
    "            y[i] = 0\n",
    "        i += 1\n",
    "    \n",
    "    return (X, y)\n"
   ]
  },
  {
   "cell_type": "code",
   "execution_count": 19,
   "id": "c1083305",
   "metadata": {},
   "outputs": [
    {
     "name": "stdout",
     "output_type": "stream",
     "text": [
      "X.shape = (200, 2)\n",
      "y.shape = (200,)\n",
      "X[0:5,:] =\n",
      " [[185.31763812  12.69396457]\n",
      " [259.92047498  11.86766377]\n",
      " [231.01357101  14.41424211]\n",
      " [175.3666449   11.72058651]\n",
      " [187.12086467  14.12973206]]\n",
      "y[0:5] =\n",
      " [1. 0. 0. 0. 1.]\n"
     ]
    }
   ],
   "source": [
    "X, y = load_coffee_data()\n",
    "print(f\"X.shape = {X.shape}\")\n",
    "print(f\"y.shape = {y.shape}\")\n",
    "\n",
    "print(f\"X[0:5,:] =\\n {X[0:5,:]}\")\n",
    "print(f\"y[0:5] =\\n {y[0:5]}\")"
   ]
  },
  {
   "cell_type": "code",
   "execution_count": 20,
   "id": "bac3f2dc",
   "metadata": {},
   "outputs": [
    {
     "data": {
      "image/png": "[encoded data removed]",
      "text/plain": [
       "<Figure size 640x480 with 1 Axes>"
      ]
     },
     "metadata": {},
     "output_type": "display_data"
    }
   ],
   "source": [
    "good = y == 1\n",
    "bad = y == 0\n",
    "plt.plot(X[good,0],X[good,1],'xr',label='good')\n",
    "plt.plot(X[bad,0],X[bad,1],'ob',label='bad')\n",
    "plt.xlabel('$T\\;(\\mathrm{^oC})$')\n",
    "plt.ylabel('$t\\;(\\mathrm{min})$')\n",
    "plt.legend(frameon=False, loc='upper center', bbox_to_anchor=(0.5, 1.15), ncol=2)\n",
    "plt.show()"
   ]
  },
  {
   "cell_type": "markdown",
   "id": "2049c923",
   "metadata": {},
   "source": [
    "## Normalize the data using keras"
   ]
  },
  {
   "cell_type": "code",
   "execution_count": 21,
   "id": "d119c433",
   "metadata": {},
   "outputs": [],
   "source": [
    "norm_l = tf.keras.layers.Normalization(axis=-1)\n",
    "norm_l.adapt(X)\n",
    "Xn = norm_l(X).numpy()\n",
    "\n",
    "# # alternative approach\n",
    "# mean = np.mean(X,axis=0)\n",
    "# std = np.std(X,axis=0)\n",
    "# Xn = (X-mean)/std\n",
    "\n",
    "# tile data to increase the dataset\n",
    "Xt = np.tile(Xn,(1000,1))\n",
    "yt = np.tile(y,(1000,))  "
   ]
  },
  {
   "cell_type": "markdown",
   "id": "f9b1fa9a",
   "metadata": {},
   "source": [
    "## Creat a neural network\n",
    "Let's consider 1 hidden layer with 3 sigmoid units and an output sigmoid layer."
   ]
  },
  {
   "cell_type": "code",
   "execution_count": 22,
   "id": "3a176332",
   "metadata": {},
   "outputs": [
    {
     "name": "stdout",
     "output_type": "stream",
     "text": [
      "Model: \"sequential_1\"\n",
      "_________________________________________________________________\n",
      " Layer (type)                Output Shape              Param #   \n",
      "=================================================================\n",
      " L1 (Dense)                  (None, 3)                 9         \n",
      "                                                                 \n",
      " L2 (Dense)                  (None, 1)                 4         \n",
      "                                                                 \n",
      "=================================================================\n",
      "Total params: 13\n",
      "Trainable params: 13\n",
      "Non-trainable params: 0\n",
      "_________________________________________________________________\n"
     ]
    }
   ],
   "source": [
    "model = Sequential([\n",
    "    tf.keras.Input(shape=(2,)),\n",
    "    Dense(units=3, activation='sigmoid', name = \"L1\"),\n",
    "    Dense(units=1, activation='sigmoid', name = \"L2\")\n",
    "])\n",
    "\n",
    "model.summary()"
   ]
  },
  {
   "cell_type": "markdown",
   "id": "6449236c",
   "metadata": {},
   "source": [
    "## Compile with gradient descent and BinaryCrossentropy loss"
   ]
  },
  {
   "cell_type": "code",
   "execution_count": 23,
   "id": "5d7500fe",
   "metadata": {},
   "outputs": [
    {
     "name": "stdout",
     "output_type": "stream",
     "text": [
      "Epoch 1/10\n",
      "6250/6250 [==============================] - 4s 628us/step - loss: 0.3515\n",
      "Epoch 2/10\n",
      "6250/6250 [==============================] - 4s 634us/step - loss: 0.2062\n",
      "Epoch 3/10\n",
      "6250/6250 [==============================] - 4s 624us/step - loss: 0.1627\n",
      "Epoch 4/10\n",
      "6250/6250 [==============================] - 4s 628us/step - loss: 0.1530\n",
      "Epoch 5/10\n",
      "6250/6250 [==============================] - 4s 634us/step - loss: 0.1491\n",
      "Epoch 6/10\n",
      "6250/6250 [==============================] - 4s 627us/step - loss: 0.1467\n",
      "Epoch 7/10\n",
      "6250/6250 [==============================] - 4s 630us/step - loss: 0.1449\n",
      "Epoch 8/10\n",
      "6250/6250 [==============================] - 4s 609us/step - loss: 0.1435\n",
      "Epoch 9/10\n",
      "6250/6250 [==============================] - 4s 622us/step - loss: 0.1423\n",
      "Epoch 10/10\n",
      "6250/6250 [==============================] - 4s 649us/step - loss: 0.1412\n"
     ]
    },
    {
     "data": {
      "text/plain": [
       "<keras.callbacks.History at 0x7ff3140ed5b0>"
      ]
     },
     "execution_count": 23,
     "metadata": {},
     "output_type": "execute_result"
    }
   ],
   "source": [
    "model.compile(loss = tf.keras.losses.BinaryCrossentropy())\n",
    "model.fit(\n",
    "    Xt,yt,            \n",
    "    epochs=10,\n",
    ")"
   ]
  },
  {
   "cell_type": "markdown",
   "id": "4edf0651",
   "metadata": {},
   "source": [
    "## Compile with Adam optimization"
   ]
  },
  {
   "cell_type": "code",
   "execution_count": 24,
   "id": "7ed2d96b",
   "metadata": {},
   "outputs": [
    {
     "name": "stdout",
     "output_type": "stream",
     "text": [
      "Epoch 1/10\n",
      "6250/6250 [==============================] - 4s 632us/step - loss: 0.1379\n",
      "Epoch 2/10\n",
      "6250/6250 [==============================] - 4s 670us/step - loss: 0.1299\n",
      "Epoch 3/10\n",
      "6250/6250 [==============================] - 4s 663us/step - loss: 0.1180\n",
      "Epoch 4/10\n",
      "6250/6250 [==============================] - 4s 656us/step - loss: 0.0539\n",
      "Epoch 5/10\n",
      "6250/6250 [==============================] - 4s 650us/step - loss: 0.0176\n",
      "Epoch 6/10\n",
      "6250/6250 [==============================] - 4s 651us/step - loss: 0.0114\n",
      "Epoch 7/10\n",
      "6250/6250 [==============================] - 4s 669us/step - loss: 0.0080\n",
      "Epoch 8/10\n",
      "6250/6250 [==============================] - 4s 668us/step - loss: 0.0057\n",
      "Epoch 9/10\n",
      "6250/6250 [==============================] - 4s 663us/step - loss: 0.0042\n",
      "Epoch 10/10\n",
      "6250/6250 [==============================] - 4s 645us/step - loss: 0.0030\n"
     ]
    },
    {
     "data": {
      "text/plain": [
       "<keras.callbacks.History at 0x7ff3087e3d30>"
      ]
     },
     "execution_count": 24,
     "metadata": {},
     "output_type": "execute_result"
    }
   ],
   "source": [
    "model.compile(loss = tf.keras.losses.BinaryCrossentropy(),\n",
    "              optimizer = tf.keras.optimizers.Adam(learning_rate=0.01))\n",
    "model.fit(\n",
    "    Xt,yt,            \n",
    "    epochs=10,\n",
    ")"
   ]
  },
  {
   "cell_type": "code",
   "execution_count": 25,
   "id": "5f9e51e9",
   "metadata": {},
   "outputs": [
    {
     "name": "stdout",
     "output_type": "stream",
     "text": [
      "W1 = \n",
      " [[ -0.03552738 -10.556414   -17.23356   ]\n",
      " [ -8.38836     -0.16914871 -14.438399  ]] \n",
      "b1 =  [-10.489092  -11.594624   -2.5107577]\n",
      "W2 = \n",
      " [[-41.91532 ]\n",
      " [-46.967785]\n",
      " [ 32.910355]] \n",
      "b2 =  [-9.022997]\n"
     ]
    }
   ],
   "source": [
    "W1, b1 = model.get_layer(\"L1\").get_weights()\n",
    "W2, b2 = model.get_layer(\"L2\").get_weights()\n",
    "print(\"W1 = \\n\", W1, \"\\nb1 = \", b1)\n",
    "print(\"W2 = \\n\", W2, \"\\nb2 = \", b2)"
   ]
  },
  {
   "cell_type": "markdown",
   "id": "4f5517e0",
   "metadata": {},
   "source": [
    "## Prediction accuracy"
   ]
  },
  {
   "cell_type": "code",
   "execution_count": 26,
   "id": "68469781",
   "metadata": {},
   "outputs": [
    {
     "name": "stdout",
     "output_type": "stream",
     "text": [
      "1/1 [==============================] - 0s 32ms/step\n",
      "predictions (expect good) =  [[1.]]\n",
      "1/1 [==============================] - 0s 13ms/step\n",
      "predictions (expect bad) =  [[0.00012056]]\n"
     ]
    }
   ],
   "source": [
    "# expect good coffee\n",
    "T = 220\n",
    "t = 13\n",
    "X_testn = norm_l(np.array([[T,t]]))\n",
    "p = model.predict(X_testn)\n",
    "print(\"predictions (expect good) = \", p)\n",
    "\n",
    "# expect bad coffee\n",
    "T = 220\n",
    "t = 15\n",
    "X_testn = norm_l(np.array([[T,t]]))\n",
    "p = model.predict(X_testn)\n",
    "print(\"predictions (expect bad) = \", p)\n"
   ]
  },
  {
   "cell_type": "code",
   "execution_count": 27,
   "id": "4f43a3af",
   "metadata": {},
   "outputs": [
    {
     "name": "stdout",
     "output_type": "stream",
     "text": [
      "7/7 [==============================] - 0s 757us/step\n",
      "The training accuracy is 100.0%\n"
     ]
    }
   ],
   "source": [
    "p = model.predict(Xn)\n",
    "prob = np.zeros(len(p))\n",
    "for i in range(len(p)):\n",
    "    if p[i] >= 0.5:\n",
    "        prob[i] = 1\n",
    "        \n",
    "print(f\"The training accuracy is {np.mean(prob == y)*100}%\")"
   ]
  }
 ],
 "metadata": {
  "kernelspec": {
   "display_name": "Python 3 (ipykernel)",
   "language": "python",
   "name": "python3"
  },
  "language_info": {
   "codemirror_mode": {
    "name": "ipython",
    "version": 3
   },
   "file_extension": ".py",
   "mimetype": "text/x-python",
   "name": "python",
   "nbconvert_exporter": "python",
   "pygments_lexer": "ipython3",
   "version": "3.8.10"
  }
 },
 "nbformat": 4,
 "nbformat_minor": 5
}
