{
 "cells": [
  {
   "cell_type": "markdown",
   "id": "70e8e6d1",
   "metadata": {},
   "source": [
    "# A simple decision tree"
   ]
  },
  {
   "cell_type": "code",
   "execution_count": 34,
   "id": "a6069ae0",
   "metadata": {},
   "outputs": [],
   "source": [
    "import numpy as np\n",
    "import matplotlib.pyplot as plt"
   ]
  },
  {
   "cell_type": "markdown",
   "id": "15a8e2d8",
   "metadata": {},
   "source": [
    "## Problem statement\n",
    "We have a tabulated data on **ear shape** (pointy: 1, floppy: 0), **face shape** (round: 1, not round: 0), and **whiskers** (present: 1, absent: 0), and we want to predict if the an animal is a **cat**: 1 or a **dog**: 0.\n",
    "\n",
    "Let us create some data set."
   ]
  },
  {
   "cell_type": "code",
   "execution_count": 35,
   "id": "395e5f64",
   "metadata": {},
   "outputs": [
    {
     "name": "stdout",
     "output_type": "stream",
     "text": [
      "X.shape = (10, 3)\n",
      "y.shape = (10,)\n"
     ]
    }
   ],
   "source": [
    "X = np.array([\n",
    "    [1, 1, 1],\n",
    "    [0, 0, 1],\n",
    "    [0, 1, 0],\n",
    "    [1, 0, 1],\n",
    "    [1, 1, 1],\n",
    "    [1, 1, 0],\n",
    "    [0, 0, 0],\n",
    "    [1, 1, 0],\n",
    "    [0, 1, 0],\n",
    "    [0, 1, 0]])\n",
    "\n",
    "y = np.array([1, 1, 0, 0, 1, 1, 0, 1, 0, 0])\n",
    "\n",
    "print(f\"X.shape = {X.shape}\")\n",
    "print(f\"y.shape = {y.shape}\")"
   ]
  },
  {
   "cell_type": "markdown",
   "id": "a53c16d6",
   "metadata": {},
   "source": [
    "### Information gain\n",
    "We evaluate the information gain on splitting by\n",
    "$$G=H\\left(p^{(u)}\\right)-\\left[w^{(l)}H\\left(p^{(l)}\\right)+w^{(r)}H\\left(p^{(r)}\\right)\\right],$$\n",
    "where $w^{(l)}$ and $w^{(r)}$ are the weight fractions of the items splitted into the left and right subbranches, respectively, and $p^{(l)}$ and $p^{(r)}$ are the corresponding probabilities that a member is a cat. Similarly, $p^{(u)}$ is the probability that a member of the upper node is a cat. The entropy function $H(p)$ is\n",
    "$$H(p)=-p\\log_2(p)-(1-p)\\log_2(1-p).$$"
   ]
  },
  {
   "cell_type": "code",
   "execution_count": 36,
   "id": "081e0d3c",
   "metadata": {},
   "outputs": [
    {
     "name": "stdout",
     "output_type": "stream",
     "text": [
      "entropy at the root node = 1.0\n"
     ]
    }
   ],
   "source": [
    "def H(p):\n",
    "    if p == 0 or p == 1:\n",
    "        return 0\n",
    "    else:\n",
    "        return -p*np.log2(p)-(1-p)*np.log2(1-p)\n",
    "\n",
    "\n",
    "p_u = np.sum(y==1)/len(y)\n",
    "print(f\"entropy at the root node = {H(p_u)}\")\n"
   ]
  },
  {
   "cell_type": "markdown",
   "id": "b5135618",
   "metadata": {},
   "source": [
    "### Split on a given feature\n",
    "We write a function that does the splitting based on a feature"
   ]
  },
  {
   "cell_type": "code",
   "execution_count": 37,
   "id": "f6e9f87f",
   "metadata": {},
   "outputs": [],
   "source": [
    "def split(X_u,feature_index):\n",
    "    # feature_index can be 0 (ear shape), 1 (face shape), or 2 (whiskers)\n",
    "    left_indices = []# feature = 1\n",
    "    right_indices = []# feature = 0\n",
    "    for i, x in enumerate(X_u):\n",
    "        if x[feature_index] == 1:\n",
    "            left_indices.append(i)\n",
    "        else:\n",
    "            right_indices.append(i)\n",
    "    \n",
    "    return left_indices, right_indices"
   ]
  },
  {
   "cell_type": "code",
   "execution_count": 38,
   "id": "0f06b5b3",
   "metadata": {},
   "outputs": [
    {
     "name": "stdout",
     "output_type": "stream",
     "text": [
      "feature Ear Shape:\n",
      " left: [0, 3, 4, 5, 7]\n",
      " right: [1, 2, 6, 8, 9]\n"
     ]
    }
   ],
   "source": [
    "feature_list = ['Ear Shape','Face Shape','Whiskers']\n",
    "# test\n",
    "X_u, y_u = X, y\n",
    "feature_index = 0\n",
    "left_indices, right_indices = split(X_u,feature_index)\n",
    "print(f\"feature {feature_list[feature_index]}:\\n left: {left_indices}\\n right: {right_indices}\")"
   ]
  },
  {
   "cell_type": "markdown",
   "id": "4f675987",
   "metadata": {},
   "source": [
    "### Compute the information gain"
   ]
  },
  {
   "cell_type": "code",
   "execution_count": 39,
   "id": "c2d47959",
   "metadata": {},
   "outputs": [
    {
     "name": "stdout",
     "output_type": "stream",
     "text": [
      "Information gain is 0.28\n"
     ]
    }
   ],
   "source": [
    "w_l, w_r = len(left_indices)/len(X_u), len(right_indices)/len(X_u)\n",
    "y_l, y_r = y_u[left_indices], y_u[right_indices]\n",
    "p_l, p_r = sum(y_l==1)/len(y_l), sum(y_r==1)/len(y_r)\n",
    "G = H(p_u)-(w_l*H(p_l)+w_r*H(p_r))\n",
    "print(f\"Information gain is {G:.2f}\")"
   ]
  },
  {
   "cell_type": "markdown",
   "id": "797601a3",
   "metadata": {},
   "source": [
    "### A function that computes the information gain for all features"
   ]
  },
  {
   "cell_type": "code",
   "execution_count": 40,
   "id": "27a1e0b7",
   "metadata": {},
   "outputs": [],
   "source": [
    "def information_gain(X_u,y_u):\n",
    "    infoGain = []\n",
    "    for feature_index in range(X_u.shape[1]):\n",
    "        left_indices, right_indices = split(X_u,feature_index)\n",
    "        w_l, w_r = len(left_indices)/len(X_u), len(right_indices)/len(X_u)\n",
    "        y_l, y_r = y_u[left_indices], y_u[right_indices]\n",
    "        p_l, p_r = sum(y_l==1)/len(y_l), sum(y_r==1)/len(y_r)\n",
    "        G = H(p_u)-(w_l*H(p_l)+w_r*H(p_r))\n",
    "        infoGain.append(G)\n",
    "        \n",
    "    return infoGain"
   ]
  },
  {
   "cell_type": "code",
   "execution_count": 41,
   "id": "483717e0",
   "metadata": {},
   "outputs": [
    {
     "name": "stdout",
     "output_type": "stream",
     "text": [
      "Information gains are [0.2780719051126377, 0.034851554559677034, 0.12451124978365313]\n",
      "the best split is therefore on feature 0, i.e., Ear Shape\n"
     ]
    }
   ],
   "source": [
    "infoGain = information_gain(X_u,y_u)\n",
    "print(f\"Information gains are {infoGain}\")\n",
    "print(f\"the best split is therefore on feature {np.argmax(infoGain)}, i.e., {feature_list[np.argmax(infoGain)]}\")"
   ]
  },
  {
   "cell_type": "code",
   "execution_count": null,
   "id": "70489222",
   "metadata": {},
   "outputs": [],
   "source": []
  }
 ],
 "metadata": {
  "kernelspec": {
   "display_name": "Python 3 (ipykernel)",
   "language": "python",
   "name": "python3"
  },
  "language_info": {
   "codemirror_mode": {
    "name": "ipython",
    "version": 3
   },
   "file_extension": ".py",
   "mimetype": "text/x-python",
   "name": "python",
   "nbconvert_exporter": "python",
   "pygments_lexer": "ipython3",
   "version": "3.8.10"
  }
 },
 "nbformat": 4,
 "nbformat_minor": 5
}
