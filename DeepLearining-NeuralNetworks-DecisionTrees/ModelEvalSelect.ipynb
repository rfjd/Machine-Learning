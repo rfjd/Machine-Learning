{
 "cells": [
  {
   "cell_type": "markdown",
   "id": "70e8e6d1",
   "metadata": {},
   "source": [
    "# Model evaluation and selection"
   ]
  },
  {
   "cell_type": "markdown",
   "id": "da60f380",
   "metadata": {},
   "source": [
    "# <span style='color:Blue'> Regression: Polynomial Fitting  </span>"
   ]
  },
  {
   "cell_type": "code",
   "execution_count": 30,
   "id": "a6069ae0",
   "metadata": {},
   "outputs": [],
   "source": [
    "%run src.ipynb\n",
    "from sklearn import linear_model\n",
    "from sklearn.metrics import mean_squared_error\n",
    "from sklearn.preprocessing import PolynomialFeatures\n",
    "from sklearn.model_selection import train_test_split\n",
    "\n",
    "data = np.loadtxt('../data/data_modelEvalSelect_reg.csv', delimiter=',')\n",
    "\n",
    "X = data[:,0].reshape((-1,1))\n",
    "y = data[:,1].reshape((-1,1))"
   ]
  },
  {
   "cell_type": "markdown",
   "id": "15a8e2d8",
   "metadata": {},
   "source": [
    "## Split the data into traing (60%), dev (20%), and test (20%) sets"
   ]
  },
  {
   "cell_type": "code",
   "execution_count": 31,
   "id": "395e5f64",
   "metadata": {},
   "outputs": [
    {
     "name": "stdout",
     "output_type": "stream",
     "text": [
      "X.shape = (50, 1), X_train.shape = (30, 1), X_dev.shape = (10, 1), X_test.shape = (10, 1)\n",
      "y.shape = (50, 1), y_train.shape = (30, 1), y_dev.shape = (10, 1), y_test.shape = (10, 1)\n"
     ]
    }
   ],
   "source": [
    "X_train, X_, y_train, y_ = train_test_split(X,y,train_size=0.6, random_state=1)\n",
    "X_dev, X_test, y_dev, y_test = train_test_split(X_,y_,train_size=0.5, random_state=1)\n",
    "print(f\"X.shape = {X.shape}, X_train.shape = {X_train.shape}, X_dev.shape = {X_dev.shape}, X_test.shape = {X_test.shape}\")\n",
    "print(f\"y.shape = {y.shape}, y_train.shape = {y_train.shape}, y_dev.shape = {y_dev.shape}, y_test.shape = {y_test.shape}\")"
   ]
  },
  {
   "cell_type": "markdown",
   "id": "faff4e02",
   "metadata": {},
   "source": [
    "## Plot different data sets"
   ]
  },
  {
   "cell_type": "code",
   "execution_count": 32,
   "id": "c7883a71",
   "metadata": {},
   "outputs": [
    {
     "data": {
      "image/png": "[encoded data removed]",
      "text/plain": [
       "<Figure size 600x400 with 1 Axes>"
      ]
     },
     "metadata": {},
     "output_type": "display_data"
    }
   ],
   "source": [
    "def PLOT():\n",
    "    plt.figure(figsize=[6,4])\n",
    "    plt.plot(X_train,y_train,'xr',label='train')\n",
    "    plt.plot(X_dev,y_dev,'ob',label='dev')\n",
    "    plt.plot(X_test,y_test,'^g',label='test')\n",
    "    plt.xlabel('$x$')\n",
    "    plt.ylabel('$y$')\n",
    "    plt.legend(frameon=False)\n",
    "\n",
    "PLOT()\n",
    "plt.show()"
   ]
  },
  {
   "cell_type": "markdown",
   "id": "a53c16d6",
   "metadata": {},
   "source": [
    "## Write a for loop to evaluate polynomial models of different degrees"
   ]
  },
  {
   "cell_type": "code",
   "execution_count": 33,
   "id": "081e0d3c",
   "metadata": {},
   "outputs": [
    {
     "name": "stdout",
     "output_type": "stream",
     "text": [
      "train_MSE, dev_MSE =\n",
      " [[406.19401633 551.77843084]\n",
      " [ 49.11170759  87.6977129 ]\n",
      " [ 47.61634515  81.15043375]\n",
      " [ 47.1463707   79.43221405]\n",
      " [ 47.14266887  79.58792065]]\n"
     ]
    },
    {
     "data": {
      "image/png": "[encoded data removed]",
      "text/plain": [
       "<Figure size 600x400 with 1 Axes>"
      ]
     },
     "metadata": {},
     "output_type": "display_data"
    }
   ],
   "source": [
    "train_MSE = []\n",
    "dev_MSE = []\n",
    "models = []\n",
    "norm_ls = []\n",
    "\n",
    "degrees = range(1,6)\n",
    "for degree in degrees:\n",
    "    # Generate the mapped features\n",
    "    poly = PolynomialFeatures(degree=degree, include_bias=True)\n",
    "    X_trainMapped = poly.fit_transform(X_train)\n",
    "    \n",
    "    # Normalize the mapped training data\n",
    "    norm_l = tf.keras.layers.Normalization(axis=-1)\n",
    "    norm_l.adapt(X_trainMapped)\n",
    "    X_trainMappedn = norm_l(X_trainMapped)\n",
    "    norm_ls.append(norm_l)\n",
    "    \n",
    "    # Fit the normalized mapped training data\n",
    "    regr = linear_model.LinearRegression(fit_intercept=True)\n",
    "    regr.fit(X_trainMappedn,y_train)\n",
    "    models.append(regr)\n",
    "\n",
    "    # Compute mean-squared-error for the training data\n",
    "    yPredict = regr.predict(X_trainMappedn)\n",
    "    train_MSE.append(0.5*mean_squared_error(y_train,yPredict))\n",
    "    \n",
    "    # Map and normalize the dev data\n",
    "    X_devMapped = poly.fit_transform(X_dev)\n",
    "    X_devMappedn = norm_l(X_devMapped)\n",
    "    \n",
    "    # Compute mean-square-error for the dev data\n",
    "    yPredict = regr.predict(X_devMappedn)\n",
    "    dev_MSE.append(0.5*mean_squared_error(y_dev,yPredict))\n",
    "    \n",
    "\n",
    "print(f\"train_MSE, dev_MSE =\\n {np.c_[train_MSE,dev_MSE]}\")\n",
    "\n",
    "    \n",
    "plt.figure(figsize=[6,4])\n",
    "plt.plot(degrees,train_MSE,'xk',label='train')\n",
    "plt.plot(degrees,dev_MSE,'sb',label='dev')\n",
    "plt.xlabel('$n$')\n",
    "plt.ylabel('MSE')\n",
    "plt.legend(frameon=False)\n",
    "plt.show()"
   ]
  },
  {
   "cell_type": "markdown",
   "id": "780749cc",
   "metadata": {},
   "source": [
    "## Select the best model"
   ]
  },
  {
   "cell_type": "code",
   "execution_count": 34,
   "id": "5b7364a4",
   "metadata": {},
   "outputs": [
    {
     "name": "stdout",
     "output_type": "stream",
     "text": [
      "lowest dev MSE occurs for a polynomial of degree n = 4\n"
     ]
    }
   ],
   "source": [
    "degree = degrees[np.argmin(dev_MSE)]\n",
    "print(f\"lowest dev MSE occurs for a polynomial of degree n = {degree}\")"
   ]
  },
  {
   "cell_type": "markdown",
   "id": "15d907aa",
   "metadata": {},
   "source": [
    "## Report the MSE for test data"
   ]
  },
  {
   "cell_type": "code",
   "execution_count": 35,
   "id": "a4ea8512",
   "metadata": {},
   "outputs": [
    {
     "name": "stdout",
     "output_type": "stream",
     "text": [
      "train MSE is 47.1463707040191\n",
      "dev MSE is 79.43221404823902\n",
      "test MSE is 104.6326069150847\n"
     ]
    }
   ],
   "source": [
    "index = np.argmin(dev_MSE)\n",
    "poly = PolynomialFeatures(degree=degrees[index], include_bias=True)\n",
    "X_testMapped = poly.fit_transform(X_test)\n",
    "X_testMappedn = norm_ls[index](X_testMapped)\n",
    "yPredict = models[index].predict(X_testMappedn)\n",
    "\n",
    "print(f\"train MSE is {train_MSE[index]}\")\n",
    "print(f\"dev MSE is {dev_MSE[index]}\")\n",
    "print(f\"test MSE is {0.5*mean_squared_error(y_test,yPredict)}\")"
   ]
  },
  {
   "cell_type": "markdown",
   "id": "ac1441db",
   "metadata": {},
   "source": [
    "## Plot the data and best polynomial fit"
   ]
  },
  {
   "cell_type": "code",
   "execution_count": 36,
   "id": "c4d59c14",
   "metadata": {},
   "outputs": [
    {
     "data": {
      "image/png": "[encoded data removed]",
      "text/plain": [
       "<Figure size 600x400 with 1 Axes>"
      ]
     },
     "metadata": {},
     "output_type": "display_data"
    }
   ],
   "source": [
    "PLOT()\n",
    "X_Mapped = poly.fit_transform(X)\n",
    "X_Mappedn = norm_ls[index](X_Mapped)\n",
    "yPredict = models[index].predict(X_Mappedn)\n",
    "plt.plot(X,yPredict,'-k',label='model')\n",
    "\n",
    "plt.legend(frameon=False)\n",
    "plt.show()"
   ]
  },
  {
   "cell_type": "markdown",
   "id": "e3e2273b",
   "metadata": {},
   "source": [
    "# <span style='color:Blue'> Regression: Neural Network </span>\n",
    "We follow a similar procedure but for 3 different neural network architectures."
   ]
  },
  {
   "cell_type": "markdown",
   "id": "b00fa82c",
   "metadata": {},
   "source": [
    "## Write a for loop to evaluate different neural network architectures"
   ]
  },
  {
   "cell_type": "code",
   "execution_count": 37,
   "id": "5dd159f7",
   "metadata": {},
   "outputs": [],
   "source": [
    "def build_models():\n",
    "    model_1 = Sequential(\n",
    "        [\n",
    "            Dense(25, activation = 'relu'),\n",
    "            Dense(15, activation = 'relu'),\n",
    "            Dense(1, activation = 'linear')\n",
    "        ],\n",
    "        name='model_1'\n",
    "    )\n",
    "\n",
    "    model_2 = Sequential(\n",
    "        [\n",
    "            Dense(20, activation = 'relu'),\n",
    "            Dense(12, activation = 'relu'),\n",
    "            Dense(12, activation = 'relu'),\n",
    "            Dense(20, activation = 'relu'),\n",
    "            Dense(1, activation = 'linear')\n",
    "        ],\n",
    "        name='model_2'\n",
    "    )\n",
    "\n",
    "    model_3 = Sequential(\n",
    "        [\n",
    "            Dense(32, activation = 'relu'),\n",
    "            Dense(16, activation = 'relu'),\n",
    "            Dense(8, activation = 'relu'),\n",
    "            Dense(4, activation = 'relu'),\n",
    "            Dense(12, activation = 'relu'),\n",
    "            Dense(1, activation = 'linear')\n",
    "        ],\n",
    "        name='model_3'\n",
    "    )\n",
    "    \n",
    "    model_list = [model_1, model_2, model_3]\n",
    "    \n",
    "    return model_list\n"
   ]
  },
  {
   "cell_type": "code",
   "execution_count": 39,
   "id": "2f6b8ae3",
   "metadata": {},
   "outputs": [
    {
     "name": "stdout",
     "output_type": "stream",
     "text": [
      "Model 1: train_MSE, dev_MSE = (75.39194115066613, 98.69666235392309)\n",
      "\n",
      "Model 2: train_MSE, dev_MSE = (73.19237018268205, 111.95213581875915)\n",
      "\n",
      "Model 3: train_MSE, dev_MSE = (54.741553302572925, 85.04318709551109)\n",
      "\n"
     ]
    }
   ],
   "source": [
    "models = build_models()\n",
    "\n",
    "train_MSE = []\n",
    "dev_MSE = []\n",
    "\n",
    "norm_l = tf.keras.layers.Normalization(axis=-1)\n",
    "norm_l.adapt(X_train)\n",
    "X_trainn = norm_l(X_train)\n",
    "X_devn = norm_l(X_dev)\n",
    "X_testn = norm_l(X_test)\n",
    "\n",
    "for model in models:\n",
    "    model.compile(loss=tf.keras.losses.MeanSquaredError(),\n",
    "                  optimizer=tf.keras.optimizers.Adam(learning_rate=0.1))\n",
    "    \n",
    "    model.fit(\n",
    "        X_trainn, y_train,\n",
    "        epochs=300,\n",
    "        verbose=0\n",
    "    )\n",
    "    yPredict = model.predict(X_trainn,verbose=0)\n",
    "    train_MSE.append(0.5*mean_squared_error(y_train, yPredict))\n",
    "    \n",
    "    # dev MSE\n",
    "    yPredict = model.predict(X_devn,verbose=0)\n",
    "    dev_MSE.append(0.5*mean_squared_error(y_dev, yPredict))\n",
    "    \n",
    "\n",
    "for i in range(len(models)):\n",
    "    print(f\"Model {i+1}: train_MSE, dev_MSE = {train_MSE[i], dev_MSE[i]}\\n\")\n"
   ]
  },
  {
   "cell_type": "markdown",
   "id": "02f69cf6",
   "metadata": {},
   "source": [
    "## Notes:\n",
    "\n",
    "* A simple linear regression could be obtained by setting all the activations linear.\n",
    "* Rerunning the code above yields different results since the model initializes the parameters randomly, even if you call tf.random.set_seed(seed_number).\n",
    "\n",
    "We pick the third model. We can now compute the test MSE."
   ]
  },
  {
   "cell_type": "code",
   "execution_count": 40,
   "id": "08f10b4b",
   "metadata": {},
   "outputs": [
    {
     "name": "stdout",
     "output_type": "stream",
     "text": [
      "train MSE is 54.741553302572925\n",
      "dev MSE is 85.04318709551109\n",
      "test MSE is 97.17108936372033\n"
     ]
    }
   ],
   "source": [
    "yPredict = model.predict(X_testn,verbose=0)\n",
    "test_MSE = 0.5*mean_squared_error(y_test,yPredict)\n",
    "\n",
    "index = np.argmin(dev_MSE)\n",
    "print(f\"train MSE is {train_MSE[index]}\")\n",
    "print(f\"dev MSE is {dev_MSE[index]}\")\n",
    "print(f\"test MSE is {test_MSE}\")"
   ]
  },
  {
   "cell_type": "markdown",
   "id": "314d26fd",
   "metadata": {},
   "source": [
    "## Plot the data and best model"
   ]
  },
  {
   "cell_type": "code",
   "execution_count": 41,
   "id": "e4d3ba65",
   "metadata": {},
   "outputs": [
    {
     "data": {
      "image/png": "[encoded data removed]",
      "text/plain": [
       "<Figure size 600x400 with 1 Axes>"
      ]
     },
     "metadata": {},
     "output_type": "display_data"
    }
   ],
   "source": [
    "PLOT()\n",
    "yPredict = models[index].predict(norm_l(X),verbose = 0)\n",
    "plt.plot(X,yPredict,'-k',label='model')\n",
    "\n",
    "plt.legend(frameon=False)\n",
    "plt.show()"
   ]
  },
  {
   "cell_type": "markdown",
   "id": "6fd7332b",
   "metadata": {},
   "source": [
    "# <span style='color:Blue'> Classification </span>"
   ]
  },
  {
   "cell_type": "markdown",
   "id": "9ec2a6eb",
   "metadata": {},
   "source": [
    "## Load data and plot"
   ]
  },
  {
   "cell_type": "code",
   "execution_count": 42,
   "id": "f982d93b",
   "metadata": {},
   "outputs": [
    {
     "name": "stdout",
     "output_type": "stream",
     "text": [
      "data.shape = (200, 3)\n",
      "X.shape = (200, 2)\n",
      "y.shape = (200, 1)\n"
     ]
    },
    {
     "data": {
      "image/png": "[encoded data removed]",
      "text/plain": [
       "<Figure size 600x400 with 1 Axes>"
      ]
     },
     "metadata": {},
     "output_type": "display_data"
    }
   ],
   "source": [
    "data = data = np.loadtxt('../data/data_modelEvalSelect_cat.csv', delimiter=',')\n",
    "print(f\"data.shape = {data.shape}\")\n",
    "X = data[:,0:-1]\n",
    "y = data[:,-1].reshape((-1,1))\n",
    "print(f\"X.shape = {X.shape}\")\n",
    "print(f\"y.shape = {y.shape}\")\n",
    "\n",
    "yes = y[:,0] == 1\n",
    "no = y[:,0] == 0\n",
    "\n",
    "plt.figure(figsize=[6,4])\n",
    "plt.plot(X[yes,0],X[yes,1],'xr',label='yes')\n",
    "plt.plot(X[no,0],X[no,1],'ob',label='no')\n",
    "plt.xlabel('$x_1$')\n",
    "plt.ylabel('$x_2$')\n",
    "plt.show()"
   ]
  },
  {
   "cell_type": "markdown",
   "id": "29939ecc",
   "metadata": {},
   "source": [
    "## Split the data using Scikit-learn"
   ]
  },
  {
   "cell_type": "code",
   "execution_count": 43,
   "id": "70f7c8cc",
   "metadata": {},
   "outputs": [
    {
     "name": "stdout",
     "output_type": "stream",
     "text": [
      "[[7964.8241206   603.01507538]\n",
      " [5070.35175879 2487.43718593]\n",
      " [4663.31658291 2261.30653266]\n",
      " [6517.5879397  3693.46733668]\n",
      " [9638.19095477 3241.20603015]]\n",
      "X.shape = (200, 2), X_train.shape = (120, 2), X_dev.shape = (40, 2), X_test.shape = (40, 2)\n",
      "y.shape = (200, 1), y_train.shape = (120, 1), y_dev.shape = (40, 1), y_test.shape = (40, 1)\n"
     ]
    }
   ],
   "source": [
    "X_train, X_, y_train, y_ = train_test_split(X,y,train_size=0.6, random_state=1)\n",
    "X_dev, X_test, y_dev, y_test = train_test_split(X_,y_,train_size=0.5, random_state=1)\n",
    "print(X_train[:5,:])\n",
    "print(f\"X.shape = {X.shape}, X_train.shape = {X_train.shape}, X_dev.shape = {X_dev.shape}, X_test.shape = {X_test.shape}\")\n",
    "print(f\"y.shape = {y.shape}, y_train.shape = {y_train.shape}, y_dev.shape = {y_dev.shape}, y_test.shape = {y_test.shape}\")"
   ]
  },
  {
   "cell_type": "markdown",
   "id": "38d8d358",
   "metadata": {},
   "source": [
    "## Neural network models\n",
    "We use the same architectures we had for the regression problem. The output layer is linear and will be converted to probability by **sigmoid** function. Additionally, we will use BinaryCrossentropy for the loss with from_logits=True."
   ]
  },
  {
   "cell_type": "code",
   "execution_count": 48,
   "id": "d1670d62",
   "metadata": {},
   "outputs": [
    {
     "name": "stdout",
     "output_type": "stream",
     "text": [
      "Model 1: train_Err, dev_Err = 0.20000, 0.20000\n",
      "\n",
      "Model 2: train_Err, dev_Err = 0.32500, 0.32500\n",
      "\n",
      "Model 3: train_Err, dev_Err = 0.15833, 0.05000\n",
      "\n"
     ]
    }
   ],
   "source": [
    "train_Err = []\n",
    "dev_Err = []\n",
    "\n",
    "models = build_models()\n",
    "\n",
    "for model in models:\n",
    "    model.compile(loss=tf.keras.losses.BinaryCrossentropy(from_logits=True),\n",
    "                  optimizer=tf.keras.optimizers.Adam(learning_rate=0.01))\n",
    "\n",
    "    \n",
    "    model.fit(X_train, y_train, epochs=200, verbose=0)\n",
    "    \n",
    "    z = model.predict(X_train,verbose=0)\n",
    "    probs = tf.math.sigmoid(z)\n",
    "    yPredict = np.where(probs >= 0.5, 1, 0)\n",
    "    train_Err.append(np.mean(yPredict != y_train))\n",
    "\n",
    "    z = model.predict(X_dev,verbose=0)\n",
    "    probs = tf.math.sigmoid(z)\n",
    "    yPredict = np.where(probs >= 0.5, 1, 0)\n",
    "    dev_Err.append(np.mean(yPredict != y_dev))\n",
    "\n",
    "\n",
    "for i in range(len(models)):\n",
    "    print(f\"Model {i+1}: train_Err, dev_Err = {train_Err[i]:.5f}, {dev_Err[i]:.5f}\\n\")"
   ]
  },
  {
   "cell_type": "code",
   "execution_count": 49,
   "id": "910a9132",
   "metadata": {},
   "outputs": [
    {
     "name": "stdout",
     "output_type": "stream",
     "text": [
      "train Err is 0.15833\n",
      "dev Err is 0.05000\n",
      "test Err is 0.07500\n"
     ]
    }
   ],
   "source": [
    "index = np.argmin(dev_Err)\n",
    "z = models[index].predict(X_test,verbose=0)\n",
    "probs = tf.math.sigmoid(z)\n",
    "yPredict = np.where(probs >= 0.5, 1, 0)\n",
    "test_Err = np.mean(yPredict != y_test)\n",
    "    \n",
    "print(f\"train Err is {train_Err[index]:.5f}\")\n",
    "print(f\"dev Err is {dev_Err[index]:.5f}\")\n",
    "print(f\"test Err is {test_Err:.5f}\")"
   ]
  },
  {
   "cell_type": "code",
   "execution_count": null,
   "id": "ced4bcb0",
   "metadata": {},
   "outputs": [],
   "source": []
  }
 ],
 "metadata": {
  "kernelspec": {
   "display_name": "Python 3 (ipykernel)",
   "language": "python",
   "name": "python3"
  },
  "language_info": {
   "codemirror_mode": {
    "name": "ipython",
    "version": 3
   },
   "file_extension": ".py",
   "mimetype": "text/x-python",
   "name": "python",
   "nbconvert_exporter": "python",
   "pygments_lexer": "ipython3",
   "version": "3.8.10"
  }
 },
 "nbformat": 4,
 "nbformat_minor": 5
}
