{
 "cells": [
  {
   "cell_type": "markdown",
   "id": "6056fc3c",
   "metadata": {},
   "source": [
    "# A made-up multiple-class classification problem"
   ]
  },
  {
   "cell_type": "code",
   "execution_count": 19,
   "id": "2bd38d8a",
   "metadata": {},
   "outputs": [],
   "source": [
    "%run src.ipynb"
   ]
  },
  {
   "cell_type": "markdown",
   "id": "c17b8484",
   "metadata": {},
   "source": [
    "## Create sample clustered data\n",
    "We use scikit-learn make_blob function to create clusters of data around 4 different (x,y) center points."
   ]
  },
  {
   "cell_type": "code",
   "execution_count": 20,
   "id": "120db797",
   "metadata": {},
   "outputs": [
    {
     "name": "stdout",
     "output_type": "stream",
     "text": [
      "X.shape = (100, 2)\n",
      "y.shape = (100,)\n",
      "X[0:7,:] =\n",
      " [[ 6.18378345 -1.82591768]\n",
      " [-0.16529921 -0.61662645]\n",
      " [ 2.0451271   1.39659221]\n",
      " [-3.29766269  2.58359451]\n",
      " [ 4.88002226 -0.59059992]\n",
      " [ 5.47394872  2.74620896]\n",
      " [-3.84657788  1.82062174]]\n",
      "y[0:7] = [3 1 2 0 3 2 0]\n",
      "np.unique(y) = [0 1 2 3]\n"
     ]
    }
   ],
   "source": [
    "X, y = make_blobs(n_samples=100, centers=[[-4, 2], [-2, -2], [3, 2], [5, -2]], cluster_std=1)\n",
    "print(f\"X.shape = {X.shape}\")\n",
    "print(f\"y.shape = {y.shape}\")\n",
    "print(f\"X[0:7,:] =\\n {X[0:7,:]}\")\n",
    "print(f\"y[0:7] = {y[0:7]}\")\n",
    "print(f\"np.unique(y) = {np.unique(y)}\")"
   ]
  },
  {
   "cell_type": "markdown",
   "id": "34a09ae8",
   "metadata": {},
   "source": [
    "## Display the data"
   ]
  },
  {
   "cell_type": "code",
   "execution_count": 21,
   "id": "bac3f2dc",
   "metadata": {},
   "outputs": [
    {
     "data": {
      "image/png": "[encoded data removed]",
      "text/plain": [
       "<Figure size 640x480 with 1 Axes>"
      ]
     },
     "metadata": {},
     "output_type": "display_data"
    }
   ],
   "source": [
    "marker = ['or','sb','xg','dk']\n",
    "\n",
    "for i in range(4):\n",
    "    index = y == i\n",
    "    plt.plot(X[index,0],X[index,1],marker[i],label=f\"class {i}\")\n",
    "    \n",
    "plt.xlabel(\"$x_1$\")\n",
    "plt.ylabel(\"$x_2$\")\n",
    "plt.legend(frameon=False)\n",
    "\n",
    "plt.show()"
   ]
  },
  {
   "cell_type": "markdown",
   "id": "3d69c97a",
   "metadata": {},
   "source": [
    "## Normalize the data using keras"
   ]
  },
  {
   "cell_type": "code",
   "execution_count": 22,
   "id": "84022f45",
   "metadata": {},
   "outputs": [],
   "source": [
    "norm_l = tf.keras.layers.Normalization(axis=-1)\n",
    "norm_l.adapt(X)\n",
    "Xn = norm_l(X).numpy()"
   ]
  },
  {
   "cell_type": "markdown",
   "id": "2049c923",
   "metadata": {},
   "source": [
    "## Creat a neural network\n",
    "Let's consider 1 hidden layer with 2 ReLU units, and an output **softmax** layer."
   ]
  },
  {
   "cell_type": "code",
   "execution_count": 23,
   "id": "d119c433",
   "metadata": {},
   "outputs": [
    {
     "name": "stdout",
     "output_type": "stream",
     "text": [
      "W1.shape = (2, 2); b1.shape = (2,)\n",
      "W1 =\n",
      "[[-1.1777648   1.1097189 ]\n",
      " [ 0.61041164 -0.6500264 ]]\n",
      "b1 =\n",
      " [0. 0.]\n",
      "Model: \"sequential_1\"\n",
      "_________________________________________________________________\n",
      " Layer (type)                Output Shape              Param #   \n",
      "=================================================================\n",
      " L1 (Dense)                  (None, 2)                 6         \n",
      "                                                                 \n",
      " L2 (Dense)                  (None, 4)                 12        \n",
      "                                                                 \n",
      "=================================================================\n",
      "Total params: 18\n",
      "Trainable params: 18\n",
      "Non-trainable params: 0\n",
      "_________________________________________________________________\n"
     ]
    }
   ],
   "source": [
    "model = Sequential([\n",
    "    tf.keras.Input(shape=(2,)),\n",
    "    Dense(units=2, activation='relu', name = \"L1\"),\n",
    "    Dense(units=4, activation='softmax', name = \"L2\")\n",
    "])\n",
    "\n",
    "W1, b1 = model.get_layer(\"L1\").get_weights()\n",
    "print(f\"W1.shape = {W1.shape}; b1.shape = {b1.shape}\")\n",
    "print(f\"W1 =\\n{W1}\\nb1 =\\n {b1}\")\n",
    "\n",
    "model.summary()"
   ]
  },
  {
   "cell_type": "markdown",
   "id": "4edf0651",
   "metadata": {},
   "source": [
    "## Compile with Adam optimization"
   ]
  },
  {
   "cell_type": "code",
   "execution_count": 24,
   "id": "7ed2d96b",
   "metadata": {},
   "outputs": [
    {
     "data": {
      "text/plain": [
       "<keras.callbacks.History at 0x7f9780255280>"
      ]
     },
     "execution_count": 24,
     "metadata": {},
     "output_type": "execute_result"
    }
   ],
   "source": [
    "model.compile(\n",
    "    loss=tf.keras.losses.SparseCategoricalCrossentropy(),\n",
    "    optimizer=tf.keras.optimizers.Adam(0.01)\n",
    ")\n",
    "\n",
    "model.fit(\n",
    "    Xn,y,\n",
    "    epochs=200,\n",
    "    verbose = 0\n",
    ")"
   ]
  },
  {
   "cell_type": "markdown",
   "id": "4f5517e0",
   "metadata": {},
   "source": [
    "## Prediction accuracy"
   ]
  },
  {
   "cell_type": "code",
   "execution_count": 25,
   "id": "6741ca92",
   "metadata": {},
   "outputs": [
    {
     "name": "stdout",
     "output_type": "stream",
     "text": [
      "all predictions = [[0.0048903  0.01821746 0.97145575 0.00543642]]\n",
      "predictions (expect class 2) = 2\n",
      "all predictions = [[7.1077020e-09 9.9998093e-01 1.6400792e-05 2.5680934e-06]]\n",
      "predictions (expect class 1) = 1\n"
     ]
    }
   ],
   "source": [
    "# expect class 2\n",
    "x1 = 4\n",
    "x2 = 3\n",
    "X_testn = norm_l(np.array([[x1,x2]]))\n",
    "p = model.predict(X_testn, verbose = 0)\n",
    "print(f\"all predictions = {p}\")\n",
    "print(f\"predictions (expect class 2) = {np.argmax(p)}\")\n",
    "\n",
    "# expect class 1\n",
    "x1 = -2\n",
    "x2 = -3\n",
    "X_testn = norm_l(np.array([[x1,x2]]))\n",
    "p = model.predict(X_testn, verbose = 0)\n",
    "print(f\"all predictions = {p}\")\n",
    "print(f\"predictions (expect class 1) = {np.argmax(p)}\")"
   ]
  },
  {
   "cell_type": "code",
   "execution_count": 26,
   "id": "8b982825",
   "metadata": {},
   "outputs": [
    {
     "name": "stdout",
     "output_type": "stream",
     "text": [
      "The training accuracy is 99.0%\n"
     ]
    }
   ],
   "source": [
    "p = model.predict(Xn, verbose = 0)\n",
    "classification = np.argmax(p,axis=1)\n",
    "print(f\"The training accuracy is {np.mean(classification == y)*100}%\")"
   ]
  },
  {
   "cell_type": "code",
   "execution_count": null,
   "id": "b0e122cc",
   "metadata": {},
   "outputs": [],
   "source": []
  }
 ],
 "metadata": {
  "kernelspec": {
   "display_name": "Python 3 (ipykernel)",
   "language": "python",
   "name": "python3"
  },
  "language_info": {
   "codemirror_mode": {
    "name": "ipython",
    "version": 3
   },
   "file_extension": ".py",
   "mimetype": "text/x-python",
   "name": "python",
   "nbconvert_exporter": "python",
   "pygments_lexer": "ipython3",
   "version": "3.8.10"
  }
 },
 "nbformat": 4,
 "nbformat_minor": 5
}
